{
 "cells": [
  {
   "cell_type": "code",
   "execution_count": 136,
   "id": "074931f5",
   "metadata": {},
   "outputs": [
    {
     "data": {
      "text/plain": [
       "'One ring to rule them all, one ring to find them, One ring to bring them all, and in the bind them; In the Land of Mordor where the shadows lie.'"
      ]
     },
     "execution_count": 136,
     "metadata": {},
     "output_type": "execute_result"
    }
   ],
   "source": [
    "#Question 1\n",
    "\n",
    "def removeLongestWord(sentence):\n",
    "    #Bu code sadece [, ; . \"boşluk\"] için execute edilmek üzere düşünüldü.\n",
    "    originalStrList=sentence.replace(\",\",\">,\")\n",
    "    originalStrList=originalStrList.replace(\";\",\">;\")\n",
    "    originalStrList=originalStrList.replace(\".\",\">.\")\n",
    "    originalStrList=originalStrList.replace(\" \",\"> \")\n",
    "    originalStrList=originalStrList.split(\">\")\n",
    "    strList=[]\n",
    "    maxLength=0\n",
    "    maxWord=\"\"\n",
    "    for item in originalStrList:\n",
    "        item = item.strip(\" \")\n",
    "        strList.append(item)\n",
    "    for x in strList:\n",
    "        if len(x) > maxLength:\n",
    "            maxLength = len(x)\n",
    "            maxWord=x\n",
    "    if maxWord != strList[0]:\n",
    "        maxWord = \" \" + maxWord\n",
    "        location = originalStrList.index(maxWord)\n",
    "        originalStrList.pop(location)\n",
    "        yeniStr = \"\".join(originalStrList)\n",
    "    else: #Baştaki eleman en uzun kelime olursa durumu içindir.\n",
    "        location = originalStrList.index(maxWord)\n",
    "        originalStrList.pop(location)\n",
    "        originalStrList[0]=originalStrList[0].strip(\" \").capitalize()\n",
    "        yeniStr = \"\".join(originalStrList)\n",
    "    return yeniStr\n",
    "    \n",
    "    \n",
    "tolkien=\"One ring to rule them all, one ring to find them, One ring to bring them all, and in the darkness bind them; In the Land of Mordor where the shadows lie.\"\n",
    "removeLongestWord(tolkien)"
   ]
  },
  {
   "cell_type": "code",
   "execution_count": 145,
   "id": "a64e3b25",
   "metadata": {},
   "outputs": [
    {
     "data": {
      "text/plain": [
       "['Mustafa', 'Ahmet', 'Ali', 'Ayşe', 'Mehmet', 'Fatma', 'Zeynep']"
      ]
     },
     "execution_count": 145,
     "metadata": {},
     "output_type": "execute_result"
    }
   ],
   "source": [
    "#Question 2\n",
    "\n",
    "def shiftList(names):\n",
    "    yeniNames =[]\n",
    "    yeniNames.append(names[len(names)-1])\n",
    "    for i in range(0,len(names)-1):\n",
    "        yeniNames.append(names[i])\n",
    "    return yeniNames\n",
    "\n",
    "inputnames = [\"Ahmet\", \"Ali\", \"Ayşe\", \"Mehmet\", \"Fatma\", \"Zeynep\", \"Mustafa\"]\n",
    "shiftList(inputnames)"
   ]
  },
  {
   "cell_type": "code",
   "execution_count": 146,
   "id": "aeb84840",
   "metadata": {},
   "outputs": [],
   "source": [
    "#Question 3\n",
    "\n",
    "def stockInfo(file1,file2):\n",
    "    doc1 = open(file1,\"r\")\n",
    "    doc2 = open(file2,\"r\")\n",
    "    lines1 = doc1.readlines()\n",
    "    lines2 = doc2.readlines()\n",
    "    dict1=dict()\n",
    "    dict2=dict()\n",
    "    stocktext = open(\"stok.txt\",\"w\")\n",
    "    stockline=\"\"\n",
    "    stockset=set()\n",
    "    stockdict=dict()\n",
    "    for line1 in lines1:\n",
    "        line1=line1.strip(\"\\n\").split(\": \")\n",
    "        dict1[line1[0]]=line1[1]\n",
    "        stockset.add(line1[0])\n",
    "    for line2 in lines2:\n",
    "        line2=line2.strip(\"\\n\").split(\": \")\n",
    "        dict2[line2[0]]=line2[1]\n",
    "        stockset.add(line2[0])\n",
    "    for stockitem in stockset:\n",
    "        stockdict[stockitem]=0\n",
    "    for key1 in dict1.keys():\n",
    "        stockdict[key1] += int(dict1[key1])\n",
    "    for key2 in dict2.keys():\n",
    "        stockdict[key2] += int(dict2[key2])\n",
    "    for key in stockdict.keys():\n",
    "        stockline=key + \": \" + str(stockdict[key]) + \"\\n\"\n",
    "        stocktext.write(stockline)\n",
    "    stocktext.close()\n",
    "    \n",
    "stockInfo(\"magaza1.txt\",\"magaza2.txt\")"
   ]
  },
  {
   "cell_type": "code",
   "execution_count": null,
   "id": "fc118c00",
   "metadata": {},
   "outputs": [],
   "source": []
  }
 ],
 "metadata": {
  "kernelspec": {
   "display_name": "Python 3 (ipykernel)",
   "language": "python",
   "name": "python3"
  },
  "language_info": {
   "codemirror_mode": {
    "name": "ipython",
    "version": 3
   },
   "file_extension": ".py",
   "mimetype": "text/x-python",
   "name": "python",
   "nbconvert_exporter": "python",
   "pygments_lexer": "ipython3",
   "version": "3.9.12"
  }
 },
 "nbformat": 4,
 "nbformat_minor": 5
}
