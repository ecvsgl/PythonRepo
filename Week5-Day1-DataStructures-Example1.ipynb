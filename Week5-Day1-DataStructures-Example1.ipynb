{
 "cells": [
  {
   "cell_type": "code",
   "execution_count": 11,
   "id": "7d266436",
   "metadata": {},
   "outputs": [
    {
     "name": "stdout",
     "output_type": "stream",
     "text": [
      "697\n"
     ]
    }
   ],
   "source": [
    "def hesapla(x1,x2,x3,x4,x5):\n",
    "    v1 = x1 * urunler[\"Elma\"]\n",
    "    v2 = x2 * urunler[\"Armut\"]\n",
    "    v3 = x3 * urunler[\"Muz\"]\n",
    "    v4 = x4 * urunler[\"Karpuz\"]\n",
    "    v5 = x5 * urunler[\"Kavun\"]\n",
    "    return (v1+v2+v3+v4+v5)\n",
    "\n",
    "urunler = {\"Elma\": 20, \"Armut\":30, \"Muz\":35, \"Karpuz\": 25, \"Kavun\": 33}\n",
    "\n",
    "##Soru: urunler'i veritabanı gibi kullan. Bir method; \"hesapla\": toplam sepet meblağ hesapla\n",
    "\n",
    "odenecek = hesapla(5,3,5,8,4)\n",
    "print(odenecek)"
   ]
  },
  {
   "cell_type": "code",
   "execution_count": 13,
   "id": "1c564d53",
   "metadata": {},
   "outputs": [
    {
     "name": "stdout",
     "output_type": "stream",
     "text": [
      "{88: [1, 2, 4, 8, 11, 22, 44], 178: [1, 2, 89], 986: [1, 2, 17, 29, 34, 58, 493]}\n"
     ]
    }
   ],
   "source": [
    "sayilar = [88,178,986]\n",
    "#geri dönmesi gereken liste;\n",
    "# { 88: [1,2,3,4,8,11] , ...}\n",
    "def tumBolenDict(x):\n",
    "    bolenlerDict = {}\n",
    "    bolenler =[]\n",
    "    for i in range (0,len(x)):\n",
    "        n = sayilar[i]\n",
    "        for j in range (1,n):\n",
    "            if n%j == 0:\n",
    "                bolenler.append(j)\n",
    "        bolenlerDict[n]=bolenler\n",
    "        bolenler =[]\n",
    "    return bolenlerDict\n",
    "            \n",
    "print(tumBolenDict(sayilar))\n"
   ]
  },
  {
   "cell_type": "code",
   "execution_count": 1,
   "id": "16c7a0ae",
   "metadata": {},
   "outputs": [],
   "source": [
    "#8:15 için aralarında açı bulan method\n",
    "\n",
    "def saatAci(sa,dk,sn):\n",
    "    if sa >12:\n",
    "        sa = sa-12\n",
    "    saDgr = (360/12)*sa + (360/12/60)*dk + (360/12/60/60)*sn #bence bu hatalı oldu.\n",
    "    dkDgr = (360/60)*dk + (360/60/60)*sn\n",
    "    buyukAci = saDgr\n",
    "    kucukAci = dkDgr\n",
    "    if dkDgr > saDgr:\n",
    "        buyukAci = dkDgr\n",
    "        kucukAci = saDgr\n",
    "    fark = buyukAci - kucukAci\n",
    "    if fark> 180:\n",
    "        fark = 360 - fark\n",
    "    return fark\n",
    "\n",
    "for sa in range (0,25):\n",
    "    for dk in range (0,61):\n",
    "        for sn in range (0,61):\n",
    "            aci = saatAci(sa,dk,sn)\n"
   ]
  },
  {
   "cell_type": "code",
   "execution_count": null,
   "id": "c551fe22",
   "metadata": {},
   "outputs": [],
   "source": []
  }
 ],
 "metadata": {
  "kernelspec": {
   "display_name": "Python 3 (ipykernel)",
   "language": "python",
   "name": "python3"
  },
  "language_info": {
   "codemirror_mode": {
    "name": "ipython",
    "version": 3
   },
   "file_extension": ".py",
   "mimetype": "text/x-python",
   "name": "python",
   "nbconvert_exporter": "python",
   "pygments_lexer": "ipython3",
   "version": "3.9.12"
  }
 },
 "nbformat": 4,
 "nbformat_minor": 5
}
