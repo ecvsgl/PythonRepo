{
 "cells": [
  {
   "cell_type": "code",
   "execution_count": 6,
   "id": "25d7388e",
   "metadata": {},
   "outputs": [
    {
     "name": "stdout",
     "output_type": "stream",
     "text": [
      "41\n",
      "Lütfen 1. tahmininizi giriniz: 33\n",
      "Daha büyük bir sayı giriniz\n",
      "Lütfen 2. tahmininizi giriniz: 33\n",
      "Daha büyük bir sayı giriniz\n",
      "Lütfen 3. tahmininizi giriniz: 33\n",
      "Daha büyük bir sayı giriniz\n",
      "Lütfen 4. tahmininizi giriniz: 99\n",
      "Loser heheheh\n"
     ]
    }
   ],
   "source": [
    "import random\n",
    "uretilenSayi = random.randint(0,100)\n",
    "hak=1\n",
    "print(uretilenSayi)\n",
    "while hak <= 5:\n",
    "    sayi = input(\"Lütfen \"+str(hak)+\". tahmininizi giriniz: \")\n",
    "    hak = hak+1\n",
    "    tahmin = int(sayi)\n",
    "    if tahmin == uretilenSayi:\n",
    "        print(\"Bildiniz!\")\n",
    "        break\n",
    "    if hak == 6:\n",
    "        print(\"Loser heheheh 5 hak verdik bilemedin.\")\n",
    "        break\n",
    "    if tahmin > uretilenSayi:\n",
    "        print (\"Daha küçük bir sayı giriniz\")\n",
    "    else:\n",
    "        print (\"Daha büyük bir sayı giriniz\")"
   ]
  },
  {
   "cell_type": "code",
   "execution_count": null,
   "id": "1f790ede",
   "metadata": {},
   "outputs": [],
   "source": []
  },
  {
   "cell_type": "code",
   "execution_count": null,
   "id": "efc7257a",
   "metadata": {},
   "outputs": [],
   "source": []
  }
 ],
 "metadata": {
  "kernelspec": {
   "display_name": "Python 3 (ipykernel)",
   "language": "python",
   "name": "python3"
  },
  "language_info": {
   "codemirror_mode": {
    "name": "ipython",
    "version": 3
   },
   "file_extension": ".py",
   "mimetype": "text/x-python",
   "name": "python",
   "nbconvert_exporter": "python",
   "pygments_lexer": "ipython3",
   "version": "3.9.12"
  }
 },
 "nbformat": 4,
 "nbformat_minor": 5
}
