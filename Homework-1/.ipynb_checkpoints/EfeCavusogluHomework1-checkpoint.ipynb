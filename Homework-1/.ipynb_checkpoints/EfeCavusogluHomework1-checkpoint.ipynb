{
 "cells": [
  {
   "cell_type": "code",
   "execution_count": 1,
   "id": "28acb8b4",
   "metadata": {},
   "outputs": [
    {
     "name": "stdout",
     "output_type": "stream",
     "text": [
      "**** I promise that I will do this homework all my own.***\n"
     ]
    }
   ],
   "source": [
    "#Question 1\n",
    "\n",
    "def academicHonesty():\n",
    "    print(\"**** I promise that I will do this homework all my own.***\")\n",
    "\n",
    "academicHonesty()"
   ]
  },
  {
   "cell_type": "code",
   "execution_count": 2,
   "id": "23aa50a3",
   "metadata": {},
   "outputs": [],
   "source": [
    "#Question 2\n",
    "\n",
    "def cylinderVolume(rad, hei):\n",
    "    piNumber = 3.141592653589793\n",
    "    volume = (rad**2)*piNumber*hei\n",
    "    return volume"
   ]
  },
  {
   "cell_type": "code",
   "execution_count": 3,
   "id": "a4f1c97d",
   "metadata": {},
   "outputs": [
    {
     "name": "stdout",
     "output_type": "stream",
     "text": [
      "5.0\n"
     ]
    }
   ],
   "source": [
    "#Question 3\n",
    "\n",
    "def twoPointDistance(x1,y1,x2,y2):\n",
    "    distance = ((x2-x1)**2 + (y2-y1)**2)**(0.5)\n",
    "    return distance\n",
    "\n",
    "print(twoPointDistance(1,1,4,5))"
   ]
  },
  {
   "cell_type": "code",
   "execution_count": 4,
   "id": "f28337da",
   "metadata": {},
   "outputs": [
    {
     "name": "stdout",
     "output_type": "stream",
     "text": [
      "Mandalina\n"
     ]
    }
   ],
   "source": [
    "#Question 4\n",
    "\n",
    "def longestWord(givList):\n",
    "    maxLength = 0\n",
    "    itemLocation = 0\n",
    "    for i in range(0, len(givList)):\n",
    "        if len(givList[i]) >= maxLength:\n",
    "            maxLength = len(givList[i])\n",
    "            itemLocation = i\n",
    "    return givList[itemLocation]\n",
    "\n",
    "print(longestWord(['Elma', 'Armut','Portakal','Muz','Mandalina','Greyfurt','Nar']))"
   ]
  },
  {
   "cell_type": "code",
   "execution_count": 5,
   "id": "39d05be4",
   "metadata": {},
   "outputs": [
    {
     "name": "stdout",
     "output_type": "stream",
     "text": [
      "[43, 56, 45, 67, 78, 90, 35]\n"
     ]
    }
   ],
   "source": [
    "#Question 5\n",
    "\n",
    "def greaterList(givList,n):\n",
    "    grtList = []\n",
    "    for i in range (0,len(givList)):\n",
    "        if givList[i] >= n:\n",
    "            grtList.append(givList[i])\n",
    "    return grtList\n",
    "\n",
    "print(greaterList([23, 33, 12, 43, 56, 32, 45, 67, 78, 90, 35],35))"
   ]
  },
  {
   "cell_type": "code",
   "execution_count": 6,
   "id": "ae7e0043",
   "metadata": {},
   "outputs": [
    {
     "name": "stdout",
     "output_type": "stream",
     "text": [
      "4\n"
     ]
    }
   ],
   "source": [
    "#Question 6\n",
    "\n",
    "def intCount (givList, n):\n",
    "    counter =0\n",
    "    for i in range (0, len(givList)):\n",
    "        if givList[i] == n:\n",
    "            counter = counter +1\n",
    "    return counter\n",
    "\n",
    "print(intCount( [33, 21, 99, 1, 33, 57, 32, 123, 55, 33, 70, 33],33))"
   ]
  },
  {
   "cell_type": "code",
   "execution_count": 7,
   "id": "0ee54935",
   "metadata": {},
   "outputs": [
    {
     "name": "stdout",
     "output_type": "stream",
     "text": [
      "['a', 1, 'b', 2, 'c', 3, 'd', 4, 'e', 5, 'f', 6, 7, 8, 9]\n"
     ]
    }
   ],
   "source": [
    "#Question 7 \n",
    "\n",
    "#Verilen listelerin esit uzunlukta olmama ihtimali dusunuldu.\n",
    "#Buna gore once kisa listeden baslayarak elemanlari yeni listeye eklemeye baslandi.\n",
    "#kisa olan liste tükenince uzun listenin kalan elemanlari oldugu gibi eklendi.\n",
    "def listJoiner (ls1, ls2):\n",
    "    depoList=[]\n",
    "    uzunList = ls1\n",
    "    kisaList = ls2\n",
    "    if len(ls2)> len(ls1):\n",
    "        uzunList =ls2\n",
    "        kisaList=ls1\n",
    "    for i in range (0, len(kisaList)):\n",
    "        depoList.append(kisaList[i])\n",
    "        depoList.append(uzunList[i])\n",
    "    for j in range (len(kisaList),len(uzunList)):\n",
    "        depoList.append(uzunList[j])\n",
    "    return depoList\n",
    "\n",
    "print(listJoiner(['a','b','c','d','e','f'],[1,2,3,4,5,6,7,8,9]))"
   ]
  },
  {
   "cell_type": "code",
   "execution_count": 8,
   "id": "0b6ae27e",
   "metadata": {},
   "outputs": [
    {
     "name": "stdout",
     "output_type": "stream",
     "text": [
      "[7, 6, 5, 4, 3, 2, 1]\n"
     ]
    }
   ],
   "source": [
    "#Question 8\n",
    "\n",
    "def reverseListing (givList):\n",
    "    revList = []\n",
    "    for i in range (0, len(givList)):\n",
    "        revList.append(givList[len(givList)-1-i])\n",
    "    return revList\n",
    "\n",
    "print(reverseListing([1, 2, 3, 4, 5, 6, 7]))"
   ]
  },
  {
   "cell_type": "code",
   "execution_count": 9,
   "id": "c666dc15",
   "metadata": {},
   "outputs": [
    {
     "name": "stdout",
     "output_type": "stream",
     "text": [
      "[2, 5, 6]\n"
     ]
    }
   ],
   "source": [
    "#Question 9\n",
    "\n",
    "def bothListElements (ls1, ls2):\n",
    "    depoList =[]\n",
    "    for i in range (0,len(ls1)):\n",
    "        for j in range (0, len(ls2)):\n",
    "            if ls1[i] == ls2 [j]:\n",
    "                depoList.append(ls1[i])\n",
    "    return list(set(depoList))\n",
    "\n",
    "print(bothListElements([1, 2, 3, 4, 5, 6, 7], [6, 2, 5, 9, 8, 6, 6]))\n"
   ]
  },
  {
   "cell_type": "code",
   "execution_count": 10,
   "id": "040cfef2",
   "metadata": {},
   "outputs": [
    {
     "name": "stdout",
     "output_type": "stream",
     "text": [
      "[4, 6, 1, 2, 3, 5, 7]\n"
     ]
    }
   ],
   "source": [
    "#Question 10\n",
    "import random\n",
    "\n",
    "def randoList(ls1):\n",
    "    mixList =[]\n",
    "    initLen = len(ls1)\n",
    "    for i in range (0,initLen):\n",
    "        item = ls1.pop(random.randint(0,len(ls1)-1))\n",
    "        mixList.append(item)\n",
    "    return mixList\n",
    "\n",
    "\n",
    "print(randoList([1,2,3,4,5,6,7]))"
   ]
  },
  {
   "cell_type": "code",
   "execution_count": null,
   "id": "7277d094",
   "metadata": {},
   "outputs": [],
   "source": []
  }
 ],
 "metadata": {
  "kernelspec": {
   "display_name": "Python 3 (ipykernel)",
   "language": "python",
   "name": "python3"
  },
  "language_info": {
   "codemirror_mode": {
    "name": "ipython",
    "version": 3
   },
   "file_extension": ".py",
   "mimetype": "text/x-python",
   "name": "python",
   "nbconvert_exporter": "python",
   "pygments_lexer": "ipython3",
   "version": "3.9.12"
  }
 },
 "nbformat": 4,
 "nbformat_minor": 5
}
