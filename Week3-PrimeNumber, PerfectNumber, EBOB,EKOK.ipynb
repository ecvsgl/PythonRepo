{
 "cells": [
  {
   "cell_type": "code",
   "execution_count": 6,
   "id": "ffd6e2b8",
   "metadata": {},
   "outputs": [
    {
     "name": "stdout",
     "output_type": "stream",
     "text": [
      "Lütfen sayı girin. : 17\n",
      "Sayı asaldır.\n"
     ]
    }
   ],
   "source": [
    "#Asal Bulan Kod\n",
    "n = input(\"Lütfen sayı girin. : \")\n",
    "var = int(n)\n",
    "notPrime = 0;\n",
    "if var > 1:\n",
    "    for x in range (2,var-1):\n",
    "        remainder = var%x\n",
    "        if remainder == 0 :\n",
    "            print(\"Sayı asal değildir.\")\n",
    "            notPrime = 1;\n",
    "            break\n",
    "    if notPrime != 1:\n",
    "        print(\"Sayı asaldır.\")\n",
    "else:\n",
    "    print (\"Lütfen 1'den büyük sayı girin.\")"
   ]
  },
  {
   "cell_type": "code",
   "execution_count": 7,
   "id": "c93d20a5",
   "metadata": {},
   "outputs": [
    {
     "name": "stdout",
     "output_type": "stream",
     "text": [
      "Lütfen sayı girin. : 497\n",
      "Sayı asal değildir.\n",
      "İlgili sayıya kadar olan tüm asal sayılar : [2, 3, 5, 7, 11, 13, 17, 19, 23, 29, 31, 37, 41, 43, 47, 53, 59, 61, 67, 71, 73, 79, 83, 89, 97, 101, 103, 107, 109, 113, 127, 131, 137, 139, 149, 151, 157, 163, 167, 173, 179, 181, 191, 193, 197, 199, 211, 223, 227, 229, 233, 239, 241, 251, 257, 263, 269, 271, 277, 281, 283, 293, 307, 311, 313, 317, 331, 337, 347, 349, 353, 359, 367, 373, 379, 383, 389, 397, 401, 409, 419, 421, 431, 433, 439, 443, 449, 457, 461, 463, 467, 479, 487, 491]\n"
     ]
    }
   ],
   "source": [
    "#Asal Bulan ve ilgili sayıya kadar olan tüm asalları bulan kod\n",
    "n = input(\"Lütfen sayı girin. : \")\n",
    "var = int(n)\n",
    "primeArray =[];\n",
    "if var > 1:\n",
    "    for x in range (2,var+1):\n",
    "        notPrime = 0;\n",
    "        for y in range (2,x-1):\n",
    "            remainder = x%y\n",
    "            if remainder == 0 :\n",
    "                notPrime = 1;\n",
    "                continue\n",
    "        if notPrime != 1:\n",
    "            primeArray.append(x)\n",
    "    for x in range (2,var-1):\n",
    "        remainder = var%x\n",
    "        if remainder == 0 :\n",
    "            print(\"Sayı asal değildir.\")\n",
    "            notPrime = 1;\n",
    "            break\n",
    "    if notPrime != 1:\n",
    "        print(\"Sayı asaldır.\")\n",
    "    print(\"İlgili sayıya kadar olan tüm asal sayılar :\",primeArray)\n",
    "else:\n",
    "    print (\"Lütfen 1'den büyük sayı girin.\")\n"
   ]
  },
  {
   "cell_type": "code",
   "execution_count": 10,
   "id": "3134629c",
   "metadata": {},
   "outputs": [
    {
     "name": "stdout",
     "output_type": "stream",
     "text": [
      "Lütfen sayı girin. :12\n",
      "Sayınız MÜKEMMEL SAYI DEĞİLDİR.\n"
     ]
    }
   ],
   "source": [
    "### Bölenleri ve Mükemmel Sayı Check Eden Code\n",
    "n = input (\"Lütfen sayı girin. :\")\n",
    "var = int(n)\n",
    "total = 0\n",
    "if var >0:\n",
    "    for x in range (1,var):\n",
    "        if var%x ==0:\n",
    "            total = total + x\n",
    "    if total == var:\n",
    "        print(\"Sayınız MÜKEMMEL SAYIDIR.\")\n",
    "    else:\n",
    "        print(\"Sayınız MÜKEMMEL SAYI DEĞİLDİR.\")\n",
    "else:\n",
    "    print(\"Lütfen 0'dan büyük sayı girin.\")"
   ]
  },
  {
   "cell_type": "code",
   "execution_count": 11,
   "id": "290d4e9d",
   "metadata": {},
   "outputs": [
    {
     "name": "stdout",
     "output_type": "stream",
     "text": [
      "Lütfen sayı girin. :12\n",
      "Sayınız MÜKEMMEL SAYI DEĞİLDİR.\n",
      "Tüm Bölenler:  [1, 2, 3, 4, 6, 12]\n"
     ]
    }
   ],
   "source": [
    "#Bölenleri ve Mükemmel Sayı Check Eden Code w/ LIST\n",
    "n = input (\"Lütfen sayı girin. :\")\n",
    "var = int(n)\n",
    "total = 0\n",
    "divList =[];\n",
    "if var >0:\n",
    "    for x in range (1,var):\n",
    "        if var%x ==0:\n",
    "            total = total + x\n",
    "            divList.append(x)\n",
    "    if total == var:\n",
    "        print(\"Sayınız MÜKEMMEL SAYIDIR.\")\n",
    "    else:\n",
    "        print(\"Sayınız MÜKEMMEL SAYI DEĞİLDİR.\")\n",
    "    divList.append(var)\n",
    "    print(\"Tüm Bölenler: \", divList)\n",
    "else:\n",
    "    print(\"Lütfen 0'dan büyük sayı girin.\")"
   ]
  },
  {
   "cell_type": "code",
   "execution_count": 114,
   "id": "10ebdb87",
   "metadata": {},
   "outputs": [
    {
     "name": "stdout",
     "output_type": "stream",
     "text": [
      "Lütfen sayı girin. :5\n",
      "5  Faktöriyel Değeri:  120\n"
     ]
    }
   ],
   "source": [
    "#Faktoriyel Hesabı\n",
    "n = input (\"Lütfen sayı girin. :\")\n",
    "var = int(n)\n",
    "result =1\n",
    "if var > 0:\n",
    "    for x in range (1,var+1):\n",
    "        result = result*x\n",
    "    print(var,\" Faktöriyel Değeri: \", result)\n",
    "else:\n",
    "    print(\"Lütfen 1'den büyük sayı girin.\")"
   ]
  },
  {
   "cell_type": "code",
   "execution_count": 130,
   "id": "2d8a05c1",
   "metadata": {},
   "outputs": [
    {
     "name": "stdout",
     "output_type": "stream",
     "text": [
      "1. Sayıyı Girin.10\n",
      "2. Sayıyı Girin.25\n",
      "EBOB : 5\n"
     ]
    }
   ],
   "source": [
    "# En Büyük Ortak Bölen Bulma\n",
    "xStr = input (\"1. Sayıyı Girin.\")\n",
    "yStr = input (\"2. Sayıyı Girin.\")\n",
    "x = int(xStr)\n",
    "y = int(yStr)\n",
    "ebob = 0\n",
    "for varX in range (1,x+1):\n",
    "    for varY in range (1, y+1):\n",
    "        if (y%varY == 0) and (x%varX == 0) and (varX == varY):\n",
    "            ebob = varX\n",
    "print(\"EBOB :\",ebob)"
   ]
  },
  {
   "cell_type": "code",
   "execution_count": 140,
   "id": "c41b45dc",
   "metadata": {},
   "outputs": [
    {
     "name": "stdout",
     "output_type": "stream",
     "text": [
      "1. Sayıyı Girin.11\n",
      "2. Sayıyı Girin.99\n",
      "EKOK:  99\n"
     ]
    }
   ],
   "source": [
    "# En Küçük Ortak Kat Bulma\n",
    "xStr = input (\"1. Sayıyı Girin.\")\n",
    "yStr = input (\"2. Sayıyı Girin.\")\n",
    "x = int(xStr)\n",
    "y = int(yStr)\n",
    "ekok =0\n",
    "upperCap = x*y\n",
    "if (x<y):\n",
    "    z = y\n",
    "else:\n",
    "    z = x\n",
    "for n in range (z,upperCap+1):\n",
    "    if (n%x == 0) and (n%y == 0):\n",
    "        ekok = n\n",
    "        break\n",
    "print(\"EKOK: \",ekok)"
   ]
  },
  {
   "cell_type": "code",
   "execution_count": null,
   "id": "90d3e460",
   "metadata": {},
   "outputs": [],
   "source": []
  },
  {
   "cell_type": "code",
   "execution_count": null,
   "id": "b6cd0a47",
   "metadata": {},
   "outputs": [],
   "source": []
  }
 ],
 "metadata": {
  "kernelspec": {
   "display_name": "Python 3 (ipykernel)",
   "language": "python",
   "name": "python3"
  },
  "language_info": {
   "codemirror_mode": {
    "name": "ipython",
    "version": 3
   },
   "file_extension": ".py",
   "mimetype": "text/x-python",
   "name": "python",
   "nbconvert_exporter": "python",
   "pygments_lexer": "ipython3",
   "version": "3.9.12"
  }
 },
 "nbformat": 4,
 "nbformat_minor": 5
}
