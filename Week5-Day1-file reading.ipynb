{
 "cells": [
  {
   "cell_type": "code",
   "execution_count": 10,
   "id": "13a920bb",
   "metadata": {},
   "outputs": [
    {
     "name": "stdout",
     "output_type": "stream",
     "text": [
      "ytisrevinU icnabaS\n"
     ]
    }
   ],
   "source": [
    "#String Ops\n",
    "\n",
    "t1=\"Sabanci University\"\n",
    "print(t1[::-1])"
   ]
  },
  {
   "cell_type": "code",
   "execution_count": 14,
   "id": "34ee7d51",
   "metadata": {},
   "outputs": [
    {
     "data": {
      "text/plain": [
       "[33, 44, 55]"
      ]
     },
     "execution_count": 14,
     "metadata": {},
     "output_type": "execute_result"
    }
   ],
   "source": [
    "list1=[11,22,33,44,55,66,77]\n",
    "list1[2:5]"
   ]
  },
  {
   "cell_type": "code",
   "execution_count": 22,
   "id": "0d3fbd5d",
   "metadata": {},
   "outputs": [
    {
     "data": {
      "text/plain": [
       "'gf'"
      ]
     },
     "execution_count": 22,
     "metadata": {},
     "output_type": "execute_result"
    }
   ],
   "source": [
    "alfabe=\"abcdefghijklmnoprstuvyz\"\n",
    "alfabe[6:4:-1]"
   ]
  },
  {
   "cell_type": "code",
   "execution_count": 25,
   "id": "032c8c1a",
   "metadata": {},
   "outputs": [
    {
     "name": "stdout",
     "output_type": "stream",
     "text": [
      "                   efe cavusoglu     b                        e\n",
      "efe cavusoglu     b                        e\n"
     ]
    }
   ],
   "source": [
    "t3 = \"                   efe cavusoglu     b                        e\"\n",
    "t4=t3.strip()\n",
    "print(t3)\n",
    "print(t4)"
   ]
  },
  {
   "cell_type": "code",
   "execution_count": 27,
   "id": "815157fb",
   "metadata": {},
   "outputs": [
    {
     "name": "stdout",
     "output_type": "stream",
     "text": [
      "efecavus\n"
     ]
    }
   ],
   "source": [
    "a = \"    efe  \"\n",
    "b = \"        cavus    \"\n",
    "c= a.strip() + b.strip()\n",
    "print(c)"
   ]
  },
  {
   "cell_type": "code",
   "execution_count": 29,
   "id": "f7dda138",
   "metadata": {
    "scrolled": true
   },
   "outputs": [
    {
     "data": {
      "text/plain": [
       "['aaa',\n",
       " 'bbb',\n",
       " '',\n",
       " '',\n",
       " '',\n",
       " '',\n",
       " '',\n",
       " 'hh',\n",
       " '',\n",
       " '',\n",
       " '',\n",
       " '',\n",
       " '',\n",
       " 'tttt',\n",
       " '',\n",
       " '',\n",
       " '',\n",
       " 'yyy',\n",
       " '',\n",
       " '',\n",
       " '',\n",
       " '',\n",
       " 'ppp']"
      ]
     },
     "execution_count": 29,
     "metadata": {},
     "output_type": "execute_result"
    }
   ],
   "source": [
    "text = \"aaa bbb      hh      tttt    yyy     ppp\"\n",
    "text.split(\" \")"
   ]
  },
  {
   "cell_type": "code",
   "execution_count": 34,
   "id": "919e3934",
   "metadata": {},
   "outputs": [
    {
     "data": {
      "text/plain": [
       "'aaabbbhhttttyyyppp'"
      ]
     },
     "execution_count": 34,
     "metadata": {},
     "output_type": "execute_result"
    }
   ],
   "source": [
    "text = \"aaa bbb      hh      tttt    yyy     ppp\"\n",
    "text.replace(\" \",\"\")"
   ]
  },
  {
   "cell_type": "code",
   "execution_count": 40,
   "id": "a0e7a3fb",
   "metadata": {},
   "outputs": [
    {
     "name": "stdout",
     "output_type": "stream",
     "text": [
      "Ahmet\n",
      "Ali\n"
     ]
    }
   ],
   "source": [
    "isimler=[\"Ahmet\",\"Zeynep\",\"Ali\"]\n",
    "\n",
    "for isim in isimler:\n",
    "    if isim.startswith(\"A\"):\n",
    "        print(isim)"
   ]
  },
  {
   "cell_type": "code",
   "execution_count": 44,
   "id": "17ab574a",
   "metadata": {},
   "outputs": [
    {
     "name": "stdout",
     "output_type": "stream",
     "text": [
      "Zeynep\n"
     ]
    }
   ],
   "source": [
    "isimler=[\"Ahmet\",\"Zeynep\",\"Ali\"]\n",
    "\n",
    "for isim in isimler:\n",
    "    if isim.endswith(\"ep\"):\n",
    "        print(isim)"
   ]
  },
  {
   "cell_type": "code",
   "execution_count": 47,
   "id": "75d24d02",
   "metadata": {},
   "outputs": [
    {
     "name": "stdout",
     "output_type": "stream",
     "text": [
      "a+b+c+d+e\n"
     ]
    }
   ],
   "source": [
    "alfabe=[\"a\", \"b\", \"c\",\"d\",\"e\"]\n",
    "x = \"+\".join(alfabe)\n",
    "print(x)"
   ]
  },
  {
   "cell_type": "code",
   "execution_count": 50,
   "id": "288530e0",
   "metadata": {},
   "outputs": [
    {
     "name": "stdout",
     "output_type": "stream",
     "text": [
      "ï»¿Oda,Salon,Alan,Fiyat\n",
      "3,1,200,3000000\n",
      "2,1,145,1999999\n",
      "4,2,220,5641231\n",
      "1,1,89,1850000\n",
      "3,1,145,2500000\n",
      "3,1,200,3000000\n"
     ]
    }
   ],
   "source": [
    "file = open(\"evler.csv\", \"r\") \n",
    "lines=file.readlines()\n",
    "for line in lines:\n",
    "    print(line.replace(\"\\n\",\"\"))"
   ]
  }
 ],
 "metadata": {
  "kernelspec": {
   "display_name": "Python 3 (ipykernel)",
   "language": "python",
   "name": "python3"
  },
  "language_info": {
   "codemirror_mode": {
    "name": "ipython",
    "version": 3
   },
   "file_extension": ".py",
   "mimetype": "text/x-python",
   "name": "python",
   "nbconvert_exporter": "python",
   "pygments_lexer": "ipython3",
   "version": "3.9.12"
  }
 },
 "nbformat": 4,
 "nbformat_minor": 5
}
