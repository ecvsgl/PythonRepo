{
 "cells": [
  {
   "cell_type": "code",
   "execution_count": 19,
   "id": "508a9aa2",
   "metadata": {},
   "outputs": [
    {
     "data": {
      "text/plain": [
       "6471535876"
      ]
     },
     "execution_count": 19,
     "metadata": {},
     "output_type": "execute_result"
    }
   ],
   "source": [
    "def worldCount(filename):\n",
    "    dosya = open(filename, \"r\")\n",
    "    content = dosya.readlines()\n",
    "    toplam=0\n",
    "    for x in range (len(content)):\n",
    "        info=content[x].split(',')\n",
    "        toplam += int(info[3].strip())\n",
    "    return toplam\n",
    "\n",
    "worldCount(\"world1.txt\")"
   ]
  },
  {
   "cell_type": "code",
   "execution_count": 61,
   "id": "263b6ff6",
   "metadata": {},
   "outputs": [
    {
     "data": {
      "text/plain": [
       "{'Oceana': 32018861,\n",
       " 'Europe': 820227983,\n",
       " 'Africa': 908406750,\n",
       " 'South America': 374997087,\n",
       " 'Asia': 3824619309,\n",
       " 'North America': 511265886}"
      ]
     },
     "execution_count": 61,
     "metadata": {},
     "output_type": "execute_result"
    }
   ],
   "source": [
    "def contiCount(filename):\n",
    "    dosya = open(filename, \"r\")\n",
    "    content = dosya.readlines()\n",
    "    continents = set()\n",
    "    contidict = dict()\n",
    "    for x in range (len(content)):\n",
    "        info=content[x].split(',')\n",
    "        continents.add(str(info[1].strip()))\n",
    "        contilist = list(continents)\n",
    "    for conti in range (len(contilist)):\n",
    "        contidict[contilist[conti]] = 0 \n",
    "    for x in range (len(content)):\n",
    "        info=content[x].split(',')\n",
    "        contidict[info[1]] += int(info[3].strip())\n",
    "    return contidict\n",
    "\n",
    "contiCount(\"world1.txt\")"
   ]
  },
  {
   "cell_type": "code",
   "execution_count": 63,
   "id": "1187202f",
   "metadata": {},
   "outputs": [
    {
     "data": {
      "text/plain": [
       "{'Oceana': 13,\n",
       " 'Europe': 47,\n",
       " 'Africa': 55,\n",
       " 'South America': 12,\n",
       " 'Asia': 48,\n",
       " 'North America': 23}"
      ]
     },
     "execution_count": 63,
     "metadata": {},
     "output_type": "execute_result"
    }
   ],
   "source": [
    "def contiUlke(filename):\n",
    "    dosya = open(filename, \"r\")\n",
    "    content = dosya.readlines()\n",
    "    continents = set()\n",
    "    contidict = dict()\n",
    "    contidict2 = dict()\n",
    "    for x in range (len(content)):\n",
    "        info=content[x].split(',')\n",
    "        continents.add(str(info[1].strip()))\n",
    "        contilist = list(continents)\n",
    "    for conti in range (len(contilist)):\n",
    "        contidict[contilist[conti]] = []\n",
    "        contidict2[contilist[conti]] = 0\n",
    "    for x in range (len(content)):\n",
    "        info=content[x].split(',')\n",
    "        contidict[info[1]].append(info[0].strip())\n",
    "    for x in range(0,len(contilist)):\n",
    "        contidict2[contilist[x]]= len(contidict[contilist[x]])\n",
    "    return contidict2\n",
    "        \n",
    "contiUlke(\"world1.txt\")"
   ]
  },
  {
   "cell_type": "code",
   "execution_count": 89,
   "id": "6f6e4e58",
   "metadata": {},
   "outputs": [
    {
     "name": "stdout",
     "output_type": "stream",
     "text": [
      "['Almanya:21.11111111111111\\n', 'Italya:31.11111111111111\\n', 'Norvec:-12.222222222222221\\n', 'Kenya:48.888888888888886\\n', 'Fas:43.888888888888886\\n', 'Ekvator:50.55555555555556\\n', 'Izlanda:-17.77777777777778\\n', 'Ispanya:37.22222222222222\\n', 'Letonya:7.222222222222222\\n', 'Polonya:18.88888888888889\\n', 'Fransa:30.555555555555554\\n', 'Romanya:18.333333333333332\\n', 'Hirvatistan:25.555555555555554\\n', 'Finlandiya:1.1111111111111112\\n', 'Isvec:-5.0\\n']\n"
     ]
    },
    {
     "data": {
      "text/plain": [
       "<function TextIOWrapper.close()>"
      ]
     },
     "execution_count": 89,
     "metadata": {},
     "output_type": "execute_result"
    }
   ],
   "source": [
    "def fah2cels(filename):\n",
    "    doc = open(filename, 'r')\n",
    "    content = doc.readlines()\n",
    "    f = open(\"celsius.txt\", 'w')\n",
    "    for x in range(0,len(content)):\n",
    "        fahr=content[x].strip().split(':')\n",
    "        fahr[1] = (int(fahr[1])-32)/1.8\n",
    "        cels = (fahr[0] + ':' + str(fahr[1])+'\\n')\n",
    "        f.write(cels)\n",
    "    f.close\n",
    "    return \n",
    "    \n",
    "fah2cels(\"fahrenheit.txt\")\n",
    "doc2 = open(\"celsius.txt\", 'r')\n",
    "content2 = doc2.readlines()\n",
    "print(content2)\n",
    "doc2.close\n",
    "dosya.close"
   ]
  },
  {
   "cell_type": "code",
   "execution_count": null,
   "id": "81702290",
   "metadata": {},
   "outputs": [],
   "source": []
  }
 ],
 "metadata": {
  "kernelspec": {
   "display_name": "Python 3 (ipykernel)",
   "language": "python",
   "name": "python3"
  },
  "language_info": {
   "codemirror_mode": {
    "name": "ipython",
    "version": 3
   },
   "file_extension": ".py",
   "mimetype": "text/x-python",
   "name": "python",
   "nbconvert_exporter": "python",
   "pygments_lexer": "ipython3",
   "version": "3.9.12"
  }
 },
 "nbformat": 4,
 "nbformat_minor": 5
}
