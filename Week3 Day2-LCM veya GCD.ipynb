{
 "cells": [
  {
   "cell_type": "code",
   "execution_count": 1,
   "id": "cb3afd41",
   "metadata": {},
   "outputs": [
    {
     "data": {
      "text/plain": [
       "11"
      ]
     },
     "execution_count": 1,
     "metadata": {},
     "output_type": "execute_result"
    }
   ],
   "source": [
    "def obeb(sayi1,sayi2):\n",
    "    if(sayi1<sayi2):\n",
    "        kucukSayi=sayi1\n",
    "    else: \n",
    "        kucukSayi=sayi2\n",
    "    obeb=1\n",
    "    for sayi in range(1, kucukSayi+1):\n",
    "        kalan1 = sayi1%sayi\n",
    "        kalan2= sayi2%sayi\n",
    "        if (kalan1 == 0 and kalan2 == 0):\n",
    "            obeb =sayi\n",
    "    return obeb\n",
    "\n",
    "obeb(11,99)"
   ]
  },
  {
   "cell_type": "code",
   "execution_count": 4,
   "id": "8ad5ba15",
   "metadata": {},
   "outputs": [
    {
     "data": {
      "text/plain": [
       "33"
      ]
     },
     "execution_count": 4,
     "metadata": {},
     "output_type": "execute_result"
    }
   ],
   "source": [
    "def okek(sayi1,sayi2):\n",
    "    buyuksayi=sayi1\n",
    "    if(sayi2> sayi1):\n",
    "        buyuksayi=sayi2\n",
    "    carpim = sayi1*sayi2\n",
    "    okek=1\n",
    "    for sayi in range(buyuksayi, carpim+1):\n",
    "        kalan1 = sayi%sayi1\n",
    "        kalan2 = sayi%sayi2\n",
    "        if (kalan1 == 0 and kalan2 ==0):\n",
    "            return sayi\n",
    "    return carpim\n",
    "\n",
    "okek(3,11)"
   ]
  },
  {
   "cell_type": "code",
   "execution_count": null,
   "id": "c0dddc58",
   "metadata": {},
   "outputs": [],
   "source": []
  }
 ],
 "metadata": {
  "kernelspec": {
   "display_name": "Python 3 (ipykernel)",
   "language": "python",
   "name": "python3"
  },
  "language_info": {
   "codemirror_mode": {
    "name": "ipython",
    "version": 3
   },
   "file_extension": ".py",
   "mimetype": "text/x-python",
   "name": "python",
   "nbconvert_exporter": "python",
   "pygments_lexer": "ipython3",
   "version": "3.9.12"
  }
 },
 "nbformat": 4,
 "nbformat_minor": 5
}
