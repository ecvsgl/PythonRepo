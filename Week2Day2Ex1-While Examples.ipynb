{
 "cells": [
  {
   "cell_type": "code",
   "execution_count": 6,
   "id": "dc839f37",
   "metadata": {},
   "outputs": [
    {
     "name": "stdout",
     "output_type": "stream",
     "text": [
      "Lütfen sayı girin. :3\n",
      "1\n",
      "2\n",
      "3\n"
     ]
    }
   ],
   "source": [
    "sayi = input(\"Lütfen sayı girin. :\") \n",
    "#Ya harf girerse? Crash eder. \"Exeption Handling\" gerekli.\n",
    "girilenSayi=int(sayi)\n",
    "sayac = 1 #sentinel value denir buna. sayaç değeri.\n",
    "while (sayac <= girilenSayi):\n",
    "    print(sayac)\n",
    "    sayac = sayac + 1"
   ]
  },
  {
   "cell_type": "code",
   "execution_count": 15,
   "id": "3c31251c",
   "metadata": {},
   "outputs": [
    {
     "name": "stdout",
     "output_type": "stream",
     "text": [
      "Lütfen Çift Sayı Girin. :55\n",
      "Sayı çift değil.\n",
      "Çift sayı girin. :44\n",
      "Tebrikler! Bir Çift Sayı Girdiniz!\n"
     ]
    }
   ],
   "source": [
    "sayi = input(\"Lütfen Çift Sayı Girin. :\")\n",
    "girilenSayi=int(sayi)\n",
    "while (girilenSayi%2 != 0):\n",
    "    print(\"Sayı çift değil.\")\n",
    "    sayi = input(\"Çift sayı girin. :\")\n",
    "    girilenSayi=int(sayi)\n",
    "print(\"Tebrikler! Bir Çift Sayı Girdiniz!\")"
   ]
  },
  {
   "cell_type": "code",
   "execution_count": 19,
   "id": "70228601",
   "metadata": {},
   "outputs": [
    {
     "name": "stdout",
     "output_type": "stream",
     "text": [
      "1\n",
      "2\n",
      "3\n",
      "4\n",
      "5\n",
      "6\n",
      "7\n",
      "8\n",
      "9\n",
      "10\n"
     ]
    }
   ],
   "source": [
    "sayi = 1\n",
    "while (sayi <= 10):\n",
    "    print(sayi)\n",
    "    sayi= sayi +1"
   ]
  },
  {
   "cell_type": "code",
   "execution_count": 20,
   "id": "72d3dce9",
   "metadata": {},
   "outputs": [
    {
     "name": "stdout",
     "output_type": "stream",
     "text": [
      "1\n",
      "2\n",
      "3\n",
      "4\n",
      "5\n",
      "6\n",
      "7\n",
      "8\n",
      "9\n",
      "10\n"
     ]
    }
   ],
   "source": [
    "for x in range(1,11):\n",
    "    print(x)"
   ]
  },
  {
   "cell_type": "code",
   "execution_count": 21,
   "id": "9e22130a",
   "metadata": {
    "scrolled": true
   },
   "outputs": [
    {
     "name": "stdout",
     "output_type": "stream",
     "text": [
      "1\n",
      "2\n",
      "3\n",
      "4\n",
      "5\n",
      "6\n",
      "7\n",
      "8\n",
      "9\n",
      "10\n",
      "11\n",
      "12\n"
     ]
    }
   ],
   "source": [
    "sayilar = [1,2,3,4,5,6,7,8,9,10,11,12]\n",
    "\n",
    "for sayi in sayilar:\n",
    "    print(sayi)"
   ]
  },
  {
   "cell_type": "code",
   "execution_count": 22,
   "id": "060c6d0b",
   "metadata": {},
   "outputs": [
    {
     "name": "stdout",
     "output_type": "stream",
     "text": [
      "[12, 11, 10, 9, 8, 7, 6, 5, 4, 3, 2, 1]\n"
     ]
    }
   ],
   "source": [
    "sayilar = [1,2,3,4,5,6,7,8,9,10,11,12]\n",
    "\n",
    "print(sayilar[::-1]) #ilginç. Bakmalı."
   ]
  },
  {
   "cell_type": "code",
   "execution_count": null,
   "id": "d90b6645",
   "metadata": {},
   "outputs": [],
   "source": []
  }
 ],
 "metadata": {
  "kernelspec": {
   "display_name": "Python 3 (ipykernel)",
   "language": "python",
   "name": "python3"
  },
  "language_info": {
   "codemirror_mode": {
    "name": "ipython",
    "version": 3
   },
   "file_extension": ".py",
   "mimetype": "text/x-python",
   "name": "python",
   "nbconvert_exporter": "python",
   "pygments_lexer": "ipython3",
   "version": "3.9.12"
  }
 },
 "nbformat": 4,
 "nbformat_minor": 5
}
