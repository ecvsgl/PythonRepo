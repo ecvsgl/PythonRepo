{
 "cells": [
  {
   "cell_type": "code",
   "execution_count": 11,
   "id": "377e79ab",
   "metadata": {},
   "outputs": [
    {
     "name": "stdout",
     "output_type": "stream",
     "text": [
      "{'ahmet': 2, 'ali': 3, 'veli': 2, 'ayse': 3, 'fatma': 1, 'ozan': 2, 'hilal': 1}\n"
     ]
    }
   ],
   "source": [
    "isimler = \"ahmet ali veli ayse fatma ozan hilal ayse ozan ahmet ali ayse ali veli\"\n",
    "\n",
    "isimArr = isimler.split(\" \")\n",
    "\n",
    "def isimCount(isimArray):\n",
    "    isimDict ={}\n",
    "    for i in range (0, len(isimArray)):\n",
    "        count = 0\n",
    "        for j in range (0, len(isimArray)):\n",
    "            if isimArray[j] == isimArray[i]:\n",
    "                count = count +1\n",
    "            isimDict[isimArray[i]]=count\n",
    "    return isimDict\n",
    "\n",
    "print(isimCount(isimArr))"
   ]
  },
  {
   "cell_type": "code",
   "execution_count": null,
   "id": "a59eeabf",
   "metadata": {},
   "outputs": [],
   "source": []
  }
 ],
 "metadata": {
  "kernelspec": {
   "display_name": "Python 3 (ipykernel)",
   "language": "python",
   "name": "python3"
  },
  "language_info": {
   "codemirror_mode": {
    "name": "ipython",
    "version": 3
   },
   "file_extension": ".py",
   "mimetype": "text/x-python",
   "name": "python",
   "nbconvert_exporter": "python",
   "pygments_lexer": "ipython3",
   "version": "3.9.12"
  }
 },
 "nbformat": 4,
 "nbformat_minor": 5
}
