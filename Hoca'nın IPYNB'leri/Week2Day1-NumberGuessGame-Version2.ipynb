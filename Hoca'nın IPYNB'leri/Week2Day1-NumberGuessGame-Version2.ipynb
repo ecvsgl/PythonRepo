{
 "cells": [
  {
   "cell_type": "code",
   "execution_count": 6,
   "id": "fc3b2b95",
   "metadata": {},
   "outputs": [
    {
     "name": "stdout",
     "output_type": "stream",
     "text": [
      "8\n",
      "Lütfen 1. tahmininizi giriniz.2\n",
      "Daha büyük sayı giriniz\n",
      "Lütfen 2. tahmininizi giriniz.2\n",
      "Daha büyük sayı giriniz\n",
      "Lütfen 3. tahmininizi giriniz.3\n",
      "Daha büyük sayı giriniz\n",
      "Lütfen 4. tahmininizi giriniz.4\n",
      "Daha büyük sayı giriniz\n",
      "Lütfen 5. tahmininizi giriniz.5\n",
      "Looooooseeeerrr! 5 hak verdik bilemediniz \n"
     ]
    }
   ],
   "source": [
    "import random\n",
    "uretilenSayi = random.randint(0,100)\n",
    "print(uretilenSayi)\n",
    "hak = 1\n",
    "while hak <= 5:\n",
    "    sayi = input(\"Lütfen \"+str(hak)+\". tahmininizi giriniz.\")\n",
    "    hak = hak + 1\n",
    "    tahmin = int(sayi)\n",
    "    if tahmin == uretilenSayi:\n",
    "        print(\"Bildiniz. Tebrikler. Süpersiniz. Aferin\")\n",
    "        break\n",
    "    if hak == 6:\n",
    "        print(\"Looooooseeeerrr! 5 hak verdik bilemediniz \")\n",
    "        break\n",
    "    if tahmin > uretilenSayi:\n",
    "        print(\"Daha küçük sayı giriniz\")\n",
    "    else:\n",
    "        print(\"Daha büyük sayı giriniz\")"
   ]
  },
  {
   "cell_type": "code",
   "execution_count": null,
   "id": "bd63ab87",
   "metadata": {},
   "outputs": [],
   "source": []
  }
 ],
 "metadata": {
  "kernelspec": {
   "display_name": "Python 3 (ipykernel)",
   "language": "python",
   "name": "python3"
  },
  "language_info": {
   "codemirror_mode": {
    "name": "ipython",
    "version": 3
   },
   "file_extension": ".py",
   "mimetype": "text/x-python",
   "name": "python",
   "nbconvert_exporter": "python",
   "pygments_lexer": "ipython3",
   "version": "3.9.12"
  }
 },
 "nbformat": 4,
 "nbformat_minor": 5
}
