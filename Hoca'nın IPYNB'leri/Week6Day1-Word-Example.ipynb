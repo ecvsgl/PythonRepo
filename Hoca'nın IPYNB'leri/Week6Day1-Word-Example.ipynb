{
 "cells": [
  {
   "cell_type": "code",
   "execution_count": 27,
   "id": "10041d9f",
   "metadata": {},
   "outputs": [],
   "source": [
    "def dunyaNufusu(dosyaAdi):\n",
    "    dosya = open(dosyaAdi,'r')\n",
    "    lines = dosya.readlines()\n",
    "    nufus = 0\n",
    "    for line in lines:\n",
    "        bilgi = line.strip().split(\",\")\n",
    "        nufus += int(bilgi[3])\n",
    "    return nufus"
   ]
  },
  {
   "cell_type": "code",
   "execution_count": 28,
   "id": "204703f6",
   "metadata": {},
   "outputs": [
    {
     "data": {
      "text/plain": [
       "6471535876"
      ]
     },
     "execution_count": 28,
     "metadata": {},
     "output_type": "execute_result"
    }
   ],
   "source": [
    "dunyaNufusu(\"world.txt\")"
   ]
  },
  {
   "cell_type": "code",
   "execution_count": 41,
   "id": "c71801be",
   "metadata": {},
   "outputs": [
    {
     "data": {
      "text/plain": [
       "{'Asia': 48,\n",
       " 'Europe': 47,\n",
       " 'Africa': 55,\n",
       " 'North America': 23,\n",
       " 'South America': 12,\n",
       " 'Oceana': 13}"
      ]
     },
     "execution_count": 41,
     "metadata": {},
     "output_type": "execute_result"
    }
   ],
   "source": [
    "def kitaUlkeSayisi(dosyaAdi):\n",
    "    dosya = open(dosyaAdi,'r')\n",
    "    lines = dosya.readlines()\n",
    "    kitalar = dict()\n",
    "    for line in lines:\n",
    "        bilgi = line.strip().split(\",\")\n",
    "        kita = bilgi[1]\n",
    "        kitalar[kita] = 0     \n",
    "    for line in lines:\n",
    "        bilgi = line.strip().split(\",\")\n",
    "        kita = bilgi[1]\n",
    "        kitalar[kita] = kitalar[kita] + 1\n",
    "    return kitalar\n",
    "kitaUlkeSayisi(\"world.txt\")"
   ]
  },
  {
   "cell_type": "code",
   "execution_count": 42,
   "id": "0f11f545",
   "metadata": {},
   "outputs": [
    {
     "data": {
      "text/plain": [
       "{'Asia': 3824619309,\n",
       " 'Europe': 820227983,\n",
       " 'Africa': 908406750,\n",
       " 'North America': 511265886,\n",
       " 'South America': 374997087,\n",
       " 'Oceana': 32018861}"
      ]
     },
     "execution_count": 42,
     "metadata": {},
     "output_type": "execute_result"
    }
   ],
   "source": [
    "def kitaNufusu(dosyaAdi):\n",
    "    dosya = open(dosyaAdi,'r')\n",
    "    lines = dosya.readlines()\n",
    "    kitalar = dict()\n",
    "    for line in lines:\n",
    "        bilgi = line.strip().split(\",\")\n",
    "        kita = bilgi[1]\n",
    "        kitalar[kita] = 0\n",
    "        \n",
    "    for line in lines:\n",
    "        bilgi = line.strip().split(\",\")\n",
    "        kita = bilgi[1]\n",
    "        nufus = int(bilgi[3])\n",
    "        kitalar[kita] = kitalar[kita] + nufus\n",
    "    return kitalar\n",
    "kitaNufusu(\"world.txt\")"
   ]
  },
  {
   "cell_type": "code",
   "execution_count": null,
   "id": "182414ff",
   "metadata": {},
   "outputs": [],
   "source": []
  }
 ],
 "metadata": {
  "kernelspec": {
   "display_name": "Python 3 (ipykernel)",
   "language": "python",
   "name": "python3"
  },
  "language_info": {
   "codemirror_mode": {
    "name": "ipython",
    "version": 3
   },
   "file_extension": ".py",
   "mimetype": "text/x-python",
   "name": "python",
   "nbconvert_exporter": "python",
   "pygments_lexer": "ipython3",
   "version": "3.9.12"
  }
 },
 "nbformat": 4,
 "nbformat_minor": 5
}
