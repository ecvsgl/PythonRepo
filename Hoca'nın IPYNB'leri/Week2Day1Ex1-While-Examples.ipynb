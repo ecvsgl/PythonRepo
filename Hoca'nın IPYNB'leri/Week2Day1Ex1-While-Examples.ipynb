{
 "cells": [
  {
   "cell_type": "code",
   "execution_count": 2,
   "id": "73856160",
   "metadata": {},
   "outputs": [
    {
     "name": "stdout",
     "output_type": "stream",
     "text": [
      "Lütfen bir sayı giriniz :12\n",
      "1\n",
      "2\n",
      "3\n",
      "4\n",
      "5\n",
      "6\n",
      "7\n",
      "8\n",
      "9\n",
      "10\n",
      "11\n",
      "12\n"
     ]
    }
   ],
   "source": [
    "sayi = input(\"Lütfen bir sayı giriniz :\")\n",
    "girilenSayi = int(sayi)\n",
    "sayac = 1\n",
    "while sayac <= girilenSayi:\n",
    "    print(sayac)\n",
    "    sayac = sayac + 1\n",
    "    "
   ]
  },
  {
   "cell_type": "code",
   "execution_count": 12,
   "id": "d65539b8",
   "metadata": {},
   "outputs": [
    {
     "name": "stdout",
     "output_type": "stream",
     "text": [
      "Lütfen çift sayı giriniz :33\n",
      "Bu çift sayı değil\n",
      "Lütfen çift sayı giriniz :31\n",
      "Bu çift sayı değil\n",
      "Lütfen çift sayı giriniz :55\n",
      "Bu çift sayı değil\n",
      "Lütfen çift sayı giriniz :44\n",
      "Aferin size\n"
     ]
    }
   ],
   "source": [
    "sayi = input(\"Lütfen çift sayı giriniz :\")\n",
    "girilenSayi = int(sayi)\n",
    "while girilenSayi%2 == 1:\n",
    "    print(\"Bu çift sayı değil\")\n",
    "    sayi = input(\"Lütfen çift sayı giriniz :\")\n",
    "    girilenSayi = int(sayi)     \n",
    "print(\"Aferin size\")"
   ]
  },
  {
   "cell_type": "code",
   "execution_count": 13,
   "id": "faf89009",
   "metadata": {},
   "outputs": [
    {
     "name": "stdout",
     "output_type": "stream",
     "text": [
      "1\n",
      "2\n",
      "3\n",
      "4\n",
      "5\n",
      "6\n",
      "7\n",
      "8\n",
      "9\n",
      "10\n"
     ]
    }
   ],
   "source": [
    "sayi = 1\n",
    "while sayi <=10:\n",
    "    print(sayi)\n",
    "    sayi= sayi + 1"
   ]
  },
  {
   "cell_type": "code",
   "execution_count": 14,
   "id": "98eb85d9",
   "metadata": {},
   "outputs": [
    {
     "name": "stdout",
     "output_type": "stream",
     "text": [
      "1\n",
      "2\n",
      "3\n",
      "4\n",
      "5\n",
      "6\n",
      "7\n",
      "8\n",
      "9\n",
      "10\n"
     ]
    }
   ],
   "source": [
    "for x in range(1,11):\n",
    "    print(x)"
   ]
  },
  {
   "cell_type": "code",
   "execution_count": 16,
   "id": "d6350d1a",
   "metadata": {},
   "outputs": [
    {
     "name": "stdout",
     "output_type": "stream",
     "text": [
      "1\n",
      "2\n",
      "3\n",
      "4\n",
      "5\n",
      "6\n",
      "7\n",
      "8\n",
      "9\n",
      "10\n",
      "11\n",
      "12\n"
     ]
    }
   ],
   "source": [
    "sayilar = [1,2,3,4,5,6,7,8,9,10,11,12]\n",
    "x = 11\n",
    "for sayi in sayilar:\n",
    "    print(sayi)"
   ]
  },
  {
   "cell_type": "code",
   "execution_count": 20,
   "id": "78a350ca",
   "metadata": {},
   "outputs": [
    {
     "name": "stdout",
     "output_type": "stream",
     "text": [
      "4\n"
     ]
    }
   ],
   "source": [
    "sayilar = [1,2,3,4,5,6,7,8,9,10,11,12]\n",
    "\n",
    "\n",
    "print(sayilar[3])"
   ]
  },
  {
   "cell_type": "code",
   "execution_count": null,
   "id": "a133543a",
   "metadata": {},
   "outputs": [],
   "source": []
  }
 ],
 "metadata": {
  "kernelspec": {
   "display_name": "Python 3 (ipykernel)",
   "language": "python",
   "name": "python3"
  },
  "language_info": {
   "codemirror_mode": {
    "name": "ipython",
    "version": 3
   },
   "file_extension": ".py",
   "mimetype": "text/x-python",
   "name": "python",
   "nbconvert_exporter": "python",
   "pygments_lexer": "ipython3",
   "version": "3.9.12"
  }
 },
 "nbformat": 4,
 "nbformat_minor": 5
}
