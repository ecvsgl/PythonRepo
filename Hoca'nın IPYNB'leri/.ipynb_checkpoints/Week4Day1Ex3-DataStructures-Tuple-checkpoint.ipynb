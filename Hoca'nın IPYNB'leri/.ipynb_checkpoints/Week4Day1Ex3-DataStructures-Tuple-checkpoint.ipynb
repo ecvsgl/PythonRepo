{
 "cells": [
  {
   "cell_type": "code",
   "execution_count": 1,
   "id": "6cf7879c",
   "metadata": {},
   "outputs": [],
   "source": [
    "#Python - built-in data structures\n",
    "#1) list\n",
    "#2) set  - unique eleman barındıran ve index ile ulaşılamayan list\n",
    "#3) tuple - immutable list, indexle ulaşilabilir ama değiştirilemez\n",
    "#4) dict"
   ]
  },
  {
   "cell_type": "code",
   "execution_count": 5,
   "id": "591bd0ec",
   "metadata": {},
   "outputs": [
    {
     "name": "stdout",
     "output_type": "stream",
     "text": [
      "11\n",
      "22\n",
      "33\n",
      "44\n",
      "55\n",
      "11\n",
      "22\n",
      "33\n",
      "44\n",
      "55\n"
     ]
    },
    {
     "ename": "TypeError",
     "evalue": "'tuple' object does not support item assignment",
     "output_type": "error",
     "traceback": [
      "\u001b[0;31m---------------------------------------------------------------------------\u001b[0m",
      "\u001b[0;31mTypeError\u001b[0m                                 Traceback (most recent call last)",
      "\u001b[0;32m<ipython-input-5-e0f22ee644f7>\u001b[0m in \u001b[0;36m<module>\u001b[0;34m\u001b[0m\n\u001b[1;32m      6\u001b[0m     \u001b[0mprint\u001b[0m\u001b[0;34m(\u001b[0m\u001b[0msayilarTuple\u001b[0m\u001b[0;34m[\u001b[0m\u001b[0mi\u001b[0m\u001b[0;34m]\u001b[0m\u001b[0;34m)\u001b[0m \u001b[0;31m##index ile ulaşabiliriz\u001b[0m\u001b[0;34m\u001b[0m\u001b[0;34m\u001b[0m\u001b[0m\n\u001b[1;32m      7\u001b[0m \u001b[0;34m\u001b[0m\u001b[0m\n\u001b[0;32m----> 8\u001b[0;31m \u001b[0msayilarTuple\u001b[0m\u001b[0;34m[\u001b[0m\u001b[0;36m0\u001b[0m\u001b[0;34m]\u001b[0m \u001b[0;34m=\u001b[0m \u001b[0;36m111\u001b[0m\u001b[0;34m\u001b[0m\u001b[0;34m\u001b[0m\u001b[0m\n\u001b[0m\u001b[1;32m      9\u001b[0m \u001b[0;34m\u001b[0m\u001b[0m\n\u001b[1;32m     10\u001b[0m \u001b[0msayilarTuple\u001b[0m\u001b[0;34m.\u001b[0m\u001b[0mappend\u001b[0m\u001b[0;34m(\u001b[0m\u001b[0;36m99\u001b[0m\u001b[0;34m)\u001b[0m \u001b[0;31m#Tuple immutable olduğu için eleman ekleyemeyiz\u001b[0m\u001b[0;34m\u001b[0m\u001b[0;34m\u001b[0m\u001b[0m\n",
      "\u001b[0;31mTypeError\u001b[0m: 'tuple' object does not support item assignment"
     ]
    }
   ],
   "source": [
    "sayilarTuple = (11,22,33,44,55)\n",
    "for sayi in sayilarTuple:\n",
    "        print(sayi)\n",
    "        \n",
    "for i in range(len(sayilarTuple)):\n",
    "    print(sayilarTuple[i]) ##index ile ulaşabiliriz\n",
    "\n",
    "sayilarTuple[0] = 111\n",
    "\n",
    "sayilarTuple.append(99) #Tuple immutable olduğu için eleman ekleyemeyiz\n",
    "print(sayilarTuple)\n",
    "sayilarTuple.add(99)  #Tuple immutable olduğu için eleman ekleyemeyiz\n",
    "sayilarTuple.add(199)  #Tuple immutable olduğu için eleman ekleyemeyiz\n",
    "print(sayilarTuple)\n",
    "sayilarTuple.remove(33)\n",
    "print(sayilarTuple)\n",
    "sayilarTuple.clear()\n",
    "print(sayilarTuple)\n"
   ]
  },
  {
   "cell_type": "code",
   "execution_count": 6,
   "id": "d8f5363d",
   "metadata": {},
   "outputs": [
    {
     "name": "stdout",
     "output_type": "stream",
     "text": [
      "(5555, 6666, 11223)\n"
     ]
    }
   ],
   "source": [
    "sayilarTuple = (11,22,33,44,55)\n",
    "sayilarTuple = (5555,6666,11223)\n",
    "print(sayilarTuple)"
   ]
  },
  {
   "cell_type": "code",
   "execution_count": 7,
   "id": "da9be9ca",
   "metadata": {},
   "outputs": [
    {
     "name": "stdout",
     "output_type": "stream",
     "text": [
      "()\n"
     ]
    }
   ],
   "source": [
    "t = ()\n",
    "t = tuple()\n",
    "print(t)"
   ]
  },
  {
   "cell_type": "code",
   "execution_count": 9,
   "id": "7366aa71",
   "metadata": {},
   "outputs": [
    {
     "name": "stdout",
     "output_type": "stream",
     "text": [
      "[1, 2, 3, 5]\n"
     ]
    }
   ],
   "source": [
    "l = list(1,2,3,5)\n",
    "print(l)"
   ]
  },
  {
   "cell_type": "code",
   "execution_count": 11,
   "id": "a29b5dff",
   "metadata": {},
   "outputs": [
    {
     "name": "stdout",
     "output_type": "stream",
     "text": [
      "(11, 22, 33, 44, 55, 99)\n"
     ]
    }
   ],
   "source": [
    "t = (11,22,33,44,55)\n",
    "l = list(t)\n",
    "l.append(99)\n",
    "t2 = tuple(l)\n",
    "print(t2)"
   ]
  },
  {
   "cell_type": "code",
   "execution_count": 13,
   "id": "d1ca37f1",
   "metadata": {},
   "outputs": [
    {
     "data": {
      "text/plain": [
       "19"
      ]
     },
     "execution_count": 13,
     "metadata": {},
     "output_type": "execute_result"
    }
   ],
   "source": [
    "ss = [121,1231,312,123,123,213,213,21,312,321,321,3,1232353456,56767,679,678,74535412332,343,67567,657,54,123,1212,12,12,1212]\n",
    "len(ss)\n",
    "len(set(ss))"
   ]
  },
  {
   "cell_type": "code",
   "execution_count": null,
   "id": "93387e02",
   "metadata": {},
   "outputs": [],
   "source": []
  }
 ],
 "metadata": {
  "kernelspec": {
   "display_name": "Python 3 (ipykernel)",
   "language": "python",
   "name": "python3"
  },
  "language_info": {
   "codemirror_mode": {
    "name": "ipython",
    "version": 3
   },
   "file_extension": ".py",
   "mimetype": "text/x-python",
   "name": "python",
   "nbconvert_exporter": "python",
   "pygments_lexer": "ipython3",
   "version": "3.9.12"
  }
 },
 "nbformat": 4,
 "nbformat_minor": 5
}
