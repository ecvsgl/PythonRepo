{
 "cells": [
  {
   "cell_type": "code",
   "execution_count": 9,
   "id": "7b9faf74",
   "metadata": {},
   "outputs": [
    {
     "name": "stdout",
     "output_type": "stream",
     "text": [
      "﻿Oda;Salon;Alan;Fiyat\n",
      "3;1;200;3000000\n",
      "2;1;145;1999999\n",
      "4;2;220;5654333\n",
      "1;1;89;1850000\n",
      "3;1;145;2500000\n"
     ]
    }
   ],
   "source": [
    "file = open(\"evler.csv\",\"r\")\n",
    "content = file.read()\n",
    "print(content)"
   ]
  },
  {
   "cell_type": "code",
   "execution_count": 24,
   "id": "7b168a49",
   "metadata": {},
   "outputs": [
    {
     "name": "stdout",
     "output_type": "stream",
     "text": [
      "1  ->  3;1;200;3000000  -->  ['3', '1', '200', '3000000\\n']  ->  3\n",
      "2  ->  2;1;145;1999999  -->  ['2', '1', '145', '1999999\\n']  ->  2\n",
      "3  ->  4;2;220;5654333  -->  ['4', '2', '220', '5654333\\n']  ->  4\n",
      "4  ->  1;1;89;1850000  -->  ['1', '1', '89', '1850000\\n']  ->  1\n",
      "5  ->  3;1;145;2500000  -->  ['3', '1', '145', '2500000']  ->  3\n"
     ]
    },
    {
     "data": {
      "text/plain": [
       "0"
      ]
     },
     "execution_count": 24,
     "metadata": {},
     "output_type": "execute_result"
    }
   ],
   "source": [
    "def toplamfiyatHesapla(filename):\n",
    "    file2 = open(filename,\"r\")\n",
    "    lines = file2.readlines()\n",
    "    toplam = 0\n",
    "    for x in range(len(lines)):\n",
    "        if x == 0:\n",
    "            continue\n",
    "        bilgi = lines[x].split(\";\")\n",
    "        print(x, \" -> \",lines[x].strip() ,\" --> \",bilgi, \" -> \", bilgi[0].strip())\n",
    "    return toplam\n",
    "toplamfiyatHesapla(\"evler.csv\")"
   ]
  },
  {
   "cell_type": "code",
   "execution_count": 41,
   "id": "32893056",
   "metadata": {},
   "outputs": [
    {
     "name": "stdout",
     "output_type": "stream",
     "text": [
      "﻿Oda;Salon;Alan;Fiyat\n",
      "3;1;200;3000000\n",
      "1  ->  3;1;200;3000000  -->  ['3', '1', '200', '3000000']  ->  3\n",
      "2;1;145;1999999\n",
      "2  ->  2;1;145;1999999  -->  ['2', '1', '145', '1999999']  ->  2\n",
      "4;2;220;5654333\n",
      "3  ->  4;2;220;5654333  -->  ['4', '2', '220', '5654333']  ->  4\n",
      "1;1;89;1850000\n",
      "4  ->  1;1;89;1850000  -->  ['1', '1', '89', '1850000']  ->  1\n",
      "3;1;145;2500000\n",
      "5  ->  3;1;145;2500000  -->  ['3', '1', '145', '2500000']  ->  3\n"
     ]
    },
    {
     "data": {
      "text/plain": [
       "0"
      ]
     },
     "execution_count": 41,
     "metadata": {},
     "output_type": "execute_result"
    }
   ],
   "source": [
    "def toplamfiyatHesapla(filename):\n",
    "    file2 = open(filename,\"r\")\n",
    "    icerik = file2.read()\n",
    "    #print(icerik)\n",
    "    lines = icerik.split(\"\\n\")\n",
    "    toplam = 0\n",
    "    for x in range(len(lines)):\n",
    "        if x == 0:\n",
    "            continue\n",
    "        bilgi = lines[x].split(\";\")\n",
    "        print(x, \" -> \",lines[x].strip() ,\" --> \",bilgi, \" -> \", bilgi[0].strip())\n",
    "    return toplam\n",
    "toplamfiyatHesapla(\"evler.csv\")"
   ]
  },
  {
   "cell_type": "code",
   "execution_count": 30,
   "id": "0a74a819",
   "metadata": {},
   "outputs": [
    {
     "data": {
      "text/plain": [
       "15004332"
      ]
     },
     "execution_count": 30,
     "metadata": {},
     "output_type": "execute_result"
    }
   ],
   "source": [
    "def toplamfiyatHesapla(filename):\n",
    "    file2 = open(filename,\"r\")\n",
    "    lines = file2.readlines()\n",
    "    #print(\"Satırlar \",type(lines))\n",
    "    toplam = 0\n",
    "    for x in range(len(lines)):\n",
    "        if x > 0 :\n",
    "            bilgi = lines[x].split(\";\")\n",
    "            toplam += int(bilgi[3])\n",
    "    return toplam\n",
    "toplamfiyatHesapla(\"evler.csv\")"
   ]
  },
  {
   "cell_type": "code",
   "execution_count": 43,
   "id": "39d2201b",
   "metadata": {},
   "outputs": [
    {
     "name": "stdout",
     "output_type": "stream",
     "text": [
      "['\\ufeffOda;Salon;Alan;Fiyat\\n', '3;1;200;3000000\\n', '2;1;145;1999999\\n', '4;2;220;5654333\\n', '1;1;89;1850000\\n', '3;1;145;2500000']\n"
     ]
    }
   ],
   "source": [
    "file2 = open(\"evler.csv\",\"r\")\n",
    "lines = file2.readlines()\n",
    "print(lines)"
   ]
  },
  {
   "cell_type": "code",
   "execution_count": null,
   "id": "e1f1d040",
   "metadata": {},
   "outputs": [],
   "source": []
  }
 ],
 "metadata": {
  "kernelspec": {
   "display_name": "Python 3 (ipykernel)",
   "language": "python",
   "name": "python3"
  },
  "language_info": {
   "codemirror_mode": {
    "name": "ipython",
    "version": 3
   },
   "file_extension": ".py",
   "mimetype": "text/x-python",
   "name": "python",
   "nbconvert_exporter": "python",
   "pygments_lexer": "ipython3",
   "version": "3.9.12"
  }
 },
 "nbformat": 4,
 "nbformat_minor": 5
}
