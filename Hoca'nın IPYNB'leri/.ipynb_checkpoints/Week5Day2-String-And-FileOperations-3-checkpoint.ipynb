{
 "cells": [
  {
   "cell_type": "code",
   "execution_count": 45,
   "id": "3a42b956",
   "metadata": {},
   "outputs": [],
   "source": [
    "def sifrele(kelime,sifrelemeSayisi):\n",
    "    alfabe = \"abcçdefgğhıijklmnoöprsştuüvyz\"\n",
    "    alfabe = alfabe + alfabe.upper()\n",
    "    alfabe = alfabe+\" \"\n",
    "    sifrelenmis = \"\"\n",
    "    for harf in kelime:\n",
    "        if harf == \" \":\n",
    "            sifrelenmis += harf\n",
    "            continue\n",
    "        harfIndex = alfabe.index(harf)\n",
    "        yeniIndex = (harfIndex+sifrelemeSayisi)%(len(alfabe))\n",
    "        sifrelenmis += alfabe[yeniIndex]\n",
    "    return sifrelenmis\n",
    "\n",
    "def desifreEt(kelime,sifrelemeSayisi):\n",
    "    alfabe = \"abcçdefgğhıijklmnoöprsştuüvyz\"\n",
    "    alfabe = alfabe + alfabe.upper()\n",
    "    alfabe = alfabe+\" \"\n",
    "    sifrelenmis = \"\"\n",
    "    for harf in kelime:\n",
    "        if harf == \" \":\n",
    "            sifrelenmis += harf\n",
    "            continue\n",
    "        harfIndex = alfabe.index(harf)\n",
    "        yeniIndex = (harfIndex-sifrelemeSayisi)%(len(alfabe))\n",
    "        sifrelenmis += alfabe[yeniIndex]\n",
    "    return sifrelenmis"
   ]
  },
  {
   "cell_type": "code",
   "execution_count": 47,
   "id": "ed9d5c05",
   "metadata": {},
   "outputs": [
    {
     "name": "stdout",
     "output_type": "stream",
     "text": [
      "Şifrelendi  Üdedrfl ZrmBhümyhüm ccc ÇÇÇ ddd \n",
      "Deşifre edildi  Sabancı Univesitesi ZZZ zzz aaa \n"
     ]
    }
   ],
   "source": [
    "s = sifrele(\"Sabancı Univesitesi ZZZ zzz aaa \",4)\n",
    "print(\"Şifrelendi \",s)\n",
    "t = desifreEt(s,4)\n",
    "print(\"Deşifre edildi \",t)"
   ]
  },
  {
   "cell_type": "code",
   "execution_count": 48,
   "id": "ec7e64b9",
   "metadata": {},
   "outputs": [],
   "source": [
    "#Dosya Yazma\n",
    "yeniDosya = open(\"sifreli.txt\",\"w\")\n",
    "yeniDosya.write(\"ahmet\")\n",
    "yeniDosya.close()"
   ]
  },
  {
   "cell_type": "code",
   "execution_count": 49,
   "id": "9ff85249",
   "metadata": {},
   "outputs": [],
   "source": [
    "def dosyaSifrele(birinciDosya,ikinciDosya,sifrelemeSayisi):\n",
    "    file1 = open(birinciDosya,\"r\")\n",
    "    file2 = open(ikinciDosya,\"w\")\n",
    "    file1Lines = file1.readlines()\n",
    "    for line in file1Lines:\n",
    "        yeniLine = sifrele(line.strip(),sifrelemeSayisi)\n",
    "        file2.write(yeniLine+\"\\n\")\n",
    "    file2.close()\n",
    "    file1.close()\n",
    "        "
   ]
  },
  {
   "cell_type": "code",
   "execution_count": 50,
   "id": "425751e7",
   "metadata": {},
   "outputs": [
    {
     "name": "stdout",
     "output_type": "stream",
     "text": [
      "bitti\n"
     ]
    }
   ],
   "source": [
    "dosyaSifrele(\"sifresiz.txt\",\"yenisifreli.txt\",4)\n",
    "print(\"bitti\")"
   ]
  },
  {
   "cell_type": "code",
   "execution_count": null,
   "id": "2f645474",
   "metadata": {},
   "outputs": [],
   "source": []
  }
 ],
 "metadata": {
  "kernelspec": {
   "display_name": "Python 3 (ipykernel)",
   "language": "python",
   "name": "python3"
  },
  "language_info": {
   "codemirror_mode": {
    "name": "ipython",
    "version": 3
   },
   "file_extension": ".py",
   "mimetype": "text/x-python",
   "name": "python",
   "nbconvert_exporter": "python",
   "pygments_lexer": "ipython3",
   "version": "3.9.12"
  }
 },
 "nbformat": 4,
 "nbformat_minor": 5
}
