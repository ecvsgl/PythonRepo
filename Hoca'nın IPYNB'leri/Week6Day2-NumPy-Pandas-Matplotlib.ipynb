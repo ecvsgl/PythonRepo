{
 "cells": [
  {
   "cell_type": "code",
   "execution_count": 1,
   "id": "ee6b08cc",
   "metadata": {},
   "outputs": [
    {
     "name": "stdout",
     "output_type": "stream",
     "text": [
      "[1, 2, 3, 4, 5, 6, 7, 8, 9, 9, 8, 7, 6, 5, 4, 3, 2, 1]\n"
     ]
    }
   ],
   "source": [
    "a = [1,2,3,4,5,6,7,8,9]\n",
    "b = [9,8,7,6,5,4,3,2,1]\n",
    "c = a + b \n",
    "print(c)"
   ]
  },
  {
   "cell_type": "code",
   "execution_count": 3,
   "id": "9cf88bc4",
   "metadata": {},
   "outputs": [
    {
     "name": "stdout",
     "output_type": "stream",
     "text": [
      "[10 10 10 10 10 10 10 10 10]\n"
     ]
    }
   ],
   "source": [
    "import numpy as np\n",
    "\n",
    "numpyArr1 = np.array(a)\n",
    "numpyArr2 = np.array(b)\n",
    "\n",
    "sonuc = numpyArr1 + numpyArr2\n",
    "print(sonuc)"
   ]
  },
  {
   "cell_type": "code",
   "execution_count": 12,
   "id": "542131ae",
   "metadata": {},
   "outputs": [
    {
     "name": "stdout",
     "output_type": "stream",
     "text": [
      "[[1 1 1]\n",
      " [1 1 1]\n",
      " [1 1 1]]\n",
      "[[1. 0. 0.]\n",
      " [0. 1. 0.]\n",
      " [0. 0. 1.]]\n",
      "[[1. 1. 1.]\n",
      " [1. 1. 1.]\n",
      " [1. 1. 1.]]\n"
     ]
    }
   ],
   "source": [
    "g = np.ones(9,dtype=int)\n",
    "m1 = g.reshape(3,3)\n",
    "print(m1)\n",
    "m2 = np.eye(3)\n",
    "print(m2)\n",
    "\n",
    "m3 = np.matmul(m1,m2)\n",
    "print(m3)"
   ]
  },
  {
   "cell_type": "code",
   "execution_count": 14,
   "id": "a99eb7db",
   "metadata": {},
   "outputs": [
    {
     "name": "stdout",
     "output_type": "stream",
     "text": [
      "[[12. 23.]\n",
      " [21. 88.]\n",
      " [23. 55.]\n",
      " [87. 45.]\n",
      " [ 1. 32.]\n",
      " [43.  9.]\n",
      " [67. 56.]\n",
      " [66. 34.]]\n"
     ]
    }
   ],
   "source": [
    "k = np.loadtxt(\"sayilar.txt\",delimiter=',')\n",
    "print(k)"
   ]
  },
  {
   "cell_type": "code",
   "execution_count": 25,
   "id": "76d87d6e",
   "metadata": {},
   "outputs": [
    {
     "name": "stdout",
     "output_type": "stream",
     "text": [
      "[[ 0  1  2  3  4  5  6  7  8  9]\n",
      " [10 11 12 13 14 15 16 17 18 19]\n",
      " [20 21 22 23 24 25 26 27 28 29]\n",
      " [30 31 32 33 34 35 36 37 38 39]\n",
      " [40 41 42 43 44 45 46 47 48 49]\n",
      " [50 51 52 53 54 55 56 57 58 59]\n",
      " [60 61 62 63 64 65 66 67 68 69]\n",
      " [70 71 72 73 74 75 76 77 78 79]\n",
      " [80 81 82 83 84 85 86 87 88 89]\n",
      " [90 91 92 93 94 95 96 97 98 99]]\n"
     ]
    }
   ],
   "source": [
    "s1 = np.arange(0,100)\n",
    "s2 = s1.reshape(10,10)\n",
    "print(s2)"
   ]
  },
  {
   "cell_type": "code",
   "execution_count": 28,
   "id": "55279fbe",
   "metadata": {},
   "outputs": [
    {
     "data": {
      "text/plain": [
       "array([[ 2,  4,  6],\n",
       "       [12, 14, 16],\n",
       "       [22, 24, 26],\n",
       "       [32, 34, 36],\n",
       "       [42, 44, 46],\n",
       "       [52, 54, 56],\n",
       "       [62, 64, 66],\n",
       "       [72, 74, 76],\n",
       "       [82, 84, 86],\n",
       "       [92, 94, 96]])"
      ]
     },
     "execution_count": 28,
     "metadata": {},
     "output_type": "execute_result"
    }
   ],
   "source": [
    "s2[:,2:8:2]"
   ]
  },
  {
   "cell_type": "code",
   "execution_count": 29,
   "id": "c72cefc0",
   "metadata": {},
   "outputs": [
    {
     "data": {
      "text/plain": [
       "array([[ 7,  8,  9],\n",
       "       [17, 18, 19],\n",
       "       [27, 28, 29]])"
      ]
     },
     "execution_count": 29,
     "metadata": {},
     "output_type": "execute_result"
    }
   ],
   "source": [
    "s2[0:3,7:]"
   ]
  },
  {
   "cell_type": "code",
   "execution_count": 38,
   "id": "d4d8bcb1",
   "metadata": {},
   "outputs": [
    {
     "name": "stdout",
     "output_type": "stream",
     "text": [
      "Satir 0 Ortalama :  45.0\n",
      "Satir 0 Toplam :  450\n",
      "Satir 0 Standart Sapma :  28.722813232690143\n",
      "Satir 1 Ortalama :  46.0\n",
      "Satir 1 Toplam :  460\n",
      "Satir 1 Standart Sapma :  28.722813232690143\n",
      "Satir 2 Ortalama :  47.0\n",
      "Satir 2 Toplam :  470\n",
      "Satir 2 Standart Sapma :  28.722813232690143\n",
      "Satir 3 Ortalama :  48.0\n",
      "Satir 3 Toplam :  480\n",
      "Satir 3 Standart Sapma :  28.722813232690143\n",
      "Satir 4 Ortalama :  49.0\n",
      "Satir 4 Toplam :  490\n",
      "Satir 4 Standart Sapma :  28.722813232690143\n",
      "Satir 5 Ortalama :  50.0\n",
      "Satir 5 Toplam :  500\n",
      "Satir 5 Standart Sapma :  28.722813232690143\n",
      "Satir 6 Ortalama :  51.0\n",
      "Satir 6 Toplam :  510\n",
      "Satir 6 Standart Sapma :  28.722813232690143\n",
      "Satir 7 Ortalama :  52.0\n",
      "Satir 7 Toplam :  520\n",
      "Satir 7 Standart Sapma :  28.722813232690143\n",
      "Satir 8 Ortalama :  53.0\n",
      "Satir 8 Toplam :  530\n",
      "Satir 8 Standart Sapma :  28.722813232690143\n",
      "Satir 9 Ortalama :  54.0\n",
      "Satir 9 Toplam :  540\n",
      "Satir 9 Standart Sapma :  28.722813232690143\n"
     ]
    }
   ],
   "source": [
    "\n",
    "for i in range(10):\n",
    "    print(\"Satir\",i,\"Ortalama : \", s2[:,i].mean())\n",
    "    print(\"Satir\",i,\"Toplam : \", s2[:,i].sum())\n",
    "    print(\"Satir\",i,\"Standart Sapma : \", s2[:,i].std())"
   ]
  },
  {
   "cell_type": "code",
   "execution_count": 39,
   "id": "a47daa6b",
   "metadata": {},
   "outputs": [
    {
     "data": {
      "text/html": [
       "<div>\n",
       "<style scoped>\n",
       "    .dataframe tbody tr th:only-of-type {\n",
       "        vertical-align: middle;\n",
       "    }\n",
       "\n",
       "    .dataframe tbody tr th {\n",
       "        vertical-align: top;\n",
       "    }\n",
       "\n",
       "    .dataframe thead th {\n",
       "        text-align: right;\n",
       "    }\n",
       "</style>\n",
       "<table border=\"1\" class=\"dataframe\">\n",
       "  <thead>\n",
       "    <tr style=\"text-align: right;\">\n",
       "      <th></th>\n",
       "      <th>x</th>\n",
       "      <th>y</th>\n",
       "      <th>z</th>\n",
       "      <th>sonuc</th>\n",
       "    </tr>\n",
       "  </thead>\n",
       "  <tbody>\n",
       "    <tr>\n",
       "      <th>0</th>\n",
       "      <td>1</td>\n",
       "      <td>1</td>\n",
       "      <td>1</td>\n",
       "      <td>6</td>\n",
       "    </tr>\n",
       "    <tr>\n",
       "      <th>1</th>\n",
       "      <td>2</td>\n",
       "      <td>1</td>\n",
       "      <td>3</td>\n",
       "      <td>11</td>\n",
       "    </tr>\n",
       "    <tr>\n",
       "      <th>2</th>\n",
       "      <td>0</td>\n",
       "      <td>1</td>\n",
       "      <td>4</td>\n",
       "      <td>6</td>\n",
       "    </tr>\n",
       "    <tr>\n",
       "      <th>3</th>\n",
       "      <td>4</td>\n",
       "      <td>5</td>\n",
       "      <td>1</td>\n",
       "      <td>23</td>\n",
       "    </tr>\n",
       "    <tr>\n",
       "      <th>4</th>\n",
       "      <td>2</td>\n",
       "      <td>5</td>\n",
       "      <td>9</td>\n",
       "      <td>25</td>\n",
       "    </tr>\n",
       "  </tbody>\n",
       "</table>\n",
       "</div>"
      ],
      "text/plain": [
       "   x  y  z  sonuc\n",
       "0  1  1  1      6\n",
       "1  2  1  3     11\n",
       "2  0  1  4      6\n",
       "3  4  5  1     23\n",
       "4  2  5  9     25"
      ]
     },
     "execution_count": 39,
     "metadata": {},
     "output_type": "execute_result"
    }
   ],
   "source": [
    "import pandas as pd\n",
    "import numpy as np\n",
    "\n",
    "dataDF = pd.read_csv(\"data.txt\")\n",
    "dataDF.head()"
   ]
  },
  {
   "cell_type": "code",
   "execution_count": 53,
   "id": "a676366d",
   "metadata": {},
   "outputs": [],
   "source": [
    "takasDF = pd.read_excel(\"Takasbank.xlsx\")\n",
    "takasDF.loc[len(takasDF.index)] = ['2022-11-11',\"ABC\",'Ahmet Fon',1.5,1,20,5.00]\n",
    "takasDF.to_excel(\"t2.xlsx\")"
   ]
  },
  {
   "cell_type": "code",
   "execution_count": 44,
   "id": "42336988",
   "metadata": {},
   "outputs": [
    {
     "data": {
      "text/html": [
       "<div>\n",
       "<style scoped>\n",
       "    .dataframe tbody tr th:only-of-type {\n",
       "        vertical-align: middle;\n",
       "    }\n",
       "\n",
       "    .dataframe tbody tr th {\n",
       "        vertical-align: top;\n",
       "    }\n",
       "\n",
       "    .dataframe thead th {\n",
       "        text-align: right;\n",
       "    }\n",
       "</style>\n",
       "<table border=\"1\" class=\"dataframe\">\n",
       "  <thead>\n",
       "    <tr style=\"text-align: right;\">\n",
       "      <th></th>\n",
       "      <th>Fiyat</th>\n",
       "    </tr>\n",
       "  </thead>\n",
       "  <tbody>\n",
       "    <tr>\n",
       "      <th>0</th>\n",
       "      <td>8.822890</td>\n",
       "    </tr>\n",
       "    <tr>\n",
       "      <th>1</th>\n",
       "      <td>0.849130</td>\n",
       "    </tr>\n",
       "    <tr>\n",
       "      <th>2</th>\n",
       "      <td>3.862981</td>\n",
       "    </tr>\n",
       "    <tr>\n",
       "      <th>3</th>\n",
       "      <td>14.812840</td>\n",
       "    </tr>\n",
       "    <tr>\n",
       "      <th>4</th>\n",
       "      <td>0.000000</td>\n",
       "    </tr>\n",
       "  </tbody>\n",
       "</table>\n",
       "</div>"
      ],
      "text/plain": [
       "       Fiyat\n",
       "0   8.822890\n",
       "1   0.849130\n",
       "2   3.862981\n",
       "3  14.812840\n",
       "4   0.000000"
      ]
     },
     "execution_count": 44,
     "metadata": {},
     "output_type": "execute_result"
    }
   ],
   "source": [
    "takasDF[['Fiyat']].head()"
   ]
  },
  {
   "cell_type": "code",
   "execution_count": 49,
   "id": "b7ae5dce",
   "metadata": {},
   "outputs": [
    {
     "data": {
      "text/html": [
       "<div>\n",
       "<style scoped>\n",
       "    .dataframe tbody tr th:only-of-type {\n",
       "        vertical-align: middle;\n",
       "    }\n",
       "\n",
       "    .dataframe tbody tr th {\n",
       "        vertical-align: top;\n",
       "    }\n",
       "\n",
       "    .dataframe thead th {\n",
       "        text-align: right;\n",
       "    }\n",
       "</style>\n",
       "<table border=\"1\" class=\"dataframe\">\n",
       "  <thead>\n",
       "    <tr style=\"text-align: right;\">\n",
       "      <th></th>\n",
       "      <th>Tarih</th>\n",
       "      <th>Fon Kodu</th>\n",
       "      <th>Fon Adı</th>\n",
       "      <th>Fiyat</th>\n",
       "      <th>Tedavüldeki Pay Sayısı</th>\n",
       "      <th>Kişi Sayısı</th>\n",
       "      <th>Fon Toplam Değer</th>\n",
       "    </tr>\n",
       "  </thead>\n",
       "  <tbody>\n",
       "    <tr>\n",
       "      <th>4745</th>\n",
       "      <td>2022-11-11</td>\n",
       "      <td>GA1</td>\n",
       "      <td>GARANTİ PORTFÖY  BORÇLANMA ARAÇLARI FONU</td>\n",
       "      <td>579.784056</td>\n",
       "      <td>585893.0</td>\n",
       "      <td>919</td>\n",
       "      <td>3.396914e+08</td>\n",
       "    </tr>\n",
       "    <tr>\n",
       "      <th>3621</th>\n",
       "      <td>2022-11-10</td>\n",
       "      <td>GA1</td>\n",
       "      <td>GARANTİ PORTFÖY  BORÇLANMA ARAÇLARI FONU</td>\n",
       "      <td>579.515065</td>\n",
       "      <td>586362.0</td>\n",
       "      <td>1234</td>\n",
       "      <td>3.398056e+08</td>\n",
       "    </tr>\n",
       "    <tr>\n",
       "      <th>2497</th>\n",
       "      <td>2022-11-09</td>\n",
       "      <td>GA1</td>\n",
       "      <td>GARANTİ PORTFÖY  BORÇLANMA ARAÇLARI FONU</td>\n",
       "      <td>579.117571</td>\n",
       "      <td>585013.0</td>\n",
       "      <td>1233</td>\n",
       "      <td>3.387913e+08</td>\n",
       "    </tr>\n",
       "    <tr>\n",
       "      <th>1377</th>\n",
       "      <td>2022-11-08</td>\n",
       "      <td>GA1</td>\n",
       "      <td>GARANTİ PORTFÖY  BORÇLANMA ARAÇLARI FONU</td>\n",
       "      <td>578.615596</td>\n",
       "      <td>589630.0</td>\n",
       "      <td>1232</td>\n",
       "      <td>3.411691e+08</td>\n",
       "    </tr>\n",
       "    <tr>\n",
       "      <th>259</th>\n",
       "      <td>2022-11-07</td>\n",
       "      <td>GA1</td>\n",
       "      <td>GARANTİ PORTFÖY  BORÇLANMA ARAÇLARI FONU</td>\n",
       "      <td>578.337130</td>\n",
       "      <td>559590.0</td>\n",
       "      <td>1243</td>\n",
       "      <td>3.236317e+08</td>\n",
       "    </tr>\n",
       "    <tr>\n",
       "      <th>...</th>\n",
       "      <td>...</td>\n",
       "      <td>...</td>\n",
       "      <td>...</td>\n",
       "      <td>...</td>\n",
       "      <td>...</td>\n",
       "      <td>...</td>\n",
       "      <td>...</td>\n",
       "    </tr>\n",
       "    <tr>\n",
       "      <th>559</th>\n",
       "      <td>2022-11-07</td>\n",
       "      <td>IPK</td>\n",
       "      <td>İŞ PORTFÖY KOS SERBEST ÖZEL FON</td>\n",
       "      <td>10.377007</td>\n",
       "      <td>64747074.0</td>\n",
       "      <td>1</td>\n",
       "      <td>6.718808e+08</td>\n",
       "    </tr>\n",
       "    <tr>\n",
       "      <th>1677</th>\n",
       "      <td>2022-11-08</td>\n",
       "      <td>IPK</td>\n",
       "      <td>İŞ PORTFÖY KOS SERBEST ÖZEL FON</td>\n",
       "      <td>10.377007</td>\n",
       "      <td>64747074.0</td>\n",
       "      <td>1</td>\n",
       "      <td>6.718808e+08</td>\n",
       "    </tr>\n",
       "    <tr>\n",
       "      <th>5046</th>\n",
       "      <td>2022-11-11</td>\n",
       "      <td>IPK</td>\n",
       "      <td>İŞ PORTFÖY KOS SERBEST ÖZEL FON</td>\n",
       "      <td>10.025585</td>\n",
       "      <td>64747074.0</td>\n",
       "      <td>1</td>\n",
       "      <td>6.491273e+08</td>\n",
       "    </tr>\n",
       "    <tr>\n",
       "      <th>2798</th>\n",
       "      <td>2022-11-09</td>\n",
       "      <td>IPK</td>\n",
       "      <td>İŞ PORTFÖY KOS SERBEST ÖZEL FON</td>\n",
       "      <td>10.025585</td>\n",
       "      <td>64747074.0</td>\n",
       "      <td>1</td>\n",
       "      <td>6.491273e+08</td>\n",
       "    </tr>\n",
       "    <tr>\n",
       "      <th>3922</th>\n",
       "      <td>2022-11-10</td>\n",
       "      <td>IPK</td>\n",
       "      <td>İŞ PORTFÖY KOS SERBEST ÖZEL FON</td>\n",
       "      <td>10.025585</td>\n",
       "      <td>64747074.0</td>\n",
       "      <td>1</td>\n",
       "      <td>6.491273e+08</td>\n",
       "    </tr>\n",
       "  </tbody>\n",
       "</table>\n",
       "<p>1662 rows × 7 columns</p>\n",
       "</div>"
      ],
      "text/plain": [
       "          Tarih Fon Kodu                                   Fon Adı  \\\n",
       "4745 2022-11-11      GA1  GARANTİ PORTFÖY  BORÇLANMA ARAÇLARI FONU   \n",
       "3621 2022-11-10      GA1  GARANTİ PORTFÖY  BORÇLANMA ARAÇLARI FONU   \n",
       "2497 2022-11-09      GA1  GARANTİ PORTFÖY  BORÇLANMA ARAÇLARI FONU   \n",
       "1377 2022-11-08      GA1  GARANTİ PORTFÖY  BORÇLANMA ARAÇLARI FONU   \n",
       "259  2022-11-07      GA1  GARANTİ PORTFÖY  BORÇLANMA ARAÇLARI FONU   \n",
       "...         ...      ...                                       ...   \n",
       "559  2022-11-07      IPK           İŞ PORTFÖY KOS SERBEST ÖZEL FON   \n",
       "1677 2022-11-08      IPK           İŞ PORTFÖY KOS SERBEST ÖZEL FON   \n",
       "5046 2022-11-11      IPK           İŞ PORTFÖY KOS SERBEST ÖZEL FON   \n",
       "2798 2022-11-09      IPK           İŞ PORTFÖY KOS SERBEST ÖZEL FON   \n",
       "3922 2022-11-10      IPK           İŞ PORTFÖY KOS SERBEST ÖZEL FON   \n",
       "\n",
       "           Fiyat  Tedavüldeki Pay Sayısı  Kişi Sayısı  Fon Toplam Değer  \n",
       "4745  579.784056                585893.0          919      3.396914e+08  \n",
       "3621  579.515065                586362.0         1234      3.398056e+08  \n",
       "2497  579.117571                585013.0         1233      3.387913e+08  \n",
       "1377  578.615596                589630.0         1232      3.411691e+08  \n",
       "259   578.337130                559590.0         1243      3.236317e+08  \n",
       "...          ...                     ...          ...               ...  \n",
       "559    10.377007              64747074.0            1      6.718808e+08  \n",
       "1677   10.377007              64747074.0            1      6.718808e+08  \n",
       "5046   10.025585              64747074.0            1      6.491273e+08  \n",
       "2798   10.025585              64747074.0            1      6.491273e+08  \n",
       "3922   10.025585              64747074.0            1      6.491273e+08  \n",
       "\n",
       "[1662 rows x 7 columns]"
      ]
     },
     "execution_count": 49,
     "metadata": {},
     "output_type": "execute_result"
    }
   ],
   "source": [
    "bDF = takasDF[takasDF['Fiyat']>10]\n",
    "bDF.sort_values(by=['Fiyat'],ascending=False)"
   ]
  },
  {
   "cell_type": "code",
   "execution_count": 55,
   "id": "7a1bcf10",
   "metadata": {},
   "outputs": [
    {
     "name": "stdout",
     "output_type": "stream",
     "text": [
      "saved\n"
     ]
    }
   ],
   "source": [
    "newDF = pd.DataFrame({'ID': [1, 2, 3, 4, 5, 6],\n",
    "                    'Name': ['Ahmet', 'Caner', 'Caner', 'Yiğit', 'Duhan', 'Zehra'],\n",
    "                   'Lastname': ['Demirelli', 'Başdoğan', 'Demirelli', 'Demirelli', 'Demirelli', 'Demirelli']\n",
    "                     })\n",
    "newDF.to_excel('class.xlsx',index=False)\n",
    "print('saved')"
   ]
  },
  {
   "cell_type": "code",
   "execution_count": 58,
   "id": "f8a0eb28",
   "metadata": {},
   "outputs": [
    {
     "data": {
      "image/png": "[encoded data removed]",
      "text/plain": [
       "<Figure size 432x288 with 1 Axes>"
      ]
     },
     "metadata": {
      "needs_background": "light"
     },
     "output_type": "display_data"
    }
   ],
   "source": [
    "import matplotlib.pyplot as plt\n",
    "\n",
    "x = [12,34,13,42,67,12]\n",
    "y = [1,5,3,2,6,7]\n",
    "\n",
    "plt.scatter(x,y)\n",
    "plt.show()"
   ]
  },
  {
   "cell_type": "code",
   "execution_count": 60,
   "id": "2bc0286f",
   "metadata": {},
   "outputs": [
    {
     "data": {
      "image/png": "[encoded data removed]",
      "text/plain": [
       "<Figure size 432x288 with 1 Axes>"
      ]
     },
     "metadata": {
      "needs_background": "light"
     },
     "output_type": "display_data"
    }
   ],
   "source": [
    "x = [1,2,3,4,5,6]\n",
    "y = [1,5,3,2,6,7]\n",
    "\n",
    "plt.plot(x,y)\n",
    "plt.show()"
   ]
  },
  {
   "cell_type": "code",
   "execution_count": 62,
   "id": "d1b3717b",
   "metadata": {},
   "outputs": [
    {
     "data": {
      "image/png": "[encoded data removed]",
      "text/plain": [
       "<Figure size 432x288 with 1 Axes>"
      ]
     },
     "metadata": {
      "needs_background": "light"
     },
     "output_type": "display_data"
    }
   ],
   "source": [
    "x = [\"Ankara\",\"İzmir\",\"Istanbul\",\"Dazkırı\",\"Konya\",\"Erzurum\"]\n",
    "y = [1,5,3,2,6,7]\n",
    "\n",
    "plt.bar(x,y)\n",
    "plt.show()"
   ]
  },
  {
   "cell_type": "code",
   "execution_count": 71,
   "id": "e7e83182",
   "metadata": {},
   "outputs": [
    {
     "name": "stdout",
     "output_type": "stream",
     "text": [
      "[  1   2   3   4   5   6   7   8   9  10  11  12  13  14  15  16  17  18\n",
      "  19  20  21  22  23  24  25  26  27  28  29  30  31  32  33  34  35  36\n",
      "  37  38  39  40  41  42  43  44  45  46  47  48  49  50  51  52  53  54\n",
      "  55  56  57  58  59  60  61  62  63  64  65  66  67  68  69  70  71  72\n",
      "  73  74  75  76  77  78  79  80  81  82  83  84  85  86  87  88  89  90\n",
      "  91  92  93  94  95  96  97  98  99 100]\n",
      "[51 33  6 50 28 51 48 94 29 27 74 10 67 44 94 11 21 83 78  9  1  5  6 19\n",
      " 61 38 57 40 49 12  3 37 46 69 90 31 47 41 17 26 80 56 61 68 72  2 69 28\n",
      " 99 40 66 18 14  9 36 26 54 50 17 90 38 68 33 14  2 76 88 24 90 71  4 17\n",
      "  4 15 65 37 61 36 88 42 68 49 93 18 36 53 92 27 20 75 58 52 97 46 68 20\n",
      " 68 15  3 74]\n"
     ]
    },
    {
     "data": {
      "image/png": "[encoded data removed]",
      "text/plain": [
       "<Figure size 432x288 with 1 Axes>"
      ]
     },
     "metadata": {
      "needs_background": "light"
     },
     "output_type": "display_data"
    }
   ],
   "source": [
    "x = np.arange(1,101)\n",
    "print(x)\n",
    "y = np.random.randint(0,100,size=100)\n",
    "print(y)\n",
    "\n",
    "\n",
    "plt.plot(x,y)\n",
    "plt.savefig('random.png')\n",
    "plt.show()"
   ]
  },
  {
   "cell_type": "code",
   "execution_count": null,
   "id": "c163aa53",
   "metadata": {},
   "outputs": [],
   "source": []
  }
 ],
 "metadata": {
  "kernelspec": {
   "display_name": "Python 3 (ipykernel)",
   "language": "python",
   "name": "python3"
  },
  "language_info": {
   "codemirror_mode": {
    "name": "ipython",
    "version": 3
   },
   "file_extension": ".py",
   "mimetype": "text/x-python",
   "name": "python",
   "nbconvert_exporter": "python",
   "pygments_lexer": "ipython3",
   "version": "3.9.12"
  }
 },
 "nbformat": 4,
 "nbformat_minor": 5
}
