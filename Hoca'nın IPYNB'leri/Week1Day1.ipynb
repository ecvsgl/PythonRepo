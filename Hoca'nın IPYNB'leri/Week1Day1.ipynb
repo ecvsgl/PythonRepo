{
  "nbformat": 4,
  "nbformat_minor": 0,
  "metadata": {
    "colab": {
      "provenance": []
    },
    "kernelspec": {
      "name": "python3",
      "display_name": "Python 3"
    },
    "language_info": {
      "name": "python"
    }
  },
  "cells": [
    {
      "cell_type": "code",
      "execution_count": null,
      "metadata": {
        "colab": {
          "base_uri": "https://localhost:8080/"
        },
        "id": "gOTPeNkWxCp1",
        "outputId": "a7b53d82-6948-499b-e77b-29ba548087a3"
      },
      "outputs": [
        {
          "output_type": "stream",
          "name": "stdout",
          "text": [
            "Uzun ince bir yoldayım.\n"
          ]
        }
      ],
      "source": [
        "print(\"Uzun ince bir yoldayım.\")"
      ]
    }
  ]
}