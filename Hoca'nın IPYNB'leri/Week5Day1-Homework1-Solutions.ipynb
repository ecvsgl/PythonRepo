{
 "cells": [
  {
   "cell_type": "code",
   "execution_count": 5,
   "id": "533d216c",
   "metadata": {},
   "outputs": [],
   "source": [
    "#Question 1\n",
    "def writeText():\n",
    "    return \"**** I promise that I will do this homework all my own.***\""
   ]
  },
  {
   "cell_type": "code",
   "execution_count": 6,
   "id": "fb022ea8",
   "metadata": {},
   "outputs": [
    {
     "name": "stdout",
     "output_type": "stream",
     "text": [
      "**** I promise that I will do this homework all my own.***\n"
     ]
    }
   ],
   "source": [
    "print(writeText())"
   ]
  },
  {
   "cell_type": "code",
   "execution_count": 7,
   "id": "3021de5b",
   "metadata": {},
   "outputs": [],
   "source": [
    "#Question 2\n",
    "#Write a method that calculates and returns the volume of a cylinder with given radius and height;\n",
    "import math\n",
    "def calculateCylinderVolume(yariCap,yukseklik):\n",
    "    tabanAlan =  math.pi * yariCap* yariCap\n",
    "    hacim = tabanAlan * yukseklik\n",
    "    return hacim"
   ]
  },
  {
   "cell_type": "code",
   "execution_count": 8,
   "id": "59360b38",
   "metadata": {},
   "outputs": [
    {
     "data": {
      "text/plain": [
       "75.39822368615503"
      ]
     },
     "execution_count": 8,
     "metadata": {},
     "output_type": "execute_result"
    }
   ],
   "source": [
    "calculateCylinderVolume(2,6)"
   ]
  },
  {
   "cell_type": "code",
   "execution_count": 9,
   "id": "5af77896",
   "metadata": {},
   "outputs": [],
   "source": [
    "#Question 3\n",
    "#Write a method that calculates and returns the distance between x1, y1 coordinates and x2, y2 coordinates\n",
    "import math\n",
    "def calculateLength(x1,y1,x2,y2):\n",
    "    res = (x2-x1)*(x2-x1) + (y2-y1)*(y2-y1)\n",
    "    length = math.sqrt(res)\n",
    "    return length"
   ]
  },
  {
   "cell_type": "code",
   "execution_count": 10,
   "id": "d4286580",
   "metadata": {},
   "outputs": [
    {
     "data": {
      "text/plain": [
       "5.0"
      ]
     },
     "execution_count": 10,
     "metadata": {},
     "output_type": "execute_result"
    }
   ],
   "source": [
    "calculateLength(1,1,4,5)"
   ]
  },
  {
   "cell_type": "code",
   "execution_count": 15,
   "id": "45fb5347",
   "metadata": {},
   "outputs": [
    {
     "data": {
      "text/plain": [
       "'Muz'"
      ]
     },
     "execution_count": 15,
     "metadata": {},
     "output_type": "execute_result"
    }
   ],
   "source": [
    "#Question 4\n",
    "#4. Write a method that returns the shortest word in a given sentence.\n",
    "#[‘Elma’, ‘Armut’,’Portakal’,’Muz’,’Mandalina’,’Greyfurt’,’Nar’]\n",
    "\n",
    "def shortestWordMethod(words):\n",
    "    shortestWord = words[0]\n",
    "    for word in words:\n",
    "        if len(word) < len(shortestWord):\n",
    "            shortestWord=word\n",
    "    return shortestWord\n",
    "\n",
    "\n",
    "        \n",
    "        \n",
    "meyveler= ['Elma', 'Armut','Portakal','Muz','Mandalina','Greyfurt','Nar']\n",
    "shortestWordMethod(meyveler)"
   ]
  },
  {
   "cell_type": "code",
   "execution_count": 17,
   "id": "37647c24",
   "metadata": {},
   "outputs": [
    {
     "data": {
      "text/plain": [
       "[43, 56, 45, 67, 78, 90, 35]"
      ]
     },
     "execution_count": 17,
     "metadata": {},
     "output_type": "execute_result"
    }
   ],
   "source": [
    "#Question 5\n",
    "#Write a method that takes a list and a number and returns a new list with elements equal or greater than given number.\n",
    "def equalOrGreater(numbers,n):\n",
    "    newList = []\n",
    "    for number in numbers:\n",
    "        if number < n:\n",
    "            continue\n",
    "        newList.append(number)\n",
    "    return newList\n",
    "        \n",
    "a = [23, 33, 12, 43, 56, 32, 45, 67, 78, 90, 35]\n",
    "equalOrGreater(a,35)"
   ]
  },
  {
   "cell_type": "code",
   "execution_count": 23,
   "id": "b41b91ab",
   "metadata": {},
   "outputs": [
    {
     "data": {
      "text/plain": [
       "3"
      ]
     },
     "execution_count": 23,
     "metadata": {},
     "output_type": "execute_result"
    }
   ],
   "source": [
    "#Question 6\n",
    "#Write a method that takes an int list and an int value and returns count of the given number in the list;\n",
    "def counter(numbers,n):\n",
    "    count = 0\n",
    "    for number in numbers:\n",
    "        if number == n:\n",
    "            count = count + 1\n",
    "    return count\n",
    "a =  [\"aaa\",\"bbb\",\"ccc\",\"aaa\",\"ddd\",\"aaa\"]\n",
    "counter(a,\"aaa\")"
   ]
  },
  {
   "cell_type": "code",
   "execution_count": 27,
   "id": "bc1ec081",
   "metadata": {},
   "outputs": [
    {
     "data": {
      "text/plain": [
       "['a', 'b', 'a', 'b', 'a', 'b', 'a', 'b', 'a', 'b', 'a', 'b', 'r', 'c']"
      ]
     },
     "execution_count": 27,
     "metadata": {},
     "output_type": "execute_result"
    }
   ],
   "source": [
    "#Question 7\n",
    "#Write a method that takes 2 lists and puts them into same list as shown below;\n",
    "def zipLists(list1,list2):\n",
    "    list3= []\n",
    "    for i in range(0,len(list1)):\n",
    "        list3.append(list1[i])\n",
    "        list3.append(list2[i])\n",
    "    return list3\n",
    "\n",
    "l1 = [\"a\",\"a\",\"a\",\"a\",\"a\",\"a\",\"r\"]\n",
    "l2 = [\"b\",\"b\",\"b\",\"b\",\"b\",\"b\",\"c\"]\n",
    "\n",
    "zipLists(l1,l2)"
   ]
  },
  {
   "cell_type": "code",
   "execution_count": 30,
   "id": "f2f479e5",
   "metadata": {},
   "outputs": [
    {
     "data": {
      "text/plain": [
       "[7, 6, 5, 4, 3, 2, 1]"
      ]
     },
     "execution_count": 30,
     "metadata": {},
     "output_type": "execute_result"
    }
   ],
   "source": [
    "#Question 8\n",
    "#Write a method that takes a list and returns the reversed version of list;\n",
    "def reverseList(liste1):\n",
    "    newList=[]\n",
    "    for i in range(0,len(liste1)):\n",
    "        newIndex= len(liste1)-1-i\n",
    "        newList.append(liste1[newIndex])\n",
    "        \n",
    "    return newList   \n",
    "a = [1, 2, 3, 4, 5, 6, 7]\n",
    "reverseList(a)"
   ]
  },
  {
   "cell_type": "code",
   "execution_count": 43,
   "id": "981e8388",
   "metadata": {},
   "outputs": [
    {
     "data": {
      "text/plain": [
       "{2, 3, 5, 6}"
      ]
     },
     "execution_count": 43,
     "metadata": {},
     "output_type": "execute_result"
    }
   ],
   "source": [
    "#Question 9\n",
    "#Write a method that takes 2 lists and returns the elements that are in both lists ;\n",
    "def sameElements(list1,list2):\n",
    "    list3= list()\n",
    "    for l1 in list1:\n",
    "        for l2 in list2:\n",
    "            if l1 == l2 :\n",
    "                list3.append(l1)\n",
    "                break\n",
    "    return set(list3)\n",
    "\n",
    "a1 =  [6,6,6,6,6,1, 2, 3, 4, 5, 6, 7]\n",
    "a2 = [6, 2, 5, 9, 8, 6, 6,3,3,3,3]\n",
    "sameElements(a1,a2)"
   ]
  },
  {
   "cell_type": "code",
   "execution_count": 4,
   "id": "a0d71897",
   "metadata": {},
   "outputs": [
    {
     "name": "stdout",
     "output_type": "stream",
     "text": [
      "{3}\n",
      "{2, 3}\n",
      "{0, 2, 3}\n",
      "{0, 2, 3}\n",
      "{0, 2, 3, 4}\n",
      "{0, 2, 3, 4, 5}\n",
      "{0, 1, 2, 3, 4, 5}\n",
      "{0, 1, 2, 3, 4, 5}\n",
      "{0, 1, 2, 3, 4, 5}\n",
      "{0, 1, 2, 3, 4, 5}\n",
      "{0, 1, 2, 3, 4, 5}\n",
      "{0, 1, 2, 3, 4, 5}\n",
      "{0, 1, 2, 3, 4, 5}\n",
      "{0, 1, 2, 3, 4, 5}\n",
      "{0, 1, 2, 3, 4, 5, 6}\n"
     ]
    },
    {
     "data": {
      "text/plain": [
       "[0, 1, 2, 3, 4, 5, 6]"
      ]
     },
     "execution_count": 4,
     "metadata": {},
     "output_type": "execute_result"
    }
   ],
   "source": [
    "#Question 10\n",
    "#Write a method that takes a list and returns randomly shuffled version of list ; It should return different result for each run.\n",
    "#Bu kod çalışaydı iyiydi :)\n",
    "#Guido Van Bussom a sorulacak??\n",
    "import random\n",
    "def shuffle(liste1):\n",
    "    newIndexes = set()\n",
    "    listSize = len(liste1)\n",
    "    while(True):\n",
    "        if(len(newIndexes)==listSize):\n",
    "            break\n",
    "        randomInt = random.randint(0,listSize-1)\n",
    "        #print(randomInt)\n",
    "        newIndexes.add(randomInt)\n",
    "        print(newIndexes)\n",
    "    return list(newIndexes)\n",
    "\n",
    "a = [1, 2, 3, 4, 5, 6, 7]\n",
    "shuffle(a)"
   ]
  },
  {
   "cell_type": "code",
   "execution_count": 7,
   "id": "26e0b84c",
   "metadata": {},
   "outputs": [
    {
     "data": {
      "text/plain": [
       "[3, 4, 6, 1, 2, 7, 5]"
      ]
     },
     "execution_count": 7,
     "metadata": {},
     "output_type": "execute_result"
    }
   ],
   "source": [
    "import random\n",
    "def shuffle2(liste1):\n",
    "    for x in liste1:\n",
    "        r = random.randint(0,len(liste1)-1)\n",
    "        element = liste1.pop(r)\n",
    "        liste1.append(element)\n",
    "    return liste1\n",
    "a = [1, 2, 3, 4, 5, 6, 7]\n",
    "shuffle2(a)      "
   ]
  },
  {
   "cell_type": "code",
   "execution_count": null,
   "id": "d3dcc331",
   "metadata": {},
   "outputs": [],
   "source": []
  }
 ],
 "metadata": {
  "kernelspec": {
   "display_name": "Python 3",
   "language": "python",
   "name": "python3"
  },
  "language_info": {
   "codemirror_mode": {
    "name": "ipython",
    "version": 3
   },
   "file_extension": ".py",
   "mimetype": "text/x-python",
   "name": "python",
   "nbconvert_exporter": "python",
   "pygments_lexer": "ipython3",
   "version": "3.8.3"
  }
 },
 "nbformat": 4,
 "nbformat_minor": 5
}
