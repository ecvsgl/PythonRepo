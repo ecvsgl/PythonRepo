{
 "cells": [
  {
   "cell_type": "code",
   "execution_count": 4,
   "id": "7976fa81",
   "metadata": {},
   "outputs": [
    {
     "name": "stdout",
     "output_type": "stream",
     "text": [
      "<class 'str'>\n"
     ]
    }
   ],
   "source": [
    "text = \"Anlık döviz kurları, bitcoin API'leri ve Türkiye için hisse senetleri, borsa değerleri, parite bilgilerini getiren API'ler.\"\n",
    "print(type(text))"
   ]
  },
  {
   "cell_type": "code",
   "execution_count": 6,
   "id": "60fdd9df",
   "metadata": {},
   "outputs": [
    {
     "name": "stdout",
     "output_type": "stream",
     "text": [
      "16\n"
     ]
    }
   ],
   "source": [
    "#Split metodu\n",
    "strList = text.split(\" \")\n",
    "print(len(strList))\n",
    "isimler = \"ahmet ali veli ayşe fatma ozan hilal ayşe ozan ahmet ali ali ayşe veli\""
   ]
  },
  {
   "cell_type": "code",
   "execution_count": 8,
   "id": "e6ca744f",
   "metadata": {},
   "outputs": [
    {
     "data": {
      "text/plain": [
       "['laptop', 'cep telefonu', 'televizyon', 'buzdolabi', 'çamaşır makinesi']"
      ]
     },
     "execution_count": 8,
     "metadata": {},
     "output_type": "execute_result"
    }
   ],
   "source": [
    "urunler = \"laptop,cep telefonu,televizyon,buzdolabi,çamaşır makinesi\"\n",
    "urunler.split(\",\")"
   ]
  },
  {
   "cell_type": "code",
   "execution_count": 9,
   "id": "d44d8e7c",
   "metadata": {},
   "outputs": [
    {
     "data": {
      "text/plain": [
       "['elma', 'armut', 'muz', 'şeftali', 'hindistan cevizi', 'ayva']"
      ]
     },
     "execution_count": 9,
     "metadata": {},
     "output_type": "execute_result"
    }
   ],
   "source": [
    "meyveler = \"elma;armut;muz;şeftali;hindistan cevizi;ayva\"\n",
    "meyveler.split(\";\")"
   ]
  },
  {
   "cell_type": "code",
   "execution_count": 10,
   "id": "028c3727",
   "metadata": {},
   "outputs": [
    {
     "data": {
      "text/plain": [
       "['elma', 'armut', 'muz', 'şeftali', 'hindistan cevizi', 'ayva']"
      ]
     },
     "execution_count": 10,
     "metadata": {},
     "output_type": "execute_result"
    }
   ],
   "source": [
    "meyveler = \"elma\\tarmut\\tmuz\\tşeftali\\thindistan cevizi\\tayva\"\n",
    "meyveler.split(\"\\t\")"
   ]
  },
  {
   "cell_type": "code",
   "execution_count": 19,
   "id": "e837e01b",
   "metadata": {},
   "outputs": [
    {
     "data": {
      "text/plain": [
       "'SbnıU'"
      ]
     },
     "execution_count": 19,
     "metadata": {},
     "output_type": "execute_result"
    }
   ],
   "source": [
    "#string indexing / slicing\n",
    "name = \"Sabancı University\"\n",
    "name[0:9:2]"
   ]
  },
  {
   "cell_type": "code",
   "execution_count": 21,
   "id": "a1b047ec",
   "metadata": {},
   "outputs": [
    {
     "name": "stdout",
     "output_type": "stream",
     "text": [
      "ahmet demirelli\n",
      "AHMET DEMIRELLI\n"
     ]
    }
   ],
   "source": [
    "#string lower / upper\n",
    "isim = \"Ahmet Demirelli\"\n",
    "print ( isim.lower() )\n",
    "print ( isim.upper() )"
   ]
  },
  {
   "cell_type": "code",
   "execution_count": 22,
   "id": "eafabb1f",
   "metadata": {},
   "outputs": [
    {
     "data": {
      "text/plain": [
       "'Deneme'"
      ]
     },
     "execution_count": 22,
     "metadata": {},
     "output_type": "execute_result"
    }
   ],
   "source": [
    "a = \"deneme\"\n",
    "a.capitalize()"
   ]
  },
  {
   "cell_type": "code",
   "execution_count": 5,
   "id": "d2d0761c",
   "metadata": {},
   "outputs": [
    {
     "data": {
      "text/plain": [
       "{'ahmet': 2, 'ali': 3, 'veli': 2, 'ayşe': 3, 'fatma': 1, 'ozan': 2, 'hilal': 1}"
      ]
     },
     "execution_count": 5,
     "metadata": {},
     "output_type": "execute_result"
    }
   ],
   "source": [
    "def wordCounter(text):\n",
    "    words = text.split(\" \")\n",
    "    wordDict = dict()\n",
    "    for word in words:\n",
    "        wordDict[word] = 0\n",
    "    \n",
    "for word inm\n",
    "        wordDict[word] = wordDict[word]+1\n",
    "    return wordDict\n",
    "\n",
    "\n",
    "isimler = \"ahmet ali veli ayşe fatma ozan hilal ayşe ozan ahmet ali ali ayşe veli\" \n",
    "wordCounter(isimler)"
   ]
  },
  {
   "cell_type": "code",
   "execution_count": null,
   "id": "2e21e4fa",
   "metadata": {},
   "outputs": [],
   "source": []
  }
 ],
 "metadata": {
  "kernelspec": {
   "display_name": "Python 3 (ipykernel)",
   "language": "python",
   "name": "python3"
  },
  "language_info": {
   "codemirror_mode": {
    "name": "ipython",
    "version": 3
   },
   "file_extension": ".py",
   "mimetype": "text/x-python",
   "name": "python",
   "nbconvert_exporter": "python",
   "pygments_lexer": "ipython3",
   "version": "3.9.12"
  }
 },
 "nbformat": 4,
 "nbformat_minor": 5
}
