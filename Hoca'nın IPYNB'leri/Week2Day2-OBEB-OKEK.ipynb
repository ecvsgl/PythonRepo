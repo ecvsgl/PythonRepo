{
 "cells": [
  {
   "cell_type": "code",
   "execution_count": 1,
   "id": "f5c1e146",
   "metadata": {},
   "outputs": [
    {
     "name": "stdout",
     "output_type": "stream",
     "text": [
      "Lütfen birinci sayıyı giriniz.10\n",
      "Lütfen ikinci sayıyı giriniz.11\n",
      "Bu iki sayının OBEB i : ( 10 , 11 ) 1\n"
     ]
    }
   ],
   "source": [
    "#OBEB\n",
    "sayiStr1 = input(\"Lütfen birinci sayıyı giriniz.\")\n",
    "girilenSayi1 = int(sayiStr1)\n",
    "sayiStr2 = input(\"Lütfen ikinci sayıyı giriniz.\")\n",
    "girilenSayi2 = int(sayiStr2)\n",
    "kucukSayi = girilenSayi1\n",
    "if (girilenSayi2<kucukSayi):\n",
    "    kucukSayi = girilenSayi2\n",
    "obeb = 1\n",
    "for sayi in range(1,kucukSayi+1):\n",
    "    kalan1 = girilenSayi1%sayi\n",
    "    kalan2 = girilenSayi2%sayi\n",
    "    if (kalan1 == 0 and kalan2==0):\n",
    "        #print(sayi, \" her iki sayıyı böler\",girilenSayi1, girilenSayi2)\n",
    "        obeb = sayi\n",
    "print(\"Bu iki sayının OBEB i : (\",girilenSayi1,\",\",girilenSayi2,\")\",obeb)"
   ]
  },
  {
   "cell_type": "code",
   "execution_count": 9,
   "id": "4b44d77c",
   "metadata": {},
   "outputs": [
    {
     "name": "stdout",
     "output_type": "stream",
     "text": [
      "Lütfen birinci sayıyı giriniz.11\n",
      "Lütfen ikinci sayıyı giriniz.99\n",
      "Bu iki sayının OKEK i : ( 11 , 99 ) 99\n"
     ]
    }
   ],
   "source": [
    "#OKEK\n",
    "sayiStr1 = input(\"Lütfen birinci sayıyı giriniz.\")\n",
    "girilenSayi1 = int(sayiStr1)\n",
    "sayiStr2 = input(\"Lütfen ikinci sayıyı giriniz.\")\n",
    "girilenSayi2 = int(sayiStr2)\n",
    "buyuSayi = girilenSayi1\n",
    "if (girilenSayi2>buyuSayi):\n",
    "    buyuSayi = girilenSayi2\n",
    "carpimlari = girilenSayi1*girilenSayi2\n",
    "okek = 1\n",
    "for sayi in range(buyuSayi,carpimlari+1):\n",
    "    kalan1 = sayi%girilenSayi1\n",
    "    kalan2 = sayi%girilenSayi2\n",
    "    if (kalan1 == 0 and kalan2==0):\n",
    "        #print(sayi, \" her iki sayıyı böler\",girilenSayi1, girilenSayi2)\n",
    "        okek = sayi\n",
    "        break\n",
    "print(\"Bu iki sayının OKEK i : (\",girilenSayi1,\",\",girilenSayi2,\")\",okek)"
   ]
  },
  {
   "cell_type": "code",
   "execution_count": null,
   "id": "3603f53f",
   "metadata": {},
   "outputs": [],
   "source": []
  }
 ],
 "metadata": {
  "kernelspec": {
   "display_name": "Python 3 (ipykernel)",
   "language": "python",
   "name": "python3"
  },
  "language_info": {
   "codemirror_mode": {
    "name": "ipython",
    "version": 3
   },
   "file_extension": ".py",
   "mimetype": "text/x-python",
   "name": "python",
   "nbconvert_exporter": "python",
   "pygments_lexer": "ipython3",
   "version": "3.9.12"
  }
 },
 "nbformat": 4,
 "nbformat_minor": 5
}
