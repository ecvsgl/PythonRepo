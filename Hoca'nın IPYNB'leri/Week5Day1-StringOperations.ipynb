{
 "cells": [
  {
   "cell_type": "code",
   "execution_count": 6,
   "id": "46208fd5",
   "metadata": {},
   "outputs": [
    {
     "name": "stdout",
     "output_type": "stream",
     "text": [
      "Saı\n"
     ]
    }
   ],
   "source": [
    "t1 = \"Sabancı University\"\n",
    "print(t1[0:8:3])"
   ]
  },
  {
   "cell_type": "code",
   "execution_count": 7,
   "id": "722aeca5",
   "metadata": {},
   "outputs": [
    {
     "data": {
      "text/plain": [
       "[33, 44, 55]"
      ]
     },
     "execution_count": 7,
     "metadata": {},
     "output_type": "execute_result"
    }
   ],
   "source": [
    "list1 = [11,22,33,44,55,66,77]\n",
    "list1[2:5]"
   ]
  },
  {
   "cell_type": "code",
   "execution_count": 11,
   "id": "aad2490f",
   "metadata": {},
   "outputs": [
    {
     "data": {
      "text/plain": [
       "'fıknpşü'"
      ]
     },
     "execution_count": 11,
     "metadata": {},
     "output_type": "execute_result"
    }
   ],
   "source": [
    "alfabe = \"abcçdefghıijklmnoöprsştuüvyz\"\n",
    "alfabe[6:-2:3]"
   ]
  },
  {
   "cell_type": "code",
   "execution_count": 16,
   "id": "3d5ddcb2",
   "metadata": {},
   "outputs": [
    {
     "data": {
      "text/plain": [
       "'fe'"
      ]
     },
     "execution_count": 16,
     "metadata": {},
     "output_type": "execute_result"
    }
   ],
   "source": [
    "alfabe[6:4:-1]"
   ]
  },
  {
   "cell_type": "code",
   "execution_count": 19,
   "id": "d31ba01d",
   "metadata": {},
   "outputs": [
    {
     "name": "stdout",
     "output_type": "stream",
     "text": [
      "      ahmet    demirelli    b    \n",
      "ahmet    demirelli    b\n"
     ]
    }
   ],
   "source": [
    "t3 = \"      ahmet    demirelli    b    \"\n",
    "t4 = t3.strip()\n",
    "print(t3)\n",
    "print(t4)"
   ]
  },
  {
   "cell_type": "code",
   "execution_count": 21,
   "id": "d2ab0706",
   "metadata": {},
   "outputs": [
    {
     "name": "stdout",
     "output_type": "stream",
     "text": [
      "ahmetdemirelli\n"
     ]
    }
   ],
   "source": [
    "a = \"   ahmet     \"\n",
    "b = \"            demirelli\"\n",
    "c = a.strip() + b.strip()\n",
    "print(c)"
   ]
  },
  {
   "cell_type": "code",
   "execution_count": 22,
   "id": "c581ce0b",
   "metadata": {},
   "outputs": [
    {
     "data": {
      "text/plain": [
       "['aaa',\n",
       " '',\n",
       " '',\n",
       " '',\n",
       " '',\n",
       " 'bbb',\n",
       " '',\n",
       " '',\n",
       " '',\n",
       " '',\n",
       " '',\n",
       " 'hh',\n",
       " '',\n",
       " '',\n",
       " '',\n",
       " '',\n",
       " 'ttt',\n",
       " 'yyyy',\n",
       " '',\n",
       " 'ppp']"
      ]
     },
     "execution_count": 22,
     "metadata": {},
     "output_type": "execute_result"
    }
   ],
   "source": [
    "text = \"aaa     bbb      hh     ttt yyyy  ppp\"\n",
    "text.split(\" \")"
   ]
  },
  {
   "cell_type": "code",
   "execution_count": 24,
   "id": "814540e7",
   "metadata": {},
   "outputs": [
    {
     "data": {
      "text/plain": [
       "'aaabbbhhtttyyyyppp'"
      ]
     },
     "execution_count": 24,
     "metadata": {},
     "output_type": "execute_result"
    }
   ],
   "source": [
    "text.replace(\" \",\"\")"
   ]
  },
  {
   "cell_type": "code",
   "execution_count": 32,
   "id": "2da395c9",
   "metadata": {},
   "outputs": [
    {
     "name": "stdout",
     "output_type": "stream",
     "text": [
      "Ahmet\n",
      "Ali\n"
     ]
    }
   ],
   "source": [
    "isimler = [\"Ahmet\", \"Zeynep\", \"Ali\"]\n",
    "\n",
    "for isim in isimler:\n",
    "    if isim.startswith(\"A\"):\n",
    "        print(isim)"
   ]
  },
  {
   "cell_type": "code",
   "execution_count": 31,
   "id": "33c8e534",
   "metadata": {},
   "outputs": [
    {
     "name": "stdout",
     "output_type": "stream",
     "text": [
      "Zeynep\n"
     ]
    }
   ],
   "source": [
    "for isim in isimler:\n",
    "    if isim.endswith(\"ep\"):\n",
    "        print(isim)"
   ]
  },
  {
   "cell_type": "code",
   "execution_count": 41,
   "id": "606a1c73",
   "metadata": {},
   "outputs": [
    {
     "name": "stdout",
     "output_type": "stream",
     "text": [
      "a+b+c+ç+d\n"
     ]
    }
   ],
   "source": [
    "alfabe = [\"a\",\"b\",\"c\",\"ç\",\"d\"]\n",
    "x = \"+\".join(alfabe)\n",
    "print(x)"
   ]
  },
  {
   "cell_type": "code",
   "execution_count": 52,
   "id": "aa967c9c",
   "metadata": {},
   "outputs": [
    {
     "name": "stdout",
     "output_type": "stream",
     "text": [
      "Oda;Salon;Alan;Fiyat\n",
      "3;1;200;3000000\n",
      "2;1;145;1999999\n",
      "4;2;220;5654333\n",
      "1;1;89;1850000\n",
      "3;1;145;2500000\n"
     ]
    }
   ],
   "source": [
    "file = open(\"evler2.csv\",\"r\")\n",
    "lines = file.readlines()\n",
    "#print(lines)\n",
    "for line in lines:\n",
    "    print(line.replace(\"\\n\",\"\"))"
   ]
  },
  {
   "cell_type": "code",
   "execution_count": 47,
   "id": "13c52c36",
   "metadata": {},
   "outputs": [
    {
     "name": "stdout",
     "output_type": "stream",
     "text": [
      "Oda;Salon;Alan;Fiyat\n",
      "3;1;200;3000000\n",
      "2;1;145;1999999\n",
      "\n"
     ]
    }
   ],
   "source": [
    "print(\"Oda;Salon;Alan;Fiyat\\n3;1;200;3000000\\n2;1;145;1999999\\n\")"
   ]
  },
  {
   "cell_type": "code",
   "execution_count": 53,
   "id": "e258637a",
   "metadata": {},
   "outputs": [],
   "source": [
    "file = open(\"evler2.csv\",\"w\")\n",
    "file.write(\"artık eve gidelim\")\n",
    "file.close()"
   ]
  },
  {
   "cell_type": "code",
   "execution_count": null,
   "id": "c0be6171",
   "metadata": {},
   "outputs": [],
   "source": []
  }
 ],
 "metadata": {
  "kernelspec": {
   "display_name": "Python 3 (ipykernel)",
   "language": "python",
   "name": "python3"
  },
  "language_info": {
   "codemirror_mode": {
    "name": "ipython",
    "version": 3
   },
   "file_extension": ".py",
   "mimetype": "text/x-python",
   "name": "python",
   "nbconvert_exporter": "python",
   "pygments_lexer": "ipython3",
   "version": "3.9.12"
  }
 },
 "nbformat": 4,
 "nbformat_minor": 5
}
