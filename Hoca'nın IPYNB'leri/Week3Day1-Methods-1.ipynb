{
 "cells": [
  {
   "cell_type": "code",
   "execution_count": 3,
   "id": "5d30976c",
   "metadata": {},
   "outputs": [
    {
     "name": "stdout",
     "output_type": "stream",
     "text": [
      "22\n",
      "484\n"
     ]
    }
   ],
   "source": [
    "# f(x) = 2x + 1  --> Fonksiyon\n",
    "\n",
    "def f(x) : \n",
    "    z = 2*x + 1\n",
    "    a = 2 * z\n",
    "    return a\n",
    "\n",
    "sonuc = f(5)\n",
    "print(sonuc)\n",
    "\n",
    "def g(y):\n",
    "    kare = f(y)**2\n",
    "    return kare\n",
    "sonuc2 = g(5)\n",
    "print(sonuc2)\n",
    "\n",
    "\n",
    "# üçgenin alanını hesaplayan fonksiyon  =>  a = Taban uzunluk, h = yükseklik  f(a,h) = a x h / 2"
   ]
  },
  {
   "cell_type": "code",
   "execution_count": 5,
   "id": "4d828a89",
   "metadata": {},
   "outputs": [],
   "source": [
    "def ucgenCiz():\n",
    "    print(\"   *    \")\n",
    "    print(\"   * *   \")\n",
    "    print(\"   *  *  \")\n",
    "    print(\"   *   * \")\n",
    "    print(\"   *    *\")\n",
    "    print(\"   *     *\")\n",
    "    print(\"   ********\")\n",
    "    return None #Eğer bir method bir şey geri döndürmüyorsa Python None değeri geri dendürdüğünü varsayar"
   ]
  },
  {
   "cell_type": "code",
   "execution_count": 9,
   "id": "f0556f8a",
   "metadata": {},
   "outputs": [
    {
     "name": "stdout",
     "output_type": "stream",
     "text": [
      "   *    \n",
      "   * *   \n",
      "   *  *  \n",
      "   *   * \n",
      "   *    *\n",
      "   *     *\n",
      "   ********\n"
     ]
    },
    {
     "ename": "TypeError",
     "evalue": "unsupported operand type(s) for +: 'NoneType' and 'int'",
     "output_type": "error",
     "traceback": [
      "\u001b[0;31m---------------------------------------------------------------------------\u001b[0m",
      "\u001b[0;31mTypeError\u001b[0m                                 Traceback (most recent call last)",
      "\u001b[0;32m<ipython-input-9-9f1b9c4ad92d>\u001b[0m in \u001b[0;36m<module>\u001b[0;34m\u001b[0m\n\u001b[1;32m      1\u001b[0m \u001b[0mresult\u001b[0m \u001b[0;34m=\u001b[0m \u001b[0mucgenCiz\u001b[0m\u001b[0;34m(\u001b[0m\u001b[0;34m)\u001b[0m\u001b[0;34m\u001b[0m\u001b[0;34m\u001b[0m\u001b[0m\n\u001b[0;32m----> 2\u001b[0;31m \u001b[0mresult\u001b[0m \u001b[0;34m=\u001b[0m \u001b[0mresult\u001b[0m \u001b[0;34m+\u001b[0m \u001b[0;36m1\u001b[0m\u001b[0;34m\u001b[0m\u001b[0;34m\u001b[0m\u001b[0m\n\u001b[0m\u001b[1;32m      3\u001b[0m \u001b[0mprint\u001b[0m\u001b[0;34m(\u001b[0m\u001b[0mresult\u001b[0m\u001b[0;34m)\u001b[0m\u001b[0;34m\u001b[0m\u001b[0;34m\u001b[0m\u001b[0m\n",
      "\u001b[0;31mTypeError\u001b[0m: unsupported operand type(s) for +: 'NoneType' and 'int'"
     ]
    }
   ],
   "source": [
    "result = ucgenCiz()\n",
    "result = result + 1\n",
    "print(result)"
   ]
  },
  {
   "cell_type": "code",
   "execution_count": 7,
   "id": "4fe4d135",
   "metadata": {},
   "outputs": [
    {
     "name": "stdout",
     "output_type": "stream",
     "text": [
      "   *    \n",
      "   * *   \n",
      "   *  *  \n",
      "   *   * \n",
      "   *    *\n",
      "   *     *\n",
      "   ********\n"
     ]
    }
   ],
   "source": [
    "ucgenCiz()"
   ]
  },
  {
   "cell_type": "code",
   "execution_count": 17,
   "id": "3f16addd",
   "metadata": {},
   "outputs": [
    {
     "data": {
      "text/plain": [
       "-408"
      ]
     },
     "execution_count": 17,
     "metadata": {},
     "output_type": "execute_result"
    }
   ],
   "source": [
    "def methodIsmi(parametre1,parametre2,parametre3=1): #parametre3  Optional parametre olarak isimlendirilir\n",
    "    araSonuc = parametre1* parametre2\n",
    "    sonuc = (araSonuc - 55 ) * 4 * parametre3\n",
    "    return sonuc #Methodların mutlaka bir değer geri döndürmesi en iyisidir\n",
    "\n",
    "methodIsmi(2,2,2)"
   ]
  },
  {
   "cell_type": "code",
   "execution_count": 18,
   "id": "1d3cb738",
   "metadata": {},
   "outputs": [],
   "source": [
    "#Methodlar 4 çeşittir\n",
    "\n",
    "# 1) input var  - output (return) var\n",
    "\n",
    "def f(x):\n",
    "    sonuc = 5 * x + 88\n",
    "    return sonuc\n",
    "\n",
    "# 2) input yok  - output(return) yok\n",
    "def sayHello():\n",
    "    print(\"Hello\")\n",
    "\n",
    "# 3) input yok  - output(return) var\n",
    "def pi():\n",
    "    x = 22 / 7\n",
    "    return x\n",
    "\n",
    "# 4) input var  - output(return) yok \n",
    "\n",
    "def sayHello(name):\n",
    "    print(\"Hello \"+ name)\n",
    "         "
   ]
  },
  {
   "cell_type": "code",
   "execution_count": 13,
   "id": "db20759b",
   "metadata": {},
   "outputs": [
    {
     "name": "stdout",
     "output_type": "stream",
     "text": [
      "Sayı:4\n",
      "True\n",
      "False\n"
     ]
    }
   ],
   "source": [
    "#Aşağıdaki method çok yanlış yazılmış bir metoddur çünkü input() method içerisinde olmamalıdır\n",
    "def isEvenYanlis():\n",
    "    sayiStr = input(\"Sayı: :\")\n",
    "    sayi = int(sayiStr)\n",
    "    if ( sayi % 2 == 1):\n",
    "        print( \"tek\")\n",
    "    else:\n",
    "        print(\"çift\")\n",
    "#Yukaridaki method un daha doğru yazılmış hali\n",
    "\n",
    "def isEvenDogru(number):\n",
    "    if ( number % 2 == 1):\n",
    "        return False\n",
    "    else:\n",
    "        return True\n",
    "\n",
    "x = input(\"Sayı:\")\n",
    "y = int(x)\n",
    "print(isEvenDogru(y))\n",
    "print(isEvenDogru(3543555))"
   ]
  },
  {
   "cell_type": "code",
   "execution_count": 8,
   "id": "edf86c8a",
   "metadata": {},
   "outputs": [
    {
     "name": "stdout",
     "output_type": "stream",
     "text": [
      "Sayı: :123\n",
      "tek\n"
     ]
    }
   ],
   "source": [
    "isEvenYanlis()"
   ]
  },
  {
   "cell_type": "code",
   "execution_count": 20,
   "id": "1ab20a55",
   "metadata": {},
   "outputs": [],
   "source": [
    "for x in range(1,11):\n",
    "    if x == 5:\n",
    "        continue\n",
    "    print(x)"
   ]
  },
  {
   "cell_type": "code",
   "execution_count": null,
   "id": "e90f10f8",
   "metadata": {},
   "outputs": [],
   "source": []
  }
 ],
 "metadata": {
  "kernelspec": {
   "display_name": "Python 3 (ipykernel)",
   "language": "python",
   "name": "python3"
  },
  "language_info": {
   "codemirror_mode": {
    "name": "ipython",
    "version": 3
   },
   "file_extension": ".py",
   "mimetype": "text/x-python",
   "name": "python",
   "nbconvert_exporter": "python",
   "pygments_lexer": "ipython3",
   "version": "3.9.12"
  }
 },
 "nbformat": 4,
 "nbformat_minor": 5
}
