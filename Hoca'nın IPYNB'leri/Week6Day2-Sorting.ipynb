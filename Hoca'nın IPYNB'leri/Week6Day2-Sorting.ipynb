{
 "cells": [
  {
   "cell_type": "code",
   "execution_count": 3,
   "id": "5e362f38",
   "metadata": {},
   "outputs": [],
   "source": [
    "def findMin(liste):\n",
    "    minInt = liste[0]\n",
    "    for i in range(len(liste)):\n",
    "        if liste[i]<minInt:\n",
    "            minInt = liste[i]\n",
    "    return minInt\n",
    "\n",
    "def findMax(liste):\n",
    "    maxInt = liste[0]\n",
    "    for i in range(len(liste)):\n",
    "        if liste[i]>maxInt:\n",
    "            maxInt = liste[i]\n",
    "    return maxInt\n"
   ]
  },
  {
   "cell_type": "code",
   "execution_count": 5,
   "id": "f65adbef",
   "metadata": {},
   "outputs": [
    {
     "data": {
      "text/plain": [
       "2"
      ]
     },
     "execution_count": 5,
     "metadata": {},
     "output_type": "execute_result"
    }
   ],
   "source": [
    "sayilar = [32,12,34,5,2,56,78,41,67,99,32,45,62,123]\n",
    "findMin(sayilar)"
   ]
  },
  {
   "cell_type": "code",
   "execution_count": 6,
   "id": "33146dc8",
   "metadata": {},
   "outputs": [
    {
     "data": {
      "text/plain": [
       "123"
      ]
     },
     "execution_count": 6,
     "metadata": {},
     "output_type": "execute_result"
    }
   ],
   "source": [
    "findMax(sayilar)"
   ]
  },
  {
   "cell_type": "code",
   "execution_count": 12,
   "id": "195ac15a",
   "metadata": {},
   "outputs": [
    {
     "data": {
      "text/plain": [
       "[2, 5, 12, 32, 32, 34, 41, 45, 56, 62, 67, 78, 99, 123]"
      ]
     },
     "execution_count": 12,
     "metadata": {},
     "output_type": "execute_result"
    }
   ],
   "source": [
    "sayilar = [32,12,34,5,2,56,78,41,67,99,32,45,62,123]\n",
    "def sorting(liste):\n",
    "    yeniListe = []\n",
    "    for i in range(len(liste)):\n",
    "        listMin = findMin(liste)\n",
    "        liste.remove(listMin)\n",
    "        yeniListe.append(listMin)\n",
    "    return yeniListe\n",
    "    \n",
    "sorting(sayilar)    "
   ]
  },
  {
   "cell_type": "code",
   "execution_count": 16,
   "id": "a62c78c1",
   "metadata": {},
   "outputs": [
    {
     "data": {
      "text/plain": [
       "[123, 99, 78, 67, 62, 56, 45, 41, 34, 32, 32, 12, 5, 2]"
      ]
     },
     "execution_count": 16,
     "metadata": {},
     "output_type": "execute_result"
    }
   ],
   "source": [
    "sayilar = [32,12,34,5,2,56,78,41,67,99,32,45,62,123]\n",
    "sorted(sayilar,reverse=True)"
   ]
  },
  {
   "cell_type": "code",
   "execution_count": null,
   "id": "6e73b9a9",
   "metadata": {},
   "outputs": [],
   "source": []
  }
 ],
 "metadata": {
  "kernelspec": {
   "display_name": "Python 3",
   "language": "python",
   "name": "python3"
  },
  "language_info": {
   "codemirror_mode": {
    "name": "ipython",
    "version": 3
   },
   "file_extension": ".py",
   "mimetype": "text/x-python",
   "name": "python",
   "nbconvert_exporter": "python",
   "pygments_lexer": "ipython3",
   "version": "3.8.3"
  }
 },
 "nbformat": 4,
 "nbformat_minor": 5
}
