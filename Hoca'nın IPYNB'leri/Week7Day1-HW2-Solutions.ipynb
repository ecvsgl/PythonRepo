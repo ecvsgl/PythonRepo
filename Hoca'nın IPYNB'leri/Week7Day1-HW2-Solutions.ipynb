{
 "cells": [
  {
   "cell_type": "code",
   "execution_count": 7,
   "id": "0d285a92",
   "metadata": {},
   "outputs": [
    {
     "name": "stdout",
     "output_type": "stream",
     "text": [
      "5\n"
     ]
    },
    {
     "data": {
      "text/plain": [
       "'ram'"
      ]
     },
     "execution_count": 7,
     "metadata": {},
     "output_type": "execute_result"
    }
   ],
   "source": [
    "# Question 1 : Write a method that returns the middle 3 characters of a given text.\n",
    "def findMiddle(text):\n",
    "    if (len(text) % 2 == 0 ):\n",
    "        return \"Hata\"\n",
    "    if (len(text)<3):\n",
    "        return \"Başka hata\"\n",
    "    \n",
    "    orta = int(len(text)/2)\n",
    "    print(orta)\n",
    "    newText = \"\"\n",
    "    for a in range(len(text)):\n",
    "        char = text[a]\n",
    "        if (a > orta +1):\n",
    "            continue\n",
    "        if (a < orta -1):\n",
    "            continue\n",
    "        newText  = newText +char\n",
    "    return newText\n",
    "    \n",
    "findMiddle(\"programming\")"
   ]
  },
  {
   "cell_type": "code",
   "execution_count": 20,
   "id": "a3e8a7af",
   "metadata": {},
   "outputs": [
    {
     "data": {
      "text/plain": [
       "'hata'"
      ]
     },
     "execution_count": 20,
     "metadata": {},
     "output_type": "execute_result"
    }
   ],
   "source": [
    "# Question 2 : Write a method that takes one list of integers as input, splits array into 3 chunks with equal sizes, then calculates the sum of numbers in each chunk and return 3 calculated sums of chunks.\n",
    "def listChunkSum(liste):\n",
    "    if (len(liste)%3 != 0):\n",
    "        return \"hata\"\n",
    "    size = int(len(liste)/3)\n",
    "    toplam1 = 0\n",
    "    for x in range(0,size):\n",
    "        toplam1 = toplam1+liste[x]\n",
    "    toplam2 = 0\n",
    "    for y in range(size,size*2):\n",
    "        toplam2 = toplam2+liste[y]\n",
    "    toplam3 = 0\n",
    "    for z in range(size*2,size*3):\n",
    "        toplam3 = toplam3+liste[z]\n",
    "    return (toplam1,toplam2,toplam3)\n",
    "    \n",
    "a = [1,2,3,4,5,6,7,8,9]\n",
    "a = [1,1,1,1,2,2,2,2,3,3,3,3]\n",
    "a = [1,2,3,4,5,6,7,8,9,10]\n",
    "listChunkSum(a)"
   ]
  },
  {
   "cell_type": "code",
   "execution_count": 24,
   "id": "54bbbba9",
   "metadata": {},
   "outputs": [
    {
     "name": "stdout",
     "output_type": "stream",
     "text": [
      "[6, 15, 24]\n",
      "[4, 8, 12]\n"
     ]
    }
   ],
   "source": [
    "def listChunkSum2(liste):\n",
    "    if (len(liste)%3 != 0):\n",
    "        return \"hata\"\n",
    "    size = int(len(liste)/3)\n",
    "    sonuc = []\n",
    "    for a in range(3):\n",
    "        toplam1 = 0\n",
    "        start = a*size\n",
    "        end = start + size\n",
    "        for x in range(start,end):\n",
    "            toplam1 = toplam1+liste[x]\n",
    "        sonuc.append(toplam1)\n",
    "    return sonuc\n",
    "a = [1,2,3,4,5,6,7,8,9]\n",
    "b = [1,1,1,1,2,2,2,2,3,3,3,3]\n",
    "print( listChunkSum2(a))\n",
    "print(listChunkSum2(b))"
   ]
  },
  {
   "cell_type": "code",
   "execution_count": 10,
   "id": "4e84d650",
   "metadata": {},
   "outputs": [
    {
     "data": {
      "text/plain": [
       "'ilA temhA penyeZ '"
      ]
     },
     "execution_count": 10,
     "metadata": {},
     "output_type": "execute_result"
    }
   ],
   "source": [
    "#Question 3 : Write a method that takes a text and returns the text by reversing each word.\n",
    "\n",
    "def reverseWords(sentence):\n",
    "    words = sentence.split(\" \")\n",
    "    result = \"\"\n",
    "    for word in words:\n",
    "        result += ters(word) + \" \"\n",
    "    return result\n",
    "    \n",
    "\n",
    "def ters(text):\n",
    "    newTxt = \"\"\n",
    "    uzunluk = len(text)\n",
    "    for i in range(uzunluk):\n",
    "        newTxt += text[uzunluk-i-1]\n",
    "    return newTxt\n",
    "        \n",
    "#ters(\"Ahmet\")\n",
    "reverseWords(\"Ali Ahmet Zeynep\")"
   ]
  },
  {
   "cell_type": "code",
   "execution_count": 37,
   "id": "ce91108c",
   "metadata": {},
   "outputs": [
    {
     "data": {
      "text/plain": [
       "['a', 'd']"
      ]
     },
     "execution_count": 37,
     "metadata": {},
     "output_type": "execute_result"
    }
   ],
   "source": [
    "#Question 4 : Write a method that returns the same elements from the given 2 lists.\n",
    "def findSimilar(liste1, liste2):\n",
    "    newList = []\n",
    "    for eleman in liste1:\n",
    "        if (eleman in liste2):\n",
    "            newList.append(eleman)\n",
    "    return newList\n",
    "\n",
    "findSimilar([\"a\",\"b\",\"c\",\"d\"], [\"e\",\"a\",\"d\",\"f\",\"h\"])\n",
    "            "
   ]
  },
  {
   "cell_type": "code",
   "execution_count": 38,
   "id": "1ce80744",
   "metadata": {},
   "outputs": [
    {
     "data": {
      "text/plain": [
       "['a', 'd']"
      ]
     },
     "execution_count": 38,
     "metadata": {},
     "output_type": "execute_result"
    }
   ],
   "source": [
    "def findSimilar2(liste1, liste2):\n",
    "    newList = []\n",
    "    for eleman in liste1:\n",
    "        for eleman2 in liste2 :\n",
    "            if eleman == eleman2:\n",
    "                newList.append(eleman)\n",
    "    return newList\n",
    "findSimilar2([\"a\",\"b\",\"c\",\"d\"], [\"e\",\"a\",\"d\",\"f\",\"h\"])"
   ]
  },
  {
   "cell_type": "code",
   "execution_count": 43,
   "id": "2eff8f4b",
   "metadata": {},
   "outputs": [
    {
     "data": {
      "text/plain": [
       "'sAbAnCiUnIvErSiTy'"
      ]
     },
     "execution_count": 43,
     "metadata": {},
     "output_type": "execute_result"
    }
   ],
   "source": [
    "#Question 5 :  Write a method that takes a string and returns the same string as show below.\n",
    "def change(text):\n",
    "    yeni = \"\"\n",
    "    for a in range(len(text)):\n",
    "        if a % 2 == 1:\n",
    "            yeni += text[a].upper()\n",
    "        else:\n",
    "            yeni += text[a]\n",
    "    return yeni\n",
    "\n",
    "change(\"sabanciuniversity\")"
   ]
  },
  {
   "cell_type": "code",
   "execution_count": 11,
   "id": "2fcf3e91",
   "metadata": {},
   "outputs": [
    {
     "ename": "KeyError",
     "evalue": "'cilek'",
     "output_type": "error",
     "traceback": [
      "\u001b[1;31m---------------------------------------------------------------------------\u001b[0m",
      "\u001b[1;31mKeyError\u001b[0m                                  Traceback (most recent call last)",
      "Input \u001b[1;32mIn [11]\u001b[0m, in \u001b[0;36m<cell line: 23>\u001b[1;34m()\u001b[0m\n\u001b[0;32m     20\u001b[0m             result[key] \u001b[38;5;241m=\u001b[39m dict1[key]\n\u001b[0;32m     21\u001b[0m     \u001b[38;5;28;01mreturn\u001b[39;00m result\n\u001b[1;32m---> 23\u001b[0m \u001b[43mfindWordsWithSameCount\u001b[49m\u001b[43m(\u001b[49m\u001b[43ma\u001b[49m\u001b[43m,\u001b[49m\u001b[43mb\u001b[49m\u001b[43m)\u001b[49m\n",
      "Input \u001b[1;32mIn [11]\u001b[0m, in \u001b[0;36mfindWordsWithSameCount\u001b[1;34m(liste1, liste2)\u001b[0m\n\u001b[0;32m     17\u001b[0m result \u001b[38;5;241m=\u001b[39m \u001b[38;5;28mdict\u001b[39m()\n\u001b[0;32m     18\u001b[0m \u001b[38;5;28;01mfor\u001b[39;00m key \u001b[38;5;129;01min\u001b[39;00m dict1\u001b[38;5;241m.\u001b[39mkeys():\n\u001b[1;32m---> 19\u001b[0m     \u001b[38;5;28;01mif\u001b[39;00m (dict1[key] \u001b[38;5;241m==\u001b[39m \u001b[43mdict2\u001b[49m\u001b[43m[\u001b[49m\u001b[43mkey\u001b[49m\u001b[43m]\u001b[49m):\n\u001b[0;32m     20\u001b[0m         result[key] \u001b[38;5;241m=\u001b[39m dict1[key]\n\u001b[0;32m     21\u001b[0m \u001b[38;5;28;01mreturn\u001b[39;00m result\n",
      "\u001b[1;31mKeyError\u001b[0m: 'cilek'"
     ]
    }
   ],
   "source": [
    "a  = [\"elma\",\"elma\",\"armut\",\"armut\",\"muz\",\"nar\",\"muz\",\"muz\",'cilek']\n",
    "b  = [\"elma\",\"nar\",\"armut\",\"armut\",\"muz\",\"nar\",\"muz\",\"muz\"]\n",
    "\n",
    "\n",
    "def wordCounts(liste):\n",
    "    words = set(liste)\n",
    "    counts = dict()\n",
    "    for word in words:\n",
    "        counts[word] = 0\n",
    "    for word in liste:\n",
    "        counts[word] += 1\n",
    "    return counts\n",
    "\n",
    "def findWordsWithSameCount(liste1,liste2):\n",
    "    dict1 = wordCounts(liste1)\n",
    "    dict2 = wordCounts(liste2)\n",
    "    result = dict()\n",
    "    for key in dict1.keys():\n",
    "        if (dict1[key] == dict2[key]):\n",
    "            result[key] = dict1[key]\n",
    "    return result\n",
    "\n",
    "findWordsWithSameCount(a,b)"
   ]
  },
  {
   "cell_type": "code",
   "execution_count": 52,
   "id": "c5209e80",
   "metadata": {},
   "outputs": [
    {
     "name": "stdout",
     "output_type": "stream",
     "text": [
      "1\n"
     ]
    }
   ],
   "source": [
    "abcde=1\n",
    "print(abcde)"
   ]
  },
  {
   "cell_type": "code",
   "execution_count": null,
   "id": "287c39ff",
   "metadata": {},
   "outputs": [],
   "source": []
  }
 ],
 "metadata": {
  "kernelspec": {
   "display_name": "Python 3 (ipykernel)",
   "language": "python",
   "name": "python3"
  },
  "language_info": {
   "codemirror_mode": {
    "name": "ipython",
    "version": 3
   },
   "file_extension": ".py",
   "mimetype": "text/x-python",
   "name": "python",
   "nbconvert_exporter": "python",
   "pygments_lexer": "ipython3",
   "version": "3.9.12"
  }
 },
 "nbformat": 4,
 "nbformat_minor": 5
}
