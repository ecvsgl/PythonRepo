{
 "cells": [
  {
   "cell_type": "code",
   "execution_count": 10,
   "id": "ba6018fd",
   "metadata": {},
   "outputs": [
    {
     "name": "stdout",
     "output_type": "stream",
     "text": [
      "ï»¿Oda,Salon,Alan,Fiyat\n",
      "3,1,200,3000000\n",
      "2,1,145,1999999\n",
      "4,2,220,5641231\n",
      "1,1,89,1850000\n",
      "3,1,145,2500000\n",
      "3,1,200,3000000\n",
      "\n"
     ]
    }
   ],
   "source": [
    "dosya=open(\"evler.csv\",\"r\")\n",
    "content = dosya.read()\n",
    "print(content)"
   ]
  },
  {
   "cell_type": "code",
   "execution_count": 50,
   "id": "40443dcc",
   "metadata": {},
   "outputs": [
    {
     "name": "stdout",
     "output_type": "stream",
     "text": [
      "1 ---> 3,1,200,3000000 ---> ['3', '1', '200', '3000000\\n'] ---> 3000000\n",
      "2 ---> 2,1,145,1999999 ---> ['2', '1', '145', '1999999\\n'] ---> 1999999\n",
      "3 ---> 4,2,220,5641231 ---> ['4', '2', '220', '5641231\\n'] ---> 5641231\n",
      "4 ---> 1,1,89,1850000 ---> ['1', '1', '89', '1850000\\n'] ---> 1850000\n",
      "5 ---> 3,1,145,2500000 ---> ['3', '1', '145', '2500000\\n'] ---> 2500000\n",
      "6 ---> 3,1,200,3000000 ---> ['3', '1', '200', '3000000\\n'] ---> 3000000\n"
     ]
    },
    {
     "data": {
      "text/plain": [
       "17991230"
      ]
     },
     "execution_count": 50,
     "metadata": {},
     "output_type": "execute_result"
    }
   ],
   "source": [
    "def toplamfiyathesapla(filename):\n",
    "    file2 = open(filename,\"r\")\n",
    "    lines = file2.readlines()\n",
    "    toplam = 0\n",
    "    for x in range(len(lines)):\n",
    "        if x==0:\n",
    "            continue\n",
    "        bilgi = lines[x].split(\",\")\n",
    "        print(x,\"--->\",lines[x].strip(),\"--->\",bilgi,\"--->\", bilgi[3].strip())\n",
    "        toplam += int(bilgi[3])\n",
    "    return toplam\n",
    "\n",
    "toplamfiyathesapla(\"evler.csv\")"
   ]
  },
  {
   "cell_type": "code",
   "execution_count": 61,
   "id": "aedfb2ad",
   "metadata": {},
   "outputs": [
    {
     "name": "stdout",
     "output_type": "stream",
     "text": [
      "1 ---> 3,1,200,3000000 ---> ['3', '1', '200', '3000000'] ---> 3\n",
      "2 ---> 2,1,145,1999999 ---> ['2', '1', '145', '1999999'] ---> 2\n",
      "3 ---> 4,2,220,5641231 ---> ['4', '2', '220', '5641231'] ---> 4\n",
      "4 ---> 1,1,89,1850000 ---> ['1', '1', '89', '1850000'] ---> 1\n",
      "5 ---> 3,1,145,2500000 ---> ['3', '1', '145', '2500000'] ---> 3\n",
      "6 ---> 3,1,200,3000000 ---> ['3', '1', '200', '3000000'] ---> 3\n"
     ]
    },
    {
     "data": {
      "text/plain": [
       "0"
      ]
     },
     "execution_count": 61,
     "metadata": {},
     "output_type": "execute_result"
    }
   ],
   "source": [
    "def toplamfiyathesapla(filename):\n",
    "    file2 = open(filename,\"r\")\n",
    "    content = file2.read()\n",
    "    lines = content.split(\"\\n\")\n",
    "    toplam = 0\n",
    "    for x in range(len(lines)-1):\n",
    "        if x==0:\n",
    "            continue\n",
    "        bilgi = lines[x].split(\",\")\n",
    "        print(x,\"--->\",lines[x].strip(),\"--->\",bilgi,\"--->\", bilgi[0].strip())\n",
    "    return toplam\n",
    "\n",
    "toplamfiyathesapla(\"evler.csv\")"
   ]
  },
  {
   "cell_type": "code",
   "execution_count": 60,
   "id": "7851339c",
   "metadata": {},
   "outputs": [
    {
     "name": "stdout",
     "output_type": "stream",
     "text": [
      "{'04.11.2022,185,657': '187,242', '03.11.2022,186,144': '187,115', '02.11.2022,186,219': '187,135', '01.11.2022,185,657': '187,119', '31.10.2022,185,920': '187,073', '28.10.2022,185,813': '187,077', '27.10.2022,185,974': '187,110', '26.10.2022,185,911': '187,009', '25.10.2022,185,895': '186,996', '24.10.2022,186,036': '186,978', '21.10.2022,185,884': '186,933', '20.10.2022,185,868': '186,843', '19.10.2022,185,887': '186,813', '18.10.2022,185,794': '186,780', '17.10.2022,185,610': '186,721', '14.10.2022,185,585': '186,712', '13.10.2022,185,218': '186,705', '12.10.2022,185,571': '186,791', '11.10.2022,185,875': '187,060', '10.10.2022,185,737': '186,870', '07.10.2022,185,620': '186,915', '06.10.2022,185,719': '186,810', '05.10.2022,185,595': '186,931'} \n",
      "\n"
     ]
    }
   ],
   "source": [
    "def dolarVerileri(filename, ind1, ind2):\n",
    "    file=open(filename,\"r\")\n",
    "    lines = file.readlines()\n",
    "    veriler ={}\n",
    "    for i in range(len(lines)):\n",
    "        if i ==0:\n",
    "            continue\n",
    "        line = lines[i\n",
    "                    ]\n",
    "        l1 = line.replace('\",\"',';')\n",
    "        l2 = l1.replace('\"','')\n",
    "        data = l2.split(\";\")\n",
    "        veriler[data[ind1]]=data[ind2]\n",
    "    return veriler    \n",
    "    \n",
    "dollarDict = dolarVerileri(\"USD_TRY Geçmiş Verileri.csv\", 0,2)\n",
    "print(dollarDict, \"\\n\")"
   ]
  },
  {
   "cell_type": "code",
   "execution_count": 73,
   "id": "0eb4412d",
   "metadata": {},
   "outputs": [
    {
     "name": "stdout",
     "output_type": "stream",
     "text": [
      "b'    \"email\": \"Eliseo@gardner.biz\",\\n'\n",
      "b'    \"email\": \"Jayne_Kuhic@sydney.com\",\\n'\n",
      "b'    \"email\": \"Nikita@garfield.biz\",\\n'\n",
      "b'    \"email\": \"Lew@alysha.tv\",\\n'\n",
      "b'    \"email\": \"Hayden@althea.biz\",\\n'\n"
     ]
    }
   ],
   "source": [
    "from urllib.request import urlopen\n",
    "link=\"https://jsonplaceholder.typicode.com/posts/1/comments\"\n",
    "f=urlopen(link)\n",
    "lines=f.readlines()\n",
    "for i in range(len(lines)):\n",
    "    line=lines[i]\n",
    "    if \"email\" in str(line):\n",
    "        print(line)"
   ]
  },
  {
   "cell_type": "code",
   "execution_count": 77,
   "id": "7a603629",
   "metadata": {},
   "outputs": [
    {
     "name": "stdout",
     "output_type": "stream",
     "text": [
      "<class 'bytes'>\n",
      "<class 'str'>\n"
     ]
    }
   ],
   "source": [
    "isimByte = b'efe'\n",
    "print(type(isimByte))\n",
    "isimStr = isimByte.decode(\"UTF-8\")\n",
    "print(type(isimStr));"
   ]
  },
  {
   "cell_type": "code",
   "execution_count": 82,
   "id": "6d3e6936",
   "metadata": {},
   "outputs": [
    {
     "name": "stdout",
     "output_type": "stream",
     "text": [
      "101\n",
      "102\n",
      "101\n"
     ]
    }
   ],
   "source": [
    "for b in isimByte:\n",
    "    print(b)"
   ]
  },
  {
   "cell_type": "code",
   "execution_count": 108,
   "id": "267846ca",
   "metadata": {},
   "outputs": [
    {
     "data": {
      "text/plain": [
       "'löçöjçvlşoğtnçşçvkoukp'"
      ]
     },
     "execution_count": 108,
     "metadata": {},
     "output_type": "execute_result"
    }
   ],
   "source": [
    "def sifrele(isim):\n",
    "    alfabe = \"abcçdefgğhıijklmnoöprsştuüvyz\"\n",
    "    sifrelenmis=\"\"\n",
    "    for harf in isim:\n",
    "        harfIndex = (alfabe.index(harf))\n",
    "        yeniIndex = (harfIndex+3)%len(alfabe)\n",
    "        sifrelenmis +=(alfabe[yeniIndex])\n",
    "    return sifrelenmis\n",
    "    \n",
    "sifrele(\"imamhatiplerkapatılsın\")"
   ]
  }
 ],
 "metadata": {
  "kernelspec": {
   "display_name": "Python 3 (ipykernel)",
   "language": "python",
   "name": "python3"
  },
  "language_info": {
   "codemirror_mode": {
    "name": "ipython",
    "version": 3
   },
   "file_extension": ".py",
   "mimetype": "text/x-python",
   "name": "python",
   "nbconvert_exporter": "python",
   "pygments_lexer": "ipython3",
   "version": "3.9.12"
  }
 },
 "nbformat": 4,
 "nbformat_minor": 5
}
