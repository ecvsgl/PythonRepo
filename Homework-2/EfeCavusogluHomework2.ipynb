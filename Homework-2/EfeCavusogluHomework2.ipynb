{
 "cells": [
  {
   "cell_type": "code",
   "execution_count": 18,
   "id": "a4c69ad6",
   "metadata": {},
   "outputs": [
    {
     "data": {
      "text/plain": [
       "'ram'"
      ]
     },
     "execution_count": 18,
     "metadata": {},
     "output_type": "execute_result"
    }
   ],
   "source": [
    "#Question 1\n",
    "\n",
    "def question1(givenstr):\n",
    "    if len(givenstr)<3:\n",
    "        return \"Length of the given string should be greater than 3.\"\n",
    "    elif len(givenstr)%2 ==0:\n",
    "        return \"Please enter a string with odd length.\"\n",
    "    else:\n",
    "        index1= int((len(givenstr)-1)/2)-1\n",
    "        index2= int((len(givenstr)-1)/2)\n",
    "        index3= int((len(givenstr)-1)/2)+1\n",
    "        return givenstr[index1]+givenstr[index2]+givenstr[index3]\n",
    "\n",
    "question1(\"programming\")"
   ]
  },
  {
   "cell_type": "code",
   "execution_count": 13,
   "id": "c1a49342",
   "metadata": {},
   "outputs": [
    {
     "name": "stdout",
     "output_type": "stream",
     "text": [
      "15 , 40 , 65\n"
     ]
    }
   ],
   "source": [
    "#Question 2\n",
    "\n",
    "def question2(givenarr):\n",
    "    if len(givenarr)%3 != 0:\n",
    "        return \"can not be divided into 3 chunks\"\n",
    "    else:\n",
    "        subarr1=[]\n",
    "        subarr2=[]\n",
    "        subarr3=[]\n",
    "        sum1=0\n",
    "        sum2=0\n",
    "        sum3=0\n",
    "        sublen = int(len(givenarr)/3)\n",
    "        for i in range (0, sublen):\n",
    "            subarr1.append(givenarr[i])\n",
    "            subarr2.append(givenarr[i+sublen])\n",
    "            subarr3.append(givenarr[i+sublen*2])\n",
    "            sum1 += subarr1[i]\n",
    "            sum2 += subarr2[i]\n",
    "            sum3 += subarr3[i]\n",
    "    return print(sum1,',',sum2,',',sum3)\n",
    "\n",
    "question2([1,2,3,4,5,6,7,8,9,10,11,12,13,14,15])"
   ]
  },
  {
   "cell_type": "code",
   "execution_count": 7,
   "id": "7e2a425f",
   "metadata": {},
   "outputs": [
    {
     "data": {
      "text/plain": [
       "'ilA temhA penyeZ '"
      ]
     },
     "execution_count": 7,
     "metadata": {},
     "output_type": "execute_result"
    }
   ],
   "source": [
    "#Question 3\n",
    "\n",
    "def question3(givenSnt):\n",
    "    strList = givenSnt.split(\" \")\n",
    "    revd=\"\"\n",
    "    ansSnt=\"\"\n",
    "    for i in range(0,len(strList)):\n",
    "        revd=\"\"\n",
    "        for j in range(0, len(strList[i])):\n",
    "            item = strList[i]\n",
    "            revd += item[len(strList[i])-1-j]\n",
    "        ansSnt += revd + \" \"\n",
    "    return ansSnt\n",
    "    \n",
    "question3(\"Ali Ahmet Zeynep\")"
   ]
  },
  {
   "cell_type": "code",
   "execution_count": 75,
   "id": "28914667",
   "metadata": {},
   "outputs": [
    {
     "data": {
      "text/plain": [
       "['Erik', 'Mandalina', 'Elma']"
      ]
     },
     "execution_count": 75,
     "metadata": {},
     "output_type": "execute_result"
    }
   ],
   "source": [
    "#Question 4\n",
    "\n",
    "def question4(ls1,ls2):\n",
    "    ansSet= set()\n",
    "    for i in range(0,len(ls1)):\n",
    "        for j in range(0,len(ls2)):\n",
    "            if ls1[i] == ls2[j]:\n",
    "                ansSet.add(ls1[i])\n",
    "    return list(ansSet)\n",
    "\n",
    "question4(['Elma','Armut','Mandalina','Portakal','Erik'],['Kavun','Elma','Çilek','Mandalina','Ceviz','Üzüm','Erik','Badem'])"
   ]
  },
  {
   "cell_type": "code",
   "execution_count": 2,
   "id": "3220d7a9",
   "metadata": {},
   "outputs": [
    {
     "data": {
      "text/plain": [
       "'sAbAnCiUnIvErSiTy'"
      ]
     },
     "execution_count": 2,
     "metadata": {},
     "output_type": "execute_result"
    }
   ],
   "source": [
    "#Question 5\n",
    "        \n",
    "def question5(givenStr):\n",
    "    stry=\"\"\n",
    "    for i in range(0,len(givenStr)):\n",
    "        if i%2 != 0:\n",
    "            stry += givenStr[i].upper()\n",
    "        else:\n",
    "            stry += givenStr[i]\n",
    "    return stry\n",
    "\n",
    "question5(\"sabanciuniversity\")"
   ]
  },
  {
   "cell_type": "code",
   "execution_count": 3,
   "id": "d7ababa1",
   "metadata": {},
   "outputs": [
    {
     "name": "stdout",
     "output_type": "stream",
     "text": [
      "0\n",
      "1\n",
      "2\n"
     ]
    }
   ],
   "source": [
    "for a in range(3):\n",
    "    print(a)"
   ]
  }
 ],
 "metadata": {
  "kernelspec": {
   "display_name": "Python 3 (ipykernel)",
   "language": "python",
   "name": "python3"
  },
  "language_info": {
   "codemirror_mode": {
    "name": "ipython",
    "version": 3
   },
   "file_extension": ".py",
   "mimetype": "text/x-python",
   "name": "python",
   "nbconvert_exporter": "python",
   "pygments_lexer": "ipython3",
   "version": "3.9.12"
  }
 },
 "nbformat": 4,
 "nbformat_minor": 5
}
