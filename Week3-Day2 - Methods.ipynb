{
 "cells": [
  {
   "cell_type": "code",
   "execution_count": 6,
   "id": "c4587e0a",
   "metadata": {},
   "outputs": [
    {
     "name": "stdout",
     "output_type": "stream",
     "text": [
      "22\n",
      "676\n"
     ]
    }
   ],
   "source": [
    "#func icinde func cağırabiliyosun\n",
    "\n",
    "def f(x):\n",
    "    z = 2*x +1\n",
    "    a = z*2\n",
    "    return a\n",
    "#bu methodu yazdın ama bu execute etmez tabi. Bunu sonra kullancaksan çağırman, \"call etmen\" gerek.\n",
    "\n",
    "sonuc = f(5)\n",
    "print(sonuc)\n",
    "\n",
    "#bu G fonksiyonundaki X ile F'deki x aynı değil. Sadece G func içinde geçerli bu X, F için de vice versa.\n",
    "#Bundan sonra; fonksiyon = method, in meaning.\n",
    "def g(x):\n",
    "    kare = f(x)**2\n",
    "    return kare #methodların mutlaka bir değer döndürmesi en iyisidir. Geri döndürmeyedebilir.\n",
    "    \n",
    "print(g(6))"
   ]
  },
  {
   "cell_type": "code",
   "execution_count": 10,
   "id": "681d2ac7",
   "metadata": {},
   "outputs": [
    {
     "name": "stdout",
     "output_type": "stream",
     "text": [
      " * \n",
      " *  * \n",
      " *     *\n",
      " *  *\n",
      " * \n",
      "None\n"
     ]
    }
   ],
   "source": [
    "def ucgenCiz():\n",
    "    print(\" * \")\n",
    "    print(\" *  * \")\n",
    "    print(\" *     *\")\n",
    "    print(\" *  *\")\n",
    "    print(\" * \")\n",
    "    \n",
    "result = ucgenCiz()\n",
    "print(result)\n",
    "\n",
    "#yukarda return boş. Bir değer döndürmez. Şununla aynıdır;\n",
    "\n",
    "def ucgenCiz2():\n",
    "    print(\" * \")\n",
    "    print(\" *  * \")\n",
    "    print(\" *     *\")\n",
    "    print(\" *  *\")\n",
    "    print(\" * \")\n",
    "    return None #koymasan bile python kendi koyar. \n",
    "#Misal, Java da böyle bir özellik yok. Return yoksa result = ucgenCiz() demene bile izin vermezdi."
   ]
  },
  {
   "cell_type": "code",
   "execution_count": 11,
   "id": "f279c619",
   "metadata": {},
   "outputs": [],
   "source": [
    "def methodIsmi(para1, para2, para3):\n",
    "    araSonuc = para1*para2\n",
    "    sonuc = (araSonuc -55) * 4 * para3\n",
    "    return sonuc\n",
    "\n",
    "#ya parametre girmeyi unutursak? methodIsmi(2,3) olursa? para3'ü optional parametreye cevirelim;\n",
    "\n",
    "def methodIsmi(para1, para2, para3=1): #para 3 optional oldu.. Değer vermezsen otomatik olarak 1 değeri alcak para3.\n",
    "    #yukarda para1, para2 de optional bir değer yok, Zorunlu Parametre oldu.\n",
    "    araSonuc = para1*para2\n",
    "    sonuc = (araSonuc -55) * 4 * para3\n",
    "    return sonuc"
   ]
  },
  {
   "cell_type": "code",
   "execution_count": 12,
   "id": "e9a92f14",
   "metadata": {},
   "outputs": [],
   "source": [
    "#Methodlar 4 çeşittir.\n",
    "\n",
    "#1), input var - output (outputtan kastımız RETURN) var.\n",
    "\n",
    "def f(x):\n",
    "    sonuc = 5*x + 88 \n",
    "    return sonuc\n",
    "\n",
    "#2), input yok - output (YANİ RETURN YOK) yok.\n",
    "def sayHello():\n",
    "    print(\"Hello\") #print olması bir şey geri döndürmesi/output/return DEĞİL.\n",
    "    \n",
    "#3), input yok - output var.\n",
    "def pi():\n",
    "    x = 22/7\n",
    "    return x #içeriye parametre almadı, hesap yaptı kendi imkanlarıyla :) geri döndürdü.\n",
    "\n",
    "#4), input var - output (return) yok.\n",
    "def sayHello(name):\n",
    "    print(\"Hello\" + name) #print olması bir şey geri döndürmesi/output/return DEĞİL.\n",
    "                            #Parametre aldı evet, ama return yine yok. \n",
    "\n",
    "##ÖNEMLİ UYARI. KULLANICIDAN BİR İNPUT ALCAKSAN, BUNU METHOD İÇİNDE YAPMAYACAKSIN. METHOD DIŞINDA YAP.\n",
    "#METHOD İÇİNDE İNPUT İLE DEĞER ALMAK SAĞLIKSIZ.\n",
    "#ÖRN. ASAL SAYI KODUNDA INPUTU DIŞARIDA AL, ASAL KODUNU BI METHODA GÖM, SONRA METHOD CALL ET, RETURNU EKRANA BAS DIŞARDA."
   ]
  },
  {
   "cell_type": "code",
   "execution_count": 1,
   "id": "34c6b0b4",
   "metadata": {},
   "outputs": [
    {
     "name": "stdout",
     "output_type": "stream",
     "text": [
      "Bir değer girin. :122\n",
      "True\n"
     ]
    }
   ],
   "source": [
    "##ÖNEMLİ UYARI. KULLANICIDAN BİR İNPUT ALCAKSAN, BUNU METHOD İÇİNDE YAPMAYACAKSIN. METHOD DIŞINDA YAP.\n",
    "#METHOD İÇİNDE İNPUT İLE DEĞER ALMAK SAĞLIKSIZ.\n",
    "#ÖRN. ASAL SAYI KODUNDA INPUTU DIŞARIDA AL, ASAL KODUNU BI METHODA GÖM, SONRA METHOD CALL ET, RETURNU EKRANA BAS DIŞARDA.\n",
    "\n",
    "def isEven(number):\n",
    "    if (number%2 ==1):\n",
    "        return False\n",
    "    else:\n",
    "        return True\n",
    "    \n",
    "sayi = int(input(\"Bir değer girin. :\"))\n",
    "sonuc = isEven(sayi)\n",
    "print(sonuc)"
   ]
  },
  {
   "cell_type": "code",
   "execution_count": 27,
   "id": "f476b535",
   "metadata": {},
   "outputs": [
    {
     "name": "stdout",
     "output_type": "stream",
     "text": [
      "True\n",
      "Sayı Girin. : 133\n",
      "False\n"
     ]
    }
   ],
   "source": [
    "# Yukardakinin ÇOK YANNNNNNLIŞ kullanımı;\n",
    "\n",
    "def isEvenYanlis():\n",
    "    sayiStr = input (\"Sayı: \")\n",
    "    sayi = int(sayiStr)\n",
    "    if (number%2 ==1):\n",
    "        print (\"Tek\")\n",
    "    else:\n",
    "        print (\"Çift\")\n",
    "    \n",
    "#hatalar;\n",
    "#tekrar kullanmaya kapalı. Sürekli input call edicek.\n",
    "#input method içinde olmamalı.\n",
    "#return yok.\n",
    "\n",
    "#Doğrusu yukardaki gibi;\n",
    "\n",
    "def isEvenDoğru(number):\n",
    "    if (number%2 ==1):\n",
    "        return False\n",
    "    else:\n",
    "        return True\n",
    "    \n",
    "#methoda sayı verdiğinde tek/çift ayrımı yapan method budur. 100 puan.\n",
    "\n",
    "#Test edin derse;\n",
    "\n",
    "print(isEvenDoğru(123124))\n",
    "\n",
    "#program haline donusturursen;\n",
    "\n",
    "sayiStr = input(\"Sayı Girin. : \")\n",
    "sayi = int(sayiStr)\n",
    "print(isEvenDoğru(sayi)) \n",
    "\n",
    "# neden direkt isEvenDoğru(sayi) vermedin? \n",
    "#Bu sefer çoklu yazarsan, alt alta, en son True/False'u basar.\n",
    "#her birini görmek için printlemek mantıklı."
   ]
  },
  {
   "cell_type": "code",
   "execution_count": 3,
   "id": "73218824",
   "metadata": {},
   "outputs": [
    {
     "name": "stdout",
     "output_type": "stream",
     "text": [
      "1\n",
      "2\n",
      "3\n",
      "4\n",
      "6\n",
      "7\n",
      "8\n",
      "9\n",
      "10\n"
     ]
    }
   ],
   "source": [
    "#continue keyword;\n",
    "\n",
    "for x in range(1,11):\n",
    "    if x ==5:\n",
    "        continue    #Döngüyü sonlandırma, ama döngünün bu aşamasında Continue sonrasını çalıştırma.\n",
    "                    #Diğer değere geçip döngüyü işlet.\n",
    "                    #Bu çok kullanılan bir şey değil gibi. Okumayı zorlaştırıyor. Başka yollarla da bu işlevi yaparsın.\n",
    "    print(x)"
   ]
  },
  {
   "cell_type": "code",
   "execution_count": 10,
   "id": "4354f367",
   "metadata": {},
   "outputs": [
    {
     "name": "stdout",
     "output_type": "stream",
     "text": [
      "Lütfen sayı girin. :496\n",
      "Mükemmel Sayı\n"
     ]
    }
   ],
   "source": [
    "#Verilen bir sayının mükemmel sayı olup olmadığını analiz eden code (methodla) 100 ve 496 ile dene.\n",
    "\n",
    "def mukoSayı(var):    \n",
    "    total = 0 \n",
    "    for x in range (1,var):\n",
    "        if var%x ==0:\n",
    "            total = total + x\n",
    "    if total == var:\n",
    "        return True\n",
    "    else:\n",
    "        return False\n",
    "\n",
    "n = input (\"Lütfen sayı girin. :\")\n",
    "var = int(n)\n",
    "\n",
    "if var >0:    \n",
    "    sonuc = mukoSayı(var)\n",
    "    if sonuc == True:\n",
    "        print (\"Mükemmel Sayı\")\n",
    "    else:\n",
    "        print (\"Mükemmel Değil\")\n",
    "else:\n",
    "    print(\"Lütfen 0'dan büyük sayı girin.\")\n",
    "    \n",
    "    \n"
   ]
  },
  {
   "cell_type": "code",
   "execution_count": 12,
   "id": "78a38cbf",
   "metadata": {},
   "outputs": [
    {
     "name": "stdout",
     "output_type": "stream",
     "text": [
      "6\n",
      "28\n",
      "496\n",
      "8128\n"
     ]
    }
   ],
   "source": [
    "#1 - 1m arası mükemmel sayı bulan code\n",
    "\n",
    "def mukoSayı(var):    \n",
    "    total = 0 \n",
    "    for x in range (1,var):\n",
    "        if var%x ==0:\n",
    "            total = total + x\n",
    "    if total == var:\n",
    "        return True\n",
    "    else:\n",
    "        return False\n",
    "\n",
    "for var in range (1,10000):\n",
    "    sonuc = mukoSayı(var)\n",
    "    if sonuc == True:\n",
    "        print (var)\n",
    "\n",
    "    "
   ]
  },
  {
   "cell_type": "code",
   "execution_count": 1,
   "id": "38dcb0d6",
   "metadata": {},
   "outputs": [
    {
     "name": "stdout",
     "output_type": "stream",
     "text": [
      "1 ile 10000 arasındaki en büyük asal sayı;  999983 dır.\n"
     ]
    }
   ],
   "source": [
    "#1 ile #10000 arası asal sayıları ekrana basan code.\n",
    "\n",
    "def isPrime(var):\n",
    "    notPrime = 0;\n",
    "    for x in range (2,var-1):\n",
    "        remainder = var%x\n",
    "        if remainder == 0 :\n",
    "            notPrime = 1;\n",
    "            return False\n",
    "            break\n",
    "    if notPrime != 1 and var >1:\n",
    "        return True\n",
    "\n",
    "\n",
    "maxPrime = 0  \n",
    "for var in range (1,1000000+1): \n",
    "    if isPrime(1000000-var): #geriden başlatmak daha mantıklı. diğer türlü sonsuza kadar döner bu.\n",
    "        maxPrime = 1000000-var\n",
    "        break\n",
    "print(\"1 ile 10000 arasındaki en büyük asal sayı; \", maxPrime, \"dır.\")\n",
    "\n"
   ]
  },
  {
   "cell_type": "code",
   "execution_count": 5,
   "id": "016090c5",
   "metadata": {},
   "outputs": [
    {
     "name": "stdout",
     "output_type": "stream",
     "text": [
      "False\n"
     ]
    }
   ],
   "source": [
    "#Daha da iyi bir Asal Checker\n",
    "\n",
    "def isPrime(var):\n",
    "    for x in range(2,var):\n",
    "        if var%x == 0:\n",
    "            return False\n",
    "    return True\n",
    "    \n",
    "print(isPrime(33))"
   ]
  },
  {
   "cell_type": "code",
   "execution_count": null,
   "id": "65b7f33a",
   "metadata": {},
   "outputs": [],
   "source": []
  }
 ],
 "metadata": {
  "kernelspec": {
   "display_name": "Python 3 (ipykernel)",
   "language": "python",
   "name": "python3"
  },
  "language_info": {
   "codemirror_mode": {
    "name": "ipython",
    "version": 3
   },
   "file_extension": ".py",
   "mimetype": "text/x-python",
   "name": "python",
   "nbconvert_exporter": "python",
   "pygments_lexer": "ipython3",
   "version": "3.9.12"
  }
 },
 "nbformat": 4,
 "nbformat_minor": 5
}
