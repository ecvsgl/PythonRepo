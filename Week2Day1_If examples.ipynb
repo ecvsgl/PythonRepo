{
 "cells": [
  {
   "cell_type": "code",
   "execution_count": 8,
   "id": "c6b2672c",
   "metadata": {},
   "outputs": [
    {
     "name": "stdout",
     "output_type": "stream",
     "text": [
      "Lütfen bir sayı giriniz :25\n",
      "<class 'int'>\n",
      "Sayı 50 veya daha küçük bir sayıdır.\n"
     ]
    }
   ],
   "source": [
    "sayi = input(\"Lütfen bir sayı giriniz :\")\n",
    "sayiInt= int(sayi)\n",
    "print(type(sayiInt))\n",
    "\n",
    "if sayiInt >= 100:\n",
    "    print(\"Sayı 100 veya daha büyük bir sayıdır.\")\n",
    "if sayiInt <= 50:\n",
    "    print(\"Sayı 50 veya daha küçük bir sayıdır.\")\n",
    "if sayiInt >50 and sayiInt < 100:\n",
    "    print (\"elli ile yüz arasında\")\n",
    "    \n",
    "#Amelelik. If'lerin hepsi dönüyor burda. \n",
    "#Bize gerçekleşen şarttan sonrası gerekli değil.\n",
    "#"
   ]
  },
  {
   "cell_type": "code",
   "execution_count": 10,
   "id": "034600e2",
   "metadata": {},
   "outputs": [
    {
     "name": "stdout",
     "output_type": "stream",
     "text": [
      "Lütfen bir sayı giriniz :23\n",
      "<class 'int'>\n",
      "Sayı 50 veya daha küçük bir sayıdır.\n"
     ]
    }
   ],
   "source": [
    "sayi = input(\"Lütfen bir sayı giriniz :\")\n",
    "sayiInt= int(sayi)\n",
    "print(type(sayiInt))\n",
    "\n",
    "if sayiInt >= 100:\n",
    "    print(\"Sayı 100 veya daha büyük bir sayıdır.\")\n",
    "elif sayiInt <= 50:\n",
    "    print(\"Sayı 50 veya daha küçük bir sayıdır.\")\n",
    "else:\n",
    "    print (\"elli ile yüz arasında\")\n",
    "    \n",
    "#Daha verimli. İlk durum gerçekleşse, else durumlarına bakmayacak. "
   ]
  },
  {
   "cell_type": "code",
   "execution_count": 15,
   "id": "09442d1e",
   "metadata": {},
   "outputs": [
    {
     "name": "stdout",
     "output_type": "stream",
     "text": [
      "Lütfen bir sayı girin. :122\n",
      "Girilen sayı çift sayıdır.\n"
     ]
    }
   ],
   "source": [
    "#Tek mi çift mi?\n",
    "sayi = input (\"Lütfen bir sayı girin. :\")\n",
    "#10%3 ==> Kalan (Modulus) operatörü. Sonuç 1. 10'u 3 e böler, ve kalan 1 i getirir.\n",
    "sayiInt = int(sayi)\n",
    "if sayiInt%2 == 1:\n",
    "    print(\"Girilen sayı Tek sayıdır.\")\n",
    "else:\n",
    "    print(\"Girilen sayı çift sayıdır.\")"
   ]
  },
  {
   "cell_type": "code",
   "execution_count": 17,
   "id": "f93042ea",
   "metadata": {},
   "outputs": [
    {
     "name": "stdout",
     "output_type": "stream",
     "text": [
      "Lütfen bir sayı girin. :5\n",
      "Girilen sayı hem 2 hem de 3 ün katı değildir.\n"
     ]
    }
   ],
   "source": [
    "sayi = input (\"Lütfen bir sayı girin. :\")\n",
    "sayiInt = int(sayi)\n",
    "\n",
    "if sayiInt%2 == 0 or sayiInt%3 == 0:\n",
    "    print(\"Girilen sayı 2 veya 3 ün katıdır.\")\n",
    "else:\n",
    "    print(\"Girilen sayı 2 veya 3'ün katı değildir.\")"
   ]
  },
  {
   "cell_type": "code",
   "execution_count": null,
   "id": "49f33e6f",
   "metadata": {},
   "outputs": [],
   "source": []
  }
 ],
 "metadata": {
  "kernelspec": {
   "display_name": "Python 3 (ipykernel)",
   "language": "python",
   "name": "python3"
  },
  "language_info": {
   "codemirror_mode": {
    "name": "ipython",
    "version": 3
   },
   "file_extension": ".py",
   "mimetype": "text/x-python",
   "name": "python",
   "nbconvert_exporter": "python",
   "pygments_lexer": "ipython3",
   "version": "3.9.12"
  }
 },
 "nbformat": 4,
 "nbformat_minor": 5
}
