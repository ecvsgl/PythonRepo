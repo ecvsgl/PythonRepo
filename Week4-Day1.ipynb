{
 "cells": [
  {
   "cell_type": "code",
   "execution_count": 3,
   "id": "425a418d",
   "metadata": {},
   "outputs": [
    {
     "name": "stdout",
     "output_type": "stream",
     "text": [
      "Sayı Girin. :6\n",
      "*\n",
      "**\n",
      "***\n",
      "****\n",
      "*****\n",
      "******\n",
      "*****\n",
      "****\n",
      "***\n",
      "**\n",
      "*\n"
     ]
    }
   ],
   "source": [
    "def ucgenCiz(x):\n",
    "    for a in range(1,x+1):\n",
    "        print(\"*\"*a)\n",
    "    for a in range(1,x):\n",
    "        print(\"*\"*(x-a))\n",
    "\n",
    "sayiStr = input(\"Sayı Girin. :\")\n",
    "n= int(sayiStr)\n",
    "ucgenCiz(n)\n",
    "\n",
    "    "
   ]
  },
  {
   "cell_type": "code",
   "execution_count": 18,
   "id": "376a8be3",
   "metadata": {},
   "outputs": [
    {
     "name": "stdout",
     "output_type": "stream",
     "text": [
      "sayı ver2\n",
      "  * \n",
      " * * \n",
      "  * \n"
     ]
    }
   ],
   "source": [
    "def diamond(n):\n",
    "    for x in range (1,n+1):\n",
    "        print((n-x)*\" \",x*\"* \")\n",
    "    for x in range (1,n):\n",
    "        print(x*\" \",(n-x)*\"* \")\n",
    "        \n",
    "n = int(input(\"sayı ver\"))\n",
    "diamond(n)"
   ]
  },
  {
   "cell_type": "code",
   "execution_count": 34,
   "id": "1079a2a0",
   "metadata": {},
   "outputs": [
    {
     "name": "stdout",
     "output_type": "stream",
     "text": [
      "    0 \n",
      "   0 0 \n",
      "  0 0 0 \n",
      " 0 0 0 0 \n",
      "  0 0 0 \n",
      "   0 0 \n",
      "    0 \n"
     ]
    }
   ],
   "source": [
    "def diamond(n,ch):\n",
    "    for x in range (1,n+1):\n",
    "        print((n-x)*\" \",x*(ch+\" \"))\n",
    "    for x in range (1,n):\n",
    "        print(x*\" \",(n-x)*(ch+\" \"))\n",
    "        \n",
    "diamond(4,\"0\")"
   ]
  },
  {
   "cell_type": "code",
   "execution_count": 71,
   "id": "60d58bf1",
   "metadata": {},
   "outputs": [
    {
     "name": "stdout",
     "output_type": "stream",
     "text": [
      "******************  ******************\n",
      "****************      ****************\n",
      "**************          **************\n",
      "************              ************\n",
      "**********                  **********\n",
      "********                      ********\n",
      "******                          ******\n",
      "****                              ****\n",
      "**                                  **\n",
      "                                      \n",
      "                                      \n",
      "**                                  **\n",
      "****                              ****\n",
      "******                          ******\n",
      "********                      ********\n",
      "**********                  **********\n",
      "************              ************\n",
      "**************          **************\n",
      "****************      ****************\n"
     ]
    }
   ],
   "source": [
    "def tersDiamond(n,k1,k2):\n",
    "    for x in range (0,n+1):\n",
    "        print((n-x)*k2,4*x*k1,(n-x)*k2)\n",
    "    for x in range (0,n):\n",
    "        print(x*k2,4*(n-x)*k1,x*k2)\n",
    "        \n",
    "tersDiamond(9,\" \",\"**\")"
   ]
  },
  {
   "cell_type": "code",
   "execution_count": 4,
   "id": "94b0de6f",
   "metadata": {},
   "outputs": [
    {
     "name": "stdout",
     "output_type": "stream",
     "text": [
      "1. Sayı :44\n",
      "2. Sayı :89\n",
      "Aralarında Asal\n"
     ]
    }
   ],
   "source": [
    "def araAsal(n1,n2):\n",
    "    kucukSayi=n1\n",
    "    if n1>n2:\n",
    "        kucukSayi=n2\n",
    "    for x in range(2,kucukSayi+1):\n",
    "        if (n1%x == 0 and n2%x ==0):\n",
    "            return False\n",
    "    return True\n",
    "\n",
    "n1 = int(input(\"1. Sayı :\"))\n",
    "n2 = int(input(\"2. Sayı :\"))\n",
    "if araAsal(n1,n2):\n",
    "    print(\"Aralarında Asal\")\n",
    "else:\n",
    "    print(\"Ara-asallık yok\")"
   ]
  },
  {
   "cell_type": "code",
   "execution_count": 15,
   "id": "f058d370",
   "metadata": {},
   "outputs": [
    {
     "name": "stdout",
     "output_type": "stream",
     "text": [
      "2 3\n",
      "2 5\n",
      "2 7\n",
      "2 9\n",
      "3 4\n",
      "3 5\n",
      "3 7\n",
      "3 8\n",
      "4 5\n",
      "4 7\n",
      "4 9\n",
      "5 6\n",
      "5 7\n",
      "5 8\n",
      "5 9\n",
      "6 7\n",
      "7 8\n",
      "7 9\n",
      "8 9\n"
     ]
    }
   ],
   "source": [
    "#1-2-3-4-5-6-7-8-9 sayılarının aralarında asal olanlarını bulan Code.\n",
    "\n",
    "for i in range (2,10):\n",
    "    for j in range (i,10):\n",
    "        if araAsal(i,j):\n",
    "            print(i,j)\n"
   ]
  },
  {
   "cell_type": "code",
   "execution_count": null,
   "id": "90bae2ae",
   "metadata": {},
   "outputs": [],
   "source": []
  }
 ],
 "metadata": {
  "kernelspec": {
   "display_name": "Python 3 (ipykernel)",
   "language": "python",
   "name": "python3"
  },
  "language_info": {
   "codemirror_mode": {
    "name": "ipython",
    "version": 3
   },
   "file_extension": ".py",
   "mimetype": "text/x-python",
   "name": "python",
   "nbconvert_exporter": "python",
   "pygments_lexer": "ipython3",
   "version": "3.9.12"
  }
 },
 "nbformat": 4,
 "nbformat_minor": 5
}
