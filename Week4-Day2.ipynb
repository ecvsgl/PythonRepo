{
 "cells": [
  {
   "cell_type": "code",
   "execution_count": 4,
   "id": "793bc76a",
   "metadata": {},
   "outputs": [
    {
     "name": "stdout",
     "output_type": "stream",
     "text": [
      "<class 'int'>\n",
      "<class 'str'>\n"
     ]
    }
   ],
   "source": [
    "x=100\n",
    "y=\"efe\"\n",
    "print(type(x))\n",
    "print(type(y))"
   ]
  },
  {
   "cell_type": "code",
   "execution_count": 11,
   "id": "dfc632e3",
   "metadata": {},
   "outputs": [
    {
     "name": "stdout",
     "output_type": "stream",
     "text": [
      "efe\n",
      "furkan\n",
      "3\n",
      "efe\n",
      "ali\n",
      "furkan\n"
     ]
    }
   ],
   "source": [
    "isimler =[\"efe\", \"ali\", \"furkan\"] #bu bir listedir. Veya genel adıyla diğer dillerde \"array\"\n",
    "print(isimler[0])\n",
    "print(isimler[len(isimler)-1])\n",
    "print(len(isimler))\n",
    "\n",
    "for x in range (0, len(isimler)):\n",
    "    print(isimler[x])\n",
    "    "
   ]
  },
  {
   "cell_type": "code",
   "execution_count": 12,
   "id": "bd173283",
   "metadata": {},
   "outputs": [
    {
     "name": "stdout",
     "output_type": "stream",
     "text": [
      "efe\n",
      "ali\n",
      "furkan\n",
      "ayşe\n"
     ]
    }
   ],
   "source": [
    "isimler.append(\"ayşe\") #eleman ekleme\n",
    "for x in range (0, len(isimler)):\n",
    "    print(isimler[x])"
   ]
  },
  {
   "cell_type": "code",
   "execution_count": 13,
   "id": "21df6133",
   "metadata": {},
   "outputs": [],
   "source": [
    "isimler.clear() #tüm elemanları silme"
   ]
  },
  {
   "cell_type": "code",
   "execution_count": 14,
   "id": "1fe0aed2",
   "metadata": {},
   "outputs": [],
   "source": [
    "isimler = [] #bu da temizler, ilgili listeyi boş listeye eşitliyorsun"
   ]
  },
  {
   "cell_type": "code",
   "execution_count": 27,
   "id": "33b59ba4",
   "metadata": {},
   "outputs": [
    {
     "name": "stdout",
     "output_type": "stream",
     "text": [
      "[]\n"
     ]
    }
   ],
   "source": [
    "def divisors(x):\n",
    "    divs =[]\n",
    "    for n in range (2,x):\n",
    "        if x%n == 0: \n",
    "            divs.append(n)\n",
    "    return divs;\n",
    "\n",
    "print(divisors(97))"
   ]
  },
  {
   "cell_type": "code",
   "execution_count": 32,
   "id": "c19a0515",
   "metadata": {},
   "outputs": [
    {
     "name": "stdout",
     "output_type": "stream",
     "text": [
      "[88, 34, 65, 23, 78, 23]\n",
      "[88, 34, 65, 78, 23]\n"
     ]
    }
   ],
   "source": [
    "sayilar = [88,34,65,23,78,23,62,23,23,23,23,23]\n",
    "print(sayilar) \n",
    "sayilar.remove(23) #ilk gördüğü 23'ü silecek.\n",
    "print(sayilar)"
   ]
  },
  {
   "cell_type": "code",
   "execution_count": 36,
   "id": "40d9a232",
   "metadata": {},
   "outputs": [
    {
     "name": "stdout",
     "output_type": "stream",
     "text": [
      "[11, 22, 33, 44, 55]\n",
      "[11, 22, 33, 55]\n"
     ]
    }
   ],
   "source": [
    "sayilar =[11,22,33,44,55]\n",
    "print(sayilar)\n",
    "sayilar.remove(sayilar[3]) #eleman bazında silme\n",
    "print(sayilar)"
   ]
  },
  {
   "cell_type": "code",
   "execution_count": 42,
   "id": "0263cd83",
   "metadata": {},
   "outputs": [
    {
     "name": "stdout",
     "output_type": "stream",
     "text": [
      "[11, 22, 44, 55]\n"
     ]
    }
   ],
   "source": [
    "def elementRemove(lst,i):\n",
    "    newlist = []\n",
    "    for x in range (0,len(lst)):\n",
    "        if x != i:\n",
    "            newlist.append(lst[x])\n",
    "    return newlist\n",
    "\n",
    "lst =[11,22,33,44,55]\n",
    "\n",
    "print(elementRemove(lst,2))"
   ]
  },
  {
   "cell_type": "code",
   "execution_count": 43,
   "id": "029dc023",
   "metadata": {},
   "outputs": [],
   "source": [
    "#Python - build-in data structures\n",
    "#1) list\n",
    "#2) set - unique eleman barındıran, indexing yapılmayan list\n",
    "#3) tuple -  değiştirilemeyen immutable list, indexing var ama\n",
    "#4) dict - 2'lilerden oluşan key-value çiftleri. \"primary key\" - \"value\""
   ]
  },
  {
   "cell_type": "code",
   "execution_count": 48,
   "id": "e38193a5",
   "metadata": {},
   "outputs": [
    {
     "name": "stdout",
     "output_type": "stream",
     "text": [
      "[11, 22, 33, 44, 55, 66]\n",
      "[11, 22, 99, 33, 44, 55, 66]\n",
      "[11, 22, 33, 44, 55, 66]\n",
      "[11, 22, 33, 44, 55]\n",
      "[22, 33, 44, 55]\n"
     ]
    }
   ],
   "source": [
    "### 1) list\n",
    "\n",
    "buBirList = [\"abc\", 1.3, 1,2,3,4] #mesela Java'da bir liste ya hep int içerir ya hep string, tek tür.\n",
    "#Python'da her tür değişken tipi v.s. olabilir.\n",
    "\n",
    "#listelere eleman eklenebilir\n",
    "sayilar =[11,22,33,44,55]\n",
    "sayilar.append(66) #sonuna ekler.\n",
    "print(sayilar)\n",
    "sayilar.insert(2,99) #2. index'te olcak şekilde 99'u ekledi. İstediğin yeri ekler.\n",
    "print(sayilar)\n",
    "sayilar.pop(2) #İstenen index'teki elemanı remove eder.\n",
    "print(sayilar)\n",
    "sayilar.pop() #son elemanı remove eder\n",
    "print(sayilar)\n",
    "sayilar.remove(11) #verilen ne eleman varsa (indexi değil) ilk gördüğü yerden verilen elemanı siler eğer birkaç tane aynı \n",
    "#elemandan varsa sadece ilk gördüğünü siler, sonra bir şey yapmaz.\n",
    "print(sayilar)\n",
    "\n",
    "bosList =[] #boş liste oluşturmak\n",
    "bosList = list()#boş liste oluşturmak"
   ]
  },
  {
   "cell_type": "code",
   "execution_count": 60,
   "id": "e4b9eb2e",
   "metadata": {},
   "outputs": [
    {
     "name": "stdout",
     "output_type": "stream",
     "text": [
      "33\n",
      "22\n",
      "55\n",
      "11\n",
      "44\n",
      "{33, 99, 22, 55, 11, 44}\n",
      "{33, 99, 22, 55, 11, 44}\n",
      "{33, 99, 22, 55, 199, 11, 44}\n",
      "{33, 99, 22, 199, 11, 44}\n",
      "set()\n"
     ]
    }
   ],
   "source": [
    "### 2) Set\n",
    "\n",
    "sayilarSet ={11,22,33,44,55} #KOYDUĞUM SIRAYA ALDIRIŞ ETMEZ.\n",
    "for sayi in sayilarSet:\n",
    "    print(sayi)\n",
    "    \n",
    "sayilarSet.add(99) #list'te append, burda add.\n",
    "print(sayilarSet)\n",
    "sayilarSet.add(99)\n",
    "sayilarSet.add(99)\n",
    "print(sayilarSet) #BAK EKLEMEDİ ÜSTTEKİ 2 TANE 99'U.\n",
    "\n",
    "# SETLERDE TÜM ELEMANLAR UNIQUE. LİSTEDEN 2 ÖNEMLİ FARKI\n",
    "    #HER ELEMAN 1 KERE OLABİLİR, TIPKI KÜMELER GİBİ. EKLEMEYE ÇALIŞSAN HATA VERMEZ AMA EKLEMEZ DE.\n",
    "    #İNDEX İLE ULAŞILAMAZ, SIRALI TUTMAZ ÇÜNKÜ.\n",
    "    \n",
    "sayilarSet.add(199)\n",
    "print(sayilarSet)\n",
    "sayilarSet.remove(55) #olmayan bir elemanı çıkartmak istersen error vericek ama.\n",
    "print(sayilarSet)\n",
    "sayilarSet.clear()\n",
    "print(sayilarSet)\n",
    "\n",
    "bosSet = {} #boş set oluşturmak\n",
    "bosSet = set()#boş set oluşturmak"
   ]
  },
  {
   "cell_type": "code",
   "execution_count": 69,
   "id": "a9d1a677",
   "metadata": {},
   "outputs": [
    {
     "name": "stdout",
     "output_type": "stream",
     "text": [
      "11\n",
      "22\n",
      "33\n",
      "44\n",
      "55\n",
      "11\n",
      "22\n",
      "33\n",
      "44\n",
      "55\n",
      "()\n"
     ]
    }
   ],
   "source": [
    "### 3) Tuples\n",
    "\n",
    "sayilarTuple = (11,22,33,44,55)\n",
    "for sayi in sayilarTuple: #sırasını tuttu.\n",
    "    print(sayi)\n",
    "    \n",
    "#sayilarTuple.add(66) - çalışmaz.\n",
    "#sayilarTuple.insert(66) - çalışmaz. tuple'ı bir kere oluşturunca bir daha DEĞİŞTİREMEZSİN. \"immutable\"\n",
    "#sayilarTuple.clear() - çalışmaaaaz.\n",
    "\n",
    "###Kullanım amacı: değiştirilmesini istemediğiniz şeyleri burda saklarsınız. \n",
    "### İmmutable olduğu için eleman değiştiremezsin. Diğerleri mutabledır.\n",
    "###Listten daha hızlı çalışır.\n",
    "\n",
    "for i in range(len(sayilarTuple)):\n",
    "    print(sayilarTuple[i]) ## index ile ulaşılabilir.\n",
    "    \n",
    "sayilarTuple = (1,2,3) #yaparsan yepyeni bir tuple olarak yazar. O KADAR DA DEĞİL HEHEHE :) \n",
    "\n",
    "bosTuple = ()\n",
    "bosTuple = tuple()\n",
    "print(bosTuple)"
   ]
  },
  {
   "cell_type": "code",
   "execution_count": 70,
   "id": "faf19a7a",
   "metadata": {},
   "outputs": [
    {
     "name": "stdout",
     "output_type": "stream",
     "text": [
      "(11, 22, 33, 44, 55, 99)\n"
     ]
    }
   ],
   "source": [
    "t =(11,22,33,44,55)\n",
    "l = list(t)\n",
    "l.append(99)\n",
    "t2 = tuple(l)\n",
    "print(t2) #ÇAKAAAL"
   ]
  },
  {
   "cell_type": "code",
   "execution_count": 94,
   "id": "e3775dd7",
   "metadata": {},
   "outputs": [
    {
     "name": "stdout",
     "output_type": "stream",
     "text": [
      "masa\n",
      "elma\n",
      "{'table': 'masa', 'apple': 'elma', 'pear': 'armut'}\n",
      "masa\n",
      "elma\n",
      "armut\n",
      "\n",
      "\n",
      "table\n",
      "apple\n",
      "pear\n",
      "{'table': 'masa', 'apple': 'elmo', 'pear': 'armut', 'gate': 'kapı'}\n",
      "{'table': 'masa', 'pear': 'armut', 'gate': 'kapı'}\n"
     ]
    }
   ],
   "source": [
    "### 4) dict - dictionary\n",
    "\n",
    "sozluk ={\"table\":\"masa\", \n",
    "         \"apple\":\"elma\", \n",
    "         \"pear\":\"armut\"\n",
    "        }\n",
    "print(sozluk[\"table\"])\n",
    "#print(sozluk[0]) #error verir. indexing yok. \n",
    "#Index-Value ilişkisi yerine burda Key(set)-value(list) var. \n",
    "#Aynı Key'den iki tane olamaz.\n",
    "#internet servislerinin iletişimi - dict alıp verme üzerine kuruludur.\n",
    "#zor soruları dictlerle çözebilirsin diyor hoca\n",
    "print(sozluk[\"apple\"])\n",
    "print(sozluk)\n",
    "\n",
    "for tr in sozluk.values():\n",
    "    print (tr)\n",
    "print(\"\\n\")\n",
    "for en in sozluk.keys():\n",
    "    print(en)\n",
    "    \n",
    "sozluk[\"apple\"]=\"elmo\"\n",
    "sozluk [\"gate\"]=\"kapı\"\n",
    "print(sozluk)\n",
    "\n",
    "del sozluk[\"apple\"]\n",
    "print(sozluk)"
   ]
  },
  {
   "cell_type": "code",
   "execution_count": null,
   "id": "f34a9a6c",
   "metadata": {},
   "outputs": [],
   "source": []
  }
 ],
 "metadata": {
  "kernelspec": {
   "display_name": "Python 3 (ipykernel)",
   "language": "python",
   "name": "python3"
  },
  "language_info": {
   "codemirror_mode": {
    "name": "ipython",
    "version": 3
   },
   "file_extension": ".py",
   "mimetype": "text/x-python",
   "name": "python",
   "nbconvert_exporter": "python",
   "pygments_lexer": "ipython3",
   "version": "3.9.12"
  }
 },
 "nbformat": 4,
 "nbformat_minor": 5
}
