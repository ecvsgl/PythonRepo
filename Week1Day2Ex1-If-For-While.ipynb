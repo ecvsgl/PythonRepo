{
 "cells": [
  {
   "cell_type": "code",
   "execution_count": 1,
   "id": "a24e3af0",
   "metadata": {},
   "outputs": [
    {
     "name": "stdout",
     "output_type": "stream",
     "text": [
      "isim ?ll\n",
      "Merhaba\n",
      "Merhaba\n",
      "ll\n",
      "Bitti\n"
     ]
    }
   ],
   "source": [
    "isim = input(\"isim ?\")\n",
    "if isim == \"John\" :\n",
    "    print(\"Hello\")\n",
    "    print(\"Hello\")\n",
    "elif isim == \"Javier\" :\n",
    "    print(\"Hola\")\n",
    "    print(\"Hola\")\n",
    "elif isim == \"Danilo\" :\n",
    "    print(\"Ciao\")\n",
    "    print(\"Ciao\")\n",
    "else:\n",
    "    print(\"Merhaba\")\n",
    "    print(\"Merhaba\")  \n",
    "print(isim)\n",
    "print(\"Bitti\")"
   ]
  },
  {
   "cell_type": "code",
   "execution_count": 3,
   "id": "fddb9b42",
   "metadata": {},
   "outputs": [
    {
     "name": "stdout",
     "output_type": "stream",
     "text": [
      "Lütfen isminizi giriniz : Aer\n",
      "Lütfen yaşınızı giriniz : 223\n",
      "Maalesef hesap açamazsınız\n",
      "<class 'str'>\n"
     ]
    }
   ],
   "source": [
    "isim = input(\"Lütfen isminizi giriniz : \")\n",
    "yasString = input(\"Lütfen yaşınızı giriniz : \")\n",
    "if isim == \"Ayşe\":\n",
    "    if int(yasString) >= 18:\n",
    "        print(\"Hesap açabilirsiniz \")\n",
    "    else:\n",
    "        print(\"Ayşe 18 den küçüksün hesap açamazsın\")\n",
    "else:\n",
    "    print(\"Maalesef hesap açamazsınız\")\n",
    "    \n",
    "print(type(yasString))"
   ]
  },
  {
   "cell_type": "code",
   "execution_count": null,
   "id": "23773367",
   "metadata": {},
   "outputs": [],
   "source": [
    "rad"
   ]
  },
  {
   "cell_type": "raw",
   "id": "79338adc",
   "metadata": {},
   "source": [
    "age = input(\"Lütfen yaşınızı giriniz : \")\n",
    "\n",
    "age = int(age)\n",
    "\n",
    "print(type(age))"
   ]
  },
  {
   "cell_type": "code",
   "execution_count": null,
   "id": "fc15af57",
   "metadata": {},
   "outputs": [],
   "source": []
  }
 ],
 "metadata": {
  "kernelspec": {
   "display_name": "Python 3 (ipykernel)",
   "language": "python",
   "name": "python3"
  },
  "language_info": {
   "codemirror_mode": {
    "name": "ipython",
    "version": 3
   },
   "file_extension": ".py",
   "mimetype": "text/x-python",
   "name": "python",
   "nbconvert_exporter": "python",
   "pygments_lexer": "ipython3",
   "version": "3.9.12"
  }
 },
 "nbformat": 4,
 "nbformat_minor": 5
}
