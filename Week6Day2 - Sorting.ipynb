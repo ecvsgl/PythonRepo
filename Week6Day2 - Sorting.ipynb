{
 "cells": [
  {
   "cell_type": "code",
   "execution_count": 15,
   "id": "cad2342b",
   "metadata": {},
   "outputs": [
    {
     "data": {
      "text/plain": [
       "[2, 5, 12, 32, 32, 34, 41, 45, 56, 62, 67, 78, 99, 123]"
      ]
     },
     "execution_count": 15,
     "metadata": {},
     "output_type": "execute_result"
    }
   ],
   "source": [
    "sayilar = [32,12,34,5,2,56,78,41,67,99,32,45,62,123]\n",
    "\n",
    "def findMin(liste):\n",
    "    minInt = liste[0]\n",
    "    for i in range(0,len(liste)):\n",
    "        if liste[i] < minInt:\n",
    "            minInt = liste[i]\n",
    "    return minInt\n",
    "\n",
    "def findMax(liste):\n",
    "    maxInt = liste[0]\n",
    "    for i in range(0,len(liste)):\n",
    "        if liste[i] > maxInt:\n",
    "            maxInt = liste[i]\n",
    "    return maxInt\n",
    "\n",
    "def sorting(liste): #yazılabilecek en dandik sorting algoritması.\n",
    "    yeniListe=[]\n",
    "    for i in range(0,len(liste)):\n",
    "        listMin = findMin(liste)\n",
    "        liste.remove(listMin)\n",
    "        yeniListe.append(listMin)\n",
    "    return yeniListe\n",
    "sorting(sayilar)"
   ]
  },
  {
   "cell_type": "code",
   "execution_count": 13,
   "id": "3354a67c",
   "metadata": {},
   "outputs": [
    {
     "ename": "IndexError",
     "evalue": "list index out of range",
     "output_type": "error",
     "traceback": [
      "\u001b[1;31m---------------------------------------------------------------------------\u001b[0m",
      "\u001b[1;31mIndexError\u001b[0m                                Traceback (most recent call last)",
      "Input \u001b[1;32mIn [13]\u001b[0m, in \u001b[0;36m<cell line: 1>\u001b[1;34m()\u001b[0m\n\u001b[1;32m----> 1\u001b[0m \u001b[43mfindMax\u001b[49m\u001b[43m(\u001b[49m\u001b[43msayilar\u001b[49m\u001b[43m)\u001b[49m\n",
      "Input \u001b[1;32mIn [12]\u001b[0m, in \u001b[0;36mfindMax\u001b[1;34m(liste)\u001b[0m\n\u001b[0;32m     10\u001b[0m \u001b[38;5;28;01mdef\u001b[39;00m \u001b[38;5;21mfindMax\u001b[39m(liste):\n\u001b[1;32m---> 11\u001b[0m     maxInt \u001b[38;5;241m=\u001b[39m \u001b[43mliste\u001b[49m\u001b[43m[\u001b[49m\u001b[38;5;241;43m0\u001b[39;49m\u001b[43m]\u001b[49m\n\u001b[0;32m     12\u001b[0m     \u001b[38;5;28;01mfor\u001b[39;00m i \u001b[38;5;129;01min\u001b[39;00m \u001b[38;5;28mrange\u001b[39m(\u001b[38;5;241m0\u001b[39m,\u001b[38;5;28mlen\u001b[39m(liste)):\n\u001b[0;32m     13\u001b[0m         \u001b[38;5;28;01mif\u001b[39;00m liste[i] \u001b[38;5;241m>\u001b[39m maxInt:\n",
      "\u001b[1;31mIndexError\u001b[0m: list index out of range"
     ]
    }
   ],
   "source": [
    "findMax(sayilar)"
   ]
  },
  {
   "cell_type": "code",
   "execution_count": 7,
   "id": "9a042293",
   "metadata": {},
   "outputs": [
    {
     "data": {
      "text/plain": [
       "2"
      ]
     },
     "execution_count": 7,
     "metadata": {},
     "output_type": "execute_result"
    }
   ],
   "source": [
    "findMin(sayilar)"
   ]
  }
 ],
 "metadata": {
  "kernelspec": {
   "display_name": "Python 3 (ipykernel)",
   "language": "python",
   "name": "python3"
  },
  "language_info": {
   "codemirror_mode": {
    "name": "ipython",
    "version": 3
   },
   "file_extension": ".py",
   "mimetype": "text/x-python",
   "name": "python",
   "nbconvert_exporter": "python",
   "pygments_lexer": "ipython3",
   "version": "3.9.12"
  }
 },
 "nbformat": 4,
 "nbformat_minor": 5
}
