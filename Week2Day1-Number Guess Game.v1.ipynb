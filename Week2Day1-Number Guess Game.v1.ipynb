{
 "cells": [
  {
   "cell_type": "code",
   "execution_count": 29,
   "id": "4c1dc451",
   "metadata": {},
   "outputs": [
    {
     "name": "stdout",
     "output_type": "stream",
     "text": [
      "Lütfen 1. Tahmininizi Girin. :50\n",
      "Daha küçük bir sayı girin.Kalan Hakkınız:  4\n",
      "Lütfen 2. Tahmininizi Girin. :25\n",
      "Daha büyük bir sayı girin.Kalan Hakkınız:  3\n",
      "Lütfen 3. Tahmininizi Girin. :37\n",
      "Daha küçük bir sayı girin.Kalan Hakkınız:  2\n",
      "Lütfen 4. Tahmininizi Girin. :31\n",
      "Daha büyük bir sayı girin.Kalan Hakkınız:  1\n",
      "Lütfen 5. Tahmininizi Girin. :33\n",
      "Bildiniz!\n",
      "Üretilmiş olan sayı:  33\n"
     ]
    }
   ],
   "source": [
    "import random\n",
    "haklar = [1,2,3,4,5]\n",
    "# 0 ile 100 arasında random sayı üretiyoruz.\n",
    "uretilenSayi = random.randint(0,100)\n",
    "for hak in haklar:\n",
    "    sayi = input(\"Lütfen \"+str(hak)+\". Tahmininizi Girin. :\")\n",
    "    tahmin = int(sayi)\n",
    "    #Input doğru mu diye kontrol ediyoruz.\n",
    "    if tahmin == uretilenSayi:\n",
    "        print (\"Bildiniz!\")\n",
    "        #Eğer sayı doğru tahmin edilirse for döngüsünü kırıyoruz.\n",
    "        break\n",
    "    else: \n",
    "        yonlendirme = \"Daha büyük bir sayı girin.\"\n",
    "        if(tahmin > uretilenSayi):\n",
    "            yonlendirme = \"Daha küçük bir sayı girin.\"\n",
    "        print(yonlendirme + \"Kalan Hakkınız: \", (5-hak))\n",
    "print(\"Üretilmiş olan sayı: \",uretilenSayi)"
   ]
  },
  {
   "cell_type": "code",
   "execution_count": null,
   "id": "58f97f84",
   "metadata": {},
   "outputs": [],
   "source": []
  },
  {
   "cell_type": "code",
   "execution_count": null,
   "id": "c5224a21",
   "metadata": {},
   "outputs": [],
   "source": []
  }
 ],
 "metadata": {
  "kernelspec": {
   "display_name": "Python 3 (ipykernel)",
   "language": "python",
   "name": "python3"
  },
  "language_info": {
   "codemirror_mode": {
    "name": "ipython",
    "version": 3
   },
   "file_extension": ".py",
   "mimetype": "text/x-python",
   "name": "python",
   "nbconvert_exporter": "python",
   "pygments_lexer": "ipython3",
   "version": "3.9.12"
  }
 },
 "nbformat": 4,
 "nbformat_minor": 5
}
