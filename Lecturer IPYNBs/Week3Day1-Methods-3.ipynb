{
 "cells": [
  {
   "cell_type": "code",
   "execution_count": 5,
   "id": "73cbba4f",
   "metadata": {},
   "outputs": [
    {
     "data": {
      "text/plain": [
       "11"
      ]
     },
     "execution_count": 5,
     "metadata": {},
     "output_type": "execute_result"
    }
   ],
   "source": [
    "def obeb(sayi1,sayi2):\n",
    "    kucukSayi = sayi2\n",
    "    if (sayi1<sayi2):\n",
    "        kucukSayi = sayi1\n",
    "    obeb = 1\n",
    "    for sayi in range(1,kucukSayi+1):\n",
    "        kalan1 = sayi1%sayi\n",
    "        kalan2 = sayi2%sayi\n",
    "        if (kalan1 == 0 and kalan2==0):\n",
    "            obeb = sayi\n",
    "    return obeb\n",
    "\n",
    "obeb(11,99)"
   ]
  },
  {
   "cell_type": "code",
   "execution_count": 12,
   "id": "93356474",
   "metadata": {},
   "outputs": [
    {
     "data": {
      "text/plain": [
       "187"
      ]
     },
     "execution_count": 12,
     "metadata": {},
     "output_type": "execute_result"
    }
   ],
   "source": [
    "def okek(sayi1,sayi2):\n",
    "    buyukSayi = sayi1\n",
    "    if (sayi2>buyukSayi):\n",
    "        buyukSayi = sayi2\n",
    "    carpimlari = sayi1*sayi2\n",
    "    for sayi in range(buyukSayi,carpimlari+1):\n",
    "        kalan1 = sayi%sayi1\n",
    "        kalan2 = sayi%sayi2\n",
    "        if (kalan1 == 0 and kalan2==0):\n",
    "            return sayi\n",
    "    return carpimlari\n",
    "okek(17,11)"
   ]
  },
  {
   "cell_type": "code",
   "execution_count": null,
   "id": "c7a46373",
   "metadata": {},
   "outputs": [],
   "source": []
  }
 ],
 "metadata": {
  "kernelspec": {
   "display_name": "Python 3 (ipykernel)",
   "language": "python",
   "name": "python3"
  },
  "language_info": {
   "codemirror_mode": {
    "name": "ipython",
    "version": 3
   },
   "file_extension": ".py",
   "mimetype": "text/x-python",
   "name": "python",
   "nbconvert_exporter": "python",
   "pygments_lexer": "ipython3",
   "version": "3.9.12"
  }
 },
 "nbformat": 4,
 "nbformat_minor": 5
}
