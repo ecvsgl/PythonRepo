{
 "cells": [
  {
   "cell_type": "code",
   "execution_count": 1,
   "id": "90e4d935",
   "metadata": {},
   "outputs": [
    {
     "name": "stdout",
     "output_type": "stream",
     "text": [
      "697\n"
     ]
    }
   ],
   "source": [
    "urunler = {\"Elma\" : 20 , \"Armut\" : 30 , \"Muz\":35, \"Karpuz\":25, \"Kavun\": 33} #Global değişken\n",
    "\n",
    "\n",
    "def hesapla(elmaKilo,armutKilo,muzKilo,karpuzKilo,kavunKilo):\n",
    "    elmaToplam = urunler[\"Elma\"] * elmaKilo\n",
    "    armutToplam = urunler[\"Armut\"] * armutKilo\n",
    "    muzToplam = urunler[\"Muz\"] * muzKilo\n",
    "    karpuzToplam = urunler[\"Karpuz\"] * karpuzKilo\n",
    "    kavunToplam = urunler[\"Kavun\"] * kavunKilo\n",
    "    toplam = elmaToplam + armutToplam + muzToplam + karpuzToplam + kavunToplam\n",
    "    return toplam\n",
    "    \n",
    "\n",
    "\n",
    "odenecek = hesapla(5,3,5,8,4)\n",
    "print(odenecek)"
   ]
  },
  {
   "cell_type": "code",
   "execution_count": 11,
   "id": "564c229b",
   "metadata": {},
   "outputs": [
    {
     "data": {
      "text/plain": [
       "{88: [2, 4, 8, 11, 22, 44, 88],\n",
       " 178: [2, 89, 178],\n",
       " 986: [2, 17, 29, 34, 58, 493, 986],\n",
       " 2: [2],\n",
       " 32: [2, 4, 8, 16, 32],\n",
       " 24: [2, 3, 4, 6, 8, 12, 24],\n",
       " 234: [2, 3, 6, 9, 13, 18, 26, 39, 78, 117, 234],\n",
       " 3: [3],\n",
       " 232: [2, 4, 8, 29, 58, 116, 232],\n",
       " 3421: [11, 311, 3421],\n",
       " 4234: [2, 29, 58, 73, 146, 2117, 4234],\n",
       " 23432: [2,\n",
       "  4,\n",
       "  8,\n",
       "  29,\n",
       "  58,\n",
       "  101,\n",
       "  116,\n",
       "  202,\n",
       "  232,\n",
       "  404,\n",
       "  808,\n",
       "  2929,\n",
       "  5858,\n",
       "  11716,\n",
       "  23432],\n",
       " 4: [2, 4]}"
      ]
     },
     "execution_count": 11,
     "metadata": {},
     "output_type": "execute_result"
    }
   ],
   "source": [
    "numbers = [88, 178, 986,2,32,24,234,3,232,3421,4234,23432,4]\n",
    "\n",
    "#geri dönmesi gereken liste\n",
    "#{\n",
    "#    88 : [1,2,4,8,11,88],\n",
    "#    178 : [1,2,...],\n",
    "#    986 : [1,2......]\n",
    "#}\n",
    "def bolenleriBul(sayi):\n",
    "    bolenler = []\n",
    "    for i in range(2,sayi+1):\n",
    "        if sayi%i == 0:\n",
    "            bolenler.append(i)\n",
    "    return bolenler\n",
    "\n",
    "def bolenlerListesi (sayilar):\n",
    "    sonuc = dict()\n",
    "    #sonuc[12] = \"ahmet\"\n",
    "    #sonuc[33] = [1,2,3]\n",
    "    #sonuc[\"fiyat\"] = 345\n",
    "    for sayi in sayilar:\n",
    "        sonuc[sayi] = bolenleriBul(sayi)\n",
    "    return sonuc\n",
    "\n",
    "\n",
    "bolenlerListesi(numbers)"
   ]
  },
  {
   "cell_type": "code",
   "execution_count": null,
   "id": "94fac7b1",
   "metadata": {},
   "outputs": [],
   "source": [
    "\n"
   ]
  }
 ],
 "metadata": {
  "kernelspec": {
   "display_name": "Python 3",
   "language": "python",
   "name": "python3"
  },
  "language_info": {
   "codemirror_mode": {
    "name": "ipython",
    "version": 3
   },
   "file_extension": ".py",
   "mimetype": "text/x-python",
   "name": "python",
   "nbconvert_exporter": "python",
   "pygments_lexer": "ipython3",
   "version": "3.8.3"
  }
 },
 "nbformat": 4,
 "nbformat_minor": 5
}
