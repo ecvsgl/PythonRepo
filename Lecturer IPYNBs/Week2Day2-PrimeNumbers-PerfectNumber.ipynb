{
 "cells": [
  {
   "cell_type": "code",
   "execution_count": 37,
   "id": "c01fb2b9",
   "metadata": {},
   "outputs": [
    {
     "name": "stdout",
     "output_type": "stream",
     "text": [
      "Lütfen bir sayı giriniz.1\n",
      "1  asal değildir\n"
     ]
    }
   ],
   "source": [
    "sayiStr = input(\"Lütfen bir sayı giriniz.\")\n",
    "asaldir = True\n",
    "girilenSayi = int(sayiStr)\n",
    "for sayi in range(2,girilenSayi):\n",
    "    if (girilenSayi%sayi == 0):\n",
    "        asaldir=False\n",
    "        break\n",
    "\n",
    "if (asaldir == True and girilenSayi != 1):\n",
    "    print(girilenSayi,\" asaldır\")\n",
    "else:\n",
    "     print(girilenSayi,\" asal değildir\")"
   ]
  },
  {
   "cell_type": "code",
   "execution_count": 41,
   "id": "8609b5f1",
   "metadata": {},
   "outputs": [
    {
     "name": "stdout",
     "output_type": "stream",
     "text": [
      "Lütfen bir sayı giriniz.100\n",
      "100  in bölenleri :\n",
      "1\n",
      "2\n",
      "4\n",
      "5\n",
      "10\n",
      "20\n",
      "25\n",
      "50\n"
     ]
    }
   ],
   "source": [
    "#Girilen sayının bölenlerini ekrana basan\n",
    "sayiStr = input(\"Lütfen bir sayı giriniz.\")\n",
    "girilenSayi = int(sayiStr)\n",
    "print(girilenSayi,\" in bölenleri :\")\n",
    "for sayi in range(1,girilenSayi):\n",
    "    kalan = girilenSayi%sayi\n",
    "    if(kalan == 0):\n",
    "        print(sayi)"
   ]
  },
  {
   "cell_type": "code",
   "execution_count": 46,
   "id": "99b3b2b4",
   "metadata": {},
   "outputs": [
    {
     "name": "stdout",
     "output_type": "stream",
     "text": [
      "Lütfen bir sayı giriniz.5\n",
      "0  -  0\n",
      "1  -  1\n",
      "3  -  2\n",
      "6  -  3\n",
      "10  -  4\n",
      "15  -  5\n",
      "5 ya kadar olan toplam 15\n"
     ]
    }
   ],
   "source": [
    "#0 dan girilen sayıya kadar (kendisi dahil) olan sayıların toplamı\n",
    "sayiStr = input(\"Lütfen bir sayı giriniz.\")\n",
    "girilenSayi = int(sayiStr)\n",
    "toplam = 0\n",
    "for sayi in range(0,girilenSayi+1):\n",
    "    toplam = toplam + sayi\n",
    "    print(toplam,\" - \",sayi)\n",
    "print(girilenSayi,\"ya kadar olan toplam\",toplam)"
   ]
  },
  {
   "cell_type": "code",
   "execution_count": 47,
   "id": "2c3328f5",
   "metadata": {},
   "outputs": [
    {
     "name": "stdout",
     "output_type": "stream",
     "text": [
      "Lütfen bir sayı giriniz.5\n",
      "1  -  1\n",
      "2  -  2\n",
      "6  -  3\n",
      "24  -  4\n",
      "120  -  5\n",
      "5 ya kadar olan çarpım 120\n"
     ]
    }
   ],
   "source": [
    "#1 dan girilen sayıya kadar (kendisi dahil) olan sayıların çarpımı (Factoriyel)\n",
    "sayiStr = input(\"Lütfen bir sayı giriniz.\")\n",
    "girilenSayi = int(sayiStr)\n",
    "carpim = 1\n",
    "for sayi in range(1,girilenSayi+1):\n",
    "    carpim = carpim * sayi\n",
    "    print(carpim,\" - \",sayi)\n",
    "print(girilenSayi,\"ya kadar olan çarpım\",carpim)"
   ]
  },
  {
   "cell_type": "code",
   "execution_count": 62,
   "id": "3dc1d61f",
   "metadata": {},
   "outputs": [
    {
     "name": "stdout",
     "output_type": "stream",
     "text": [
      "Lütfen bir sayı giriniz.496\n",
      "Mükemmel sayı\n"
     ]
    }
   ],
   "source": [
    "#girilen sayının mükemmel sayı olup olmadığını söyleye program\n",
    "sayiStr = input(\"Lütfen bir sayı giriniz.\")\n",
    "girilenSayi = int(sayiStr)\n",
    "toplam = 0\n",
    "for sayi in range(1,girilenSayi):\n",
    "    if (girilenSayi%sayi == 0):\n",
    "        toplam = toplam + sayi\n",
    "        #print(toplam,\" - \",sayi)\n",
    "#print(girilenSayi,\"-\",toplam)\n",
    "if (girilenSayi == toplam):\n",
    "    print(\"Mükemmel sayı\")\n",
    "else:\n",
    "    print(\"Mükemmel değil\")"
   ]
  },
  {
   "cell_type": "code",
   "execution_count": null,
   "id": "78735b27",
   "metadata": {},
   "outputs": [],
   "source": []
  }
 ],
 "metadata": {
  "kernelspec": {
   "display_name": "Python 3 (ipykernel)",
   "language": "python",
   "name": "python3"
  },
  "language_info": {
   "codemirror_mode": {
    "name": "ipython",
    "version": 3
   },
   "file_extension": ".py",
   "mimetype": "text/x-python",
   "name": "python",
   "nbconvert_exporter": "python",
   "pygments_lexer": "ipython3",
   "version": "3.9.12"
  }
 },
 "nbformat": 4,
 "nbformat_minor": 5
}
