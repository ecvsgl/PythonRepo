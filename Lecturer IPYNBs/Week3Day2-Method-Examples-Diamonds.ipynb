{
 "cells": [
  {
   "cell_type": "code",
   "execution_count": 5,
   "id": "0d26a8f4",
   "metadata": {},
   "outputs": [
    {
     "name": "stdout",
     "output_type": "stream",
     "text": [
      "          * \n",
      "         * * \n",
      "        * * * \n",
      "       * * * * \n",
      "      * * * * * \n",
      "     * * * * * * \n",
      "    * * * * * * * \n",
      "   * * * * * * * * \n",
      "  * * * * * * * * * \n",
      " * * * * * * * * * * \n",
      "  * * * * * * * * * \n",
      "   * * * * * * * * \n",
      "    * * * * * * * \n",
      "     * * * * * * \n",
      "      * * * * * \n",
      "       * * * * \n",
      "        * * * \n",
      "         * * \n",
      "          * \n"
     ]
    }
   ],
   "source": [
    "# Yıldız (*) işaretleriyle baklava dilimi (Diamond) şekli çizen method yazınız\n",
    "\n",
    "def diamond(columnCount,karakter):\n",
    "    for x in range(1,columnCount+1):\n",
    "        print((columnCount-x)*\" \",x* (karakter+\" \"))\n",
    "    for x in range(1,columnCount):\n",
    "        print(x*\" \",(columnCount-x)*(karakter+\" \"))\n",
    "diamond(10,\"*\")"
   ]
  },
  {
   "cell_type": "code",
   "execution_count": 6,
   "id": "b46c33f8",
   "metadata": {},
   "outputs": [
    {
     "name": "stdout",
     "output_type": "stream",
     "text": [
      "* * * * * * * * *   * * * * * * * * * \n",
      "* * * * * * * *       * * * * * * * * \n",
      "* * * * * * *           * * * * * * * \n",
      "* * * * * *               * * * * * * \n",
      "* * * * *                   * * * * * \n",
      "* * * *                       * * * * \n",
      "* * *                           * * * \n",
      "* *                               * * \n",
      "*                                   * \n",
      "                                      \n",
      "                                      \n",
      "*                                   * \n",
      "* *                               * * \n",
      "* * *                           * * * \n",
      "* * * *                       * * * * \n",
      "* * * * *                   * * * * * \n",
      "* * * * * *               * * * * * * \n",
      "* * * * * * *           * * * * * * * \n",
      "* * * * * * * *       * * * * * * * * \n"
     ]
    }
   ],
   "source": [
    "def superDiamond(columnCount,k1,k2):\n",
    "    for x in range(0,columnCount+1):\n",
    "        print((columnCount-x)*k2,4*x*k1,(columnCount-x)*k2)\n",
    "    for x in range(0,columnCount):\n",
    "        print(x*k2,4*(columnCount-x)*k1,x*k2)\n",
    "superDiamond(9,\" \",\"* \")"
   ]
  },
  {
   "cell_type": "code",
   "execution_count": 7,
   "id": "e02105c6",
   "metadata": {},
   "outputs": [],
   "source": [
    "def baklava(kolonSayisi):\n",
    "    for i in range(1,kolonSayisi):\n",
    "        print(\" \"*(kolonSayisi-i),\"* \"*i)\n",
    "    for i in range(1,kolonSayisi):\n",
    "        print(\" \"*i,\"* \"*(kolonSayisi-i))"
   ]
  },
  {
   "cell_type": "code",
   "execution_count": 50,
   "id": "c7f6c8c9",
   "metadata": {},
   "outputs": [
    {
     "name": "stdout",
     "output_type": "stream",
     "text": [
      "          * \n",
      "         * * \n",
      "        * * * \n",
      "       * * * * \n",
      "      * * * * * \n",
      "     * * * * * * \n",
      "    * * * * * * * \n",
      "   * * * * * * * * \n",
      "  * * * * * * * * * \n",
      "  * * * * * * * * * \n",
      "   * * * * * * * * \n",
      "    * * * * * * * \n",
      "     * * * * * * \n",
      "      * * * * * \n",
      "       * * * * \n",
      "        * * * \n",
      "         * * \n",
      "          * \n"
     ]
    }
   ],
   "source": [
    "baklava(10)"
   ]
  },
  {
   "cell_type": "code",
   "execution_count": null,
   "id": "d5e03cab",
   "metadata": {},
   "outputs": [],
   "source": []
  }
 ],
 "metadata": {
  "kernelspec": {
   "display_name": "Python 3 (ipykernel)",
   "language": "python",
   "name": "python3"
  },
  "language_info": {
   "codemirror_mode": {
    "name": "ipython",
    "version": 3
   },
   "file_extension": ".py",
   "mimetype": "text/x-python",
   "name": "python",
   "nbconvert_exporter": "python",
   "pygments_lexer": "ipython3",
   "version": "3.9.12"
  }
 },
 "nbformat": 4,
 "nbformat_minor": 5
}
