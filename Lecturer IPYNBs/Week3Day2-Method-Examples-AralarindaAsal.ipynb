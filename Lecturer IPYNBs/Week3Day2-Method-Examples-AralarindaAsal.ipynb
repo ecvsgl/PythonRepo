{
 "cells": [
  {
   "cell_type": "code",
   "execution_count": 17,
   "id": "b38a8446",
   "metadata": {},
   "outputs": [],
   "source": [
    "#Verilen iki sayının aralarında asal olup olmadığını bulan method yazınız\n",
    "\n",
    "#5,15\n",
    "\n",
    "def aralarindaAsalMidir(sayi1,sayi2):\n",
    "    kucukSayi = sayi1\n",
    "    if (sayi2<kucukSayi):\n",
    "        kucukSayi=sayi2\n",
    "    for x in range(2,kucukSayi+1):\n",
    "        if (sayi1%x == 0 and sayi2%x==0):\n",
    "            return False\n",
    "    return True\n"
   ]
  },
  {
   "cell_type": "code",
   "execution_count": 18,
   "id": "925ae712",
   "metadata": {},
   "outputs": [
    {
     "name": "stdout",
     "output_type": "stream",
     "text": [
      "Aralarında asal değiller\n"
     ]
    }
   ],
   "source": [
    "if aralarindaAsalMidir(3,9) == True :\n",
    "    print(\"Aralarında asallar\")\n",
    "else:\n",
    "     print(\"Aralarında asal değiller\")"
   ]
  },
  {
   "cell_type": "code",
   "execution_count": 22,
   "id": "79cb8248",
   "metadata": {},
   "outputs": [
    {
     "name": "stdout",
     "output_type": "stream",
     "text": [
      "2 3\n",
      "2 5\n",
      "2 7\n",
      "2 9\n",
      "3 4\n",
      "3 5\n",
      "3 7\n",
      "3 8\n",
      "4 5\n",
      "4 7\n",
      "4 9\n",
      "5 6\n",
      "5 7\n",
      "5 8\n",
      "5 9\n",
      "6 7\n",
      "7 8\n",
      "7 9\n",
      "8 9\n"
     ]
    }
   ],
   "source": [
    "#2,3,4,5,6,7,8,9\n",
    "\n",
    "for i in range(2,10):\n",
    "    for j in range(i+1,10):\n",
    "        if aralarindaAsalMidir(i,j) :\n",
    "            print(i,j)\n",
    "\n"
   ]
  },
  {
   "cell_type": "code",
   "execution_count": null,
   "id": "af8b355e",
   "metadata": {},
   "outputs": [],
   "source": []
  }
 ],
 "metadata": {
  "kernelspec": {
   "display_name": "Python 3",
   "language": "python",
   "name": "python3"
  },
  "language_info": {
   "codemirror_mode": {
    "name": "ipython",
    "version": 3
   },
   "file_extension": ".py",
   "mimetype": "text/x-python",
   "name": "python",
   "nbconvert_exporter": "python",
   "pygments_lexer": "ipython3",
   "version": "3.8.3"
  }
 },
 "nbformat": 4,
 "nbformat_minor": 5
}
