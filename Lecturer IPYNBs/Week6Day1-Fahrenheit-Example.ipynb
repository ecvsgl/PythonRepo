{
 "cells": [
  {
   "cell_type": "code",
   "execution_count": 6,
   "id": "1ae25538",
   "metadata": {},
   "outputs": [],
   "source": [
    "def fahrenheitToCelcius(inputFilename,ouputFilename):\n",
    "    file1 = open(inputFilename,'r')\n",
    "    file2 = open(ouputFilename,'w')\n",
    "    lines = file1.readlines()\n",
    "    for line in lines:\n",
    "        data = line.split(\":\")\n",
    "        fahrenheit = float(data[1])\n",
    "        celcius = (fahrenheit-32)/1.8\n",
    "        newLine = data[0] + \":\"+str(celcius)+\"\\n\"\n",
    "        file2.write(newLine)\n",
    "    file1.close()\n",
    "    file2.close()\n",
    "fahrenheitToCelcius(\"fahrenheit.txt\",\"output1.txt\")   "
   ]
  },
  {
   "cell_type": "code",
   "execution_count": 10,
   "id": "85d87d07",
   "metadata": {},
   "outputs": [],
   "source": [
    "def celciusToFahrenheit(inputFilename,ouputFilename):\n",
    "    file1 = open(inputFilename,'r')\n",
    "    file2 = open(ouputFilename,'w')\n",
    "    lines = file1.readlines()\n",
    "    for line in lines:\n",
    "        data = line.split(\":\")\n",
    "        celcius = float(data[1])\n",
    "        fahrenheit = (celcius*1.8) + 32\n",
    "        newLine = data[0] + \":\"+str(fahrenheit)+\"\\n\"\n",
    "        file2.write(newLine)\n",
    "    file1.close()\n",
    "    file2.close()\n",
    "celciusToFahrenheit(\"output1.txt\",\"newFahrenheit.txt\")  "
   ]
  },
  {
   "cell_type": "code",
   "execution_count": 12,
   "id": "294cd193",
   "metadata": {},
   "outputs": [],
   "source": [
    "def yeniSatirEkle(inputFilename):\n",
    "    file1 = open(inputFilename,'w')\n",
    "    for x in range(100):\n",
    "        file1.write(\"New Line\"+str(x)+\"\\n\")\n",
    "    file1.close();\n",
    "yeniSatirEkle(\"newFahrenheit.txt\")"
   ]
  },
  {
   "cell_type": "code",
   "execution_count": 18,
   "id": "f62676d0",
   "metadata": {},
   "outputs": [],
   "source": [
    "#Yukarıdaki iki metodu (fahrenheitToCelcius,celciusToFahrenheit) tek metod şeklinde yazmaya çalışıyoruz\n",
    "\n",
    "def converter(inputFilename,ouputFilename,fromFtoC=1):\n",
    "    file1 = open(inputFilename,'r')\n",
    "    file2 = open(ouputFilename,'w')\n",
    "    lines = file1.readlines()\n",
    "    for line in lines:\n",
    "        data = line.split(\":\")\n",
    "        toBeConverted = float(data[1])\n",
    "        if (fromFtoC==2):\n",
    "            converted = (toBeConverted*1.8) + 32\n",
    "        elif (fromFtoC==1):\n",
    "            converted = (toBeConverted-32)/1.8\n",
    "        newLine = data[0] + \":\"+str(converted)+\"\\n\"\n",
    "        file2.write(newLine)\n",
    "    file1.close()\n",
    "    file2.close()\n",
    "    \n",
    "converter(\"fahrenheit.txt\",\"a.txt\",1)"
   ]
  },
  {
   "cell_type": "code",
   "execution_count": 19,
   "id": "3f72dfc2",
   "metadata": {},
   "outputs": [],
   "source": [
    "converter(\"a.txt\",\"b.txt\",2)"
   ]
  },
  {
   "cell_type": "code",
   "execution_count": 20,
   "id": "31496ebe",
   "metadata": {},
   "outputs": [],
   "source": [
    "converter(\"fahrenheit.txt\",\"c.txt\",2)"
   ]
  },
  {
   "cell_type": "code",
   "execution_count": 21,
   "id": "af432f4d",
   "metadata": {},
   "outputs": [],
   "source": [
    "converter(\"fahrenheit.txt\",\"c.txt\")"
   ]
  },
  {
   "cell_type": "code",
   "execution_count": null,
   "id": "3ddc2dd1",
   "metadata": {},
   "outputs": [],
   "source": []
  }
 ],
 "metadata": {
  "kernelspec": {
   "display_name": "Python 3 (ipykernel)",
   "language": "python",
   "name": "python3"
  },
  "language_info": {
   "codemirror_mode": {
    "name": "ipython",
    "version": 3
   },
   "file_extension": ".py",
   "mimetype": "text/x-python",
   "name": "python",
   "nbconvert_exporter": "python",
   "pygments_lexer": "ipython3",
   "version": "3.9.12"
  }
 },
 "nbformat": 4,
 "nbformat_minor": 5
}
