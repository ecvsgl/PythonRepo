{
 "cells": [
  {
   "cell_type": "code",
   "execution_count": 6,
   "id": "5a2865ad",
   "metadata": {},
   "outputs": [
    {
     "name": "stdout",
     "output_type": "stream",
     "text": [
      "Lütfen bir sayı giriniz :25\n",
      "<class 'int'>\n",
      "elli veya daha küçük bir sayı\n"
     ]
    }
   ],
   "source": [
    "sayi = input(\"Lütfen bir sayı giriniz :\")\n",
    "sayiInt = int(sayi)\n",
    "print(type(sayiInt))\n",
    "\n",
    "if sayiInt >= 100 :\n",
    "    print(\"yüz veya daha büyük bir sayı\")\n",
    "if sayiInt <= 50 :\n",
    "    print(\"elli veya daha küçük bir sayı\")\n",
    "if sayiInt > 50 and sayiInt < 100 :\n",
    "    print(\"elli ile yüz arasında\")\n"
   ]
  },
  {
   "cell_type": "code",
   "execution_count": 10,
   "id": "ae34b79c",
   "metadata": {},
   "outputs": [
    {
     "name": "stdout",
     "output_type": "stream",
     "text": [
      "Lütfen bir sayı giriniz :56\n",
      "<class 'int'>\n",
      "elli ile yüz arasında\n"
     ]
    }
   ],
   "source": [
    "sayi = input(\"Lütfen bir sayı giriniz :\")\n",
    "sayiInt = int(sayi)\n",
    "print(type(sayiInt))\n",
    "\n",
    "if sayiInt >= 100 :\n",
    "    print(\"yüz veya daha büyük bir sayı\")\n",
    "elif sayiInt <= 50 :\n",
    "    print(\"elli veya daha küçük bir sayı\")\n",
    "else:\n",
    "    print(\"elli ile yüz arasında\")"
   ]
  },
  {
   "cell_type": "code",
   "execution_count": 16,
   "id": "fa30c807",
   "metadata": {},
   "outputs": [
    {
     "name": "stdout",
     "output_type": "stream",
     "text": [
      "Lütfen bir sayı giriniz :122\n",
      "girdiğiniz sayı bir çift sayıdır\n"
     ]
    }
   ],
   "source": [
    "#Tek mi çift mi?\n",
    "sayi = input(\"Lütfen bir sayı giriniz :\")\n",
    "#10%3 ==> sonuc 1 olmalı (İlk sayının ikinci sayıya bölümünden KALAN)\n",
    "sayiInt = int(sayi)\n",
    "\n",
    "if sayiInt%2 == 1:\n",
    "    print(\"girdiğiniz sayı bir tek sayıdır\")\n",
    "else:\n",
    "    print(\"girdiğiniz sayı bir çift sayıdır\")"
   ]
  },
  {
   "cell_type": "code",
   "execution_count": 19,
   "id": "6f7e6c42",
   "metadata": {},
   "outputs": [
    {
     "name": "stdout",
     "output_type": "stream",
     "text": [
      "Lütfen bir sayı giriniz :5\n",
      "girdiğiniz sayı hem 2 nin hemde 3 ün katı değildir\n"
     ]
    }
   ],
   "source": [
    "sayi = input(\"Lütfen bir sayı giriniz :\")\n",
    "#10%3 ==> sonuc 1 olmalı (İlk sayının ikinci sayıya bölümünden KALAN)\n",
    "sayiInt = int(sayi)\n",
    "\n",
    "if (sayiInt%2 == 0  or sayiInt%3 == 0) and sayiInt%5 == 0:\n",
    "    print(\"girdiğiniz sayı 10 veya 15 ün katıdır\")\n",
    "else:\n",
    "    print(\"girdiğiniz sayı hem 2 nin hemde 3 ün katı değildir\")\n"
   ]
  },
  {
   "cell_type": "code",
   "execution_count": null,
   "id": "697ad294",
   "metadata": {},
   "outputs": [],
   "source": []
  }
 ],
 "metadata": {
  "kernelspec": {
   "display_name": "Python 3 (ipykernel)",
   "language": "python",
   "name": "python3"
  },
  "language_info": {
   "codemirror_mode": {
    "name": "ipython",
    "version": 3
   },
   "file_extension": ".py",
   "mimetype": "text/x-python",
   "name": "python",
   "nbconvert_exporter": "python",
   "pygments_lexer": "ipython3",
   "version": "3.9.12"
  }
 },
 "nbformat": 4,
 "nbformat_minor": 5
}
