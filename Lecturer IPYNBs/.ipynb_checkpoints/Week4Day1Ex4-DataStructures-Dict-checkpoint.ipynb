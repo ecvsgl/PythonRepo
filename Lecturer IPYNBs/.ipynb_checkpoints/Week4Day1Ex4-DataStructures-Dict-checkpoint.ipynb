{
 "cells": [
  {
   "cell_type": "code",
   "execution_count": 1,
   "id": "593f4df1",
   "metadata": {},
   "outputs": [],
   "source": [
    "#Python - built-in data structures\n",
    "#1) list\n",
    "#2) set  - unique eleman barındıran ve index ile ulaşılamayan list\n",
    "#3) tuple - immutable list, indexle ulaşilabilir ama değiştirilemez\n",
    "#4) dict"
   ]
  },
  {
   "cell_type": "code",
   "execution_count": 3,
   "id": "7b163931",
   "metadata": {},
   "outputs": [
    {
     "name": "stdout",
     "output_type": "stream",
     "text": [
      "<class 'dict'>\n"
     ]
    }
   ],
   "source": [
    "sozluk = {\n",
    "    \"table\":\"masa\",\n",
    "    \"window\":\"pencere\",\n",
    "    \"door\":\"kapı\"\n",
    "    }\n",
    "print(type(sozluk))"
   ]
  },
  {
   "cell_type": "code",
   "execution_count": 6,
   "id": "544fd412",
   "metadata": {},
   "outputs": [
    {
     "name": "stdout",
     "output_type": "stream",
     "text": [
      "masa\n"
     ]
    }
   ],
   "source": [
    "print(sozluk[\"table\"])"
   ]
  },
  {
   "cell_type": "code",
   "execution_count": 9,
   "id": "bff953bf",
   "metadata": {},
   "outputs": [
    {
     "name": "stdout",
     "output_type": "stream",
     "text": [
      "table  --- >  masa\n",
      "window  --- >  pencere\n",
      "door  --- >  kapı\n"
     ]
    }
   ],
   "source": [
    "for kelime in sozluk:\n",
    "    print(kelime, \" --- > \",sozluk[kelime])"
   ]
  },
  {
   "cell_type": "code",
   "execution_count": 12,
   "id": "13af2987",
   "metadata": {},
   "outputs": [
    {
     "name": "stdout",
     "output_type": "stream",
     "text": [
      "masa\n",
      "pencere\n",
      "kapı\n"
     ]
    }
   ],
   "source": [
    "for tr in sozluk.values():\n",
    "    print(tr)"
   ]
  },
  {
   "cell_type": "code",
   "execution_count": 13,
   "id": "91e94c3d",
   "metadata": {},
   "outputs": [
    {
     "name": "stdout",
     "output_type": "stream",
     "text": [
      "table\n",
      "window\n",
      "door\n"
     ]
    }
   ],
   "source": [
    "for en in sozluk.keys():\n",
    "    print(en)"
   ]
  },
  {
   "cell_type": "code",
   "execution_count": 16,
   "id": "685d2526",
   "metadata": {},
   "outputs": [
    {
     "name": "stdout",
     "output_type": "stream",
     "text": [
      "{'table': 'masa', 'window': 'ventana', 'door': 'kapı', 'gate': 'kapı'}\n",
      "{'window': 'ventana', 'door': 'kapı', 'gate': 'kapı'}\n"
     ]
    }
   ],
   "source": [
    "sozluk[\"window\"] = \"ventana\"  #var olan değer (value) değiştiriyoruz\n",
    "sozluk[\"gate\"] = \"kapı\"  # yeni key-value ikilisi ekliyoruz\n",
    "print(sozluk)\n",
    "del sozluk[\"table\"]\n",
    "print(sozluk)"
   ]
  },
  {
   "cell_type": "code",
   "execution_count": 20,
   "id": "8efc6066",
   "metadata": {},
   "outputs": [
    {
     "ename": "ValueError",
     "evalue": "dictionary update sequence element #0 has length 7; 2 is required",
     "output_type": "error",
     "traceback": [
      "\u001b[0;31m---------------------------------------------------------------------------\u001b[0m",
      "\u001b[0;31mValueError\u001b[0m                                Traceback (most recent call last)",
      "\u001b[0;32m<ipython-input-20-328ef39be95f>\u001b[0m in \u001b[0;36m<module>\u001b[0;34m\u001b[0m\n\u001b[1;32m      1\u001b[0m \u001b[0mliste\u001b[0m \u001b[0;34m=\u001b[0m \u001b[0mlist\u001b[0m\u001b[0;34m(\u001b[0m\u001b[0msozluk\u001b[0m\u001b[0;34m.\u001b[0m\u001b[0mvalues\u001b[0m\u001b[0;34m(\u001b[0m\u001b[0;34m)\u001b[0m\u001b[0;34m)\u001b[0m\u001b[0;34m\u001b[0m\u001b[0;34m\u001b[0m\u001b[0m\n\u001b[1;32m      2\u001b[0m \u001b[0mb\u001b[0m \u001b[0;34m=\u001b[0m \u001b[0mliste\u001b[0m\u001b[0;34m\u001b[0m\u001b[0;34m\u001b[0m\u001b[0m\n\u001b[0;32m----> 3\u001b[0;31m \u001b[0myeniDict\u001b[0m \u001b[0;34m=\u001b[0m \u001b[0mdict\u001b[0m\u001b[0;34m(\u001b[0m\u001b[0mb\u001b[0m\u001b[0;34m)\u001b[0m\u001b[0;34m\u001b[0m\u001b[0;34m\u001b[0m\u001b[0m\n\u001b[0m\u001b[1;32m      4\u001b[0m \u001b[0mprint\u001b[0m\u001b[0;34m(\u001b[0m\u001b[0myeniDict\u001b[0m\u001b[0;34m)\u001b[0m\u001b[0;34m\u001b[0m\u001b[0;34m\u001b[0m\u001b[0m\n",
      "\u001b[0;31mValueError\u001b[0m: dictionary update sequence element #0 has length 7; 2 is required"
     ]
    }
   ],
   "source": [
    "liste = list(sozluk.values())\n",
    "b = liste\n",
    "yeniDict = dict(b)\n",
    "print(yeniDict)"
   ]
  },
  {
   "cell_type": "code",
   "execution_count": null,
   "id": "1b5891c0",
   "metadata": {},
   "outputs": [],
   "source": []
  }
 ],
 "metadata": {
  "kernelspec": {
   "display_name": "Python 3 (ipykernel)",
   "language": "python",
   "name": "python3"
  },
  "language_info": {
   "codemirror_mode": {
    "name": "ipython",
    "version": 3
   },
   "file_extension": ".py",
   "mimetype": "text/x-python",
   "name": "python",
   "nbconvert_exporter": "python",
   "pygments_lexer": "ipython3",
   "version": "3.9.12"
  }
 },
 "nbformat": 4,
 "nbformat_minor": 5
}
