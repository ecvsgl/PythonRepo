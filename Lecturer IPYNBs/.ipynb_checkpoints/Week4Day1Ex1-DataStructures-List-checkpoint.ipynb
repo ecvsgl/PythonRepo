{
 "cells": [
  {
   "cell_type": "code",
   "execution_count": 1,
   "id": "3dc8e546",
   "metadata": {},
   "outputs": [],
   "source": [
    "x = 100"
   ]
  },
  {
   "cell_type": "code",
   "execution_count": 2,
   "id": "60f3f7d7",
   "metadata": {},
   "outputs": [
    {
     "name": "stdout",
     "output_type": "stream",
     "text": [
      "ahmet\n"
     ]
    }
   ],
   "source": [
    "isim = \"ahmet\"\n",
    "print(isim)"
   ]
  },
  {
   "cell_type": "code",
   "execution_count": 8,
   "id": "7d677c9d",
   "metadata": {},
   "outputs": [
    {
     "name": "stdout",
     "output_type": "stream",
     "text": [
      "ahmet\n",
      "veli\n",
      "3\n"
     ]
    }
   ],
   "source": [
    "isimler = [\"ahmet\",\"ali\",\"veli\"]\n",
    "print(isimler[0])\n",
    "print(isimler[1])\n",
    "print(isimler[2]) #listedeki (i-1). eleman\n",
    "print(len(isimler)) #listede kaç eleman var"
   ]
  },
  {
   "cell_type": "code",
   "execution_count": 9,
   "id": "7b3e5fa1",
   "metadata": {},
   "outputs": [
    {
     "name": "stdout",
     "output_type": "stream",
     "text": [
      "ahmet\n",
      "ali\n",
      "veli\n"
     ]
    }
   ],
   "source": [
    "for x in range(0,3):\n",
    "    print(isimler[x])"
   ]
  },
  {
   "cell_type": "code",
   "execution_count": 17,
   "id": "a0c86fe8",
   "metadata": {},
   "outputs": [
    {
     "name": "stdout",
     "output_type": "stream",
     "text": [
      "ayşe\n"
     ]
    }
   ],
   "source": [
    "isimler.clear()\n",
    "isimler.append(\"ayşe\") #yeni eleman ekleme\n",
    "for x in range(0,len(isimler)):\n",
    "    print(isimler[x])"
   ]
  },
  {
   "cell_type": "code",
   "execution_count": 18,
   "id": "94b7eab1",
   "metadata": {},
   "outputs": [],
   "source": [
    "isimler = [] #boş liste tanımlama"
   ]
  },
  {
   "cell_type": "code",
   "execution_count": 29,
   "id": "4c66fc71",
   "metadata": {},
   "outputs": [
    {
     "name": "stdout",
     "output_type": "stream",
     "text": [
      "[2, 4, 5, 10, 20, 25, 50]\n"
     ]
    }
   ],
   "source": [
    "def bolenleriBul(sayi):\n",
    "    bolenler = []\n",
    "    for i in range(2,sayi):\n",
    "        if sayi%i == 0:\n",
    "            bolenler.append(i)\n",
    "    return bolenler\n",
    "\n",
    "print(bolenleriBul(100))"
   ]
  },
  {
   "cell_type": "code",
   "execution_count": 33,
   "id": "550f32bf",
   "metadata": {},
   "outputs": [
    {
     "name": "stdout",
     "output_type": "stream",
     "text": [
      "[88, 34, 65, 21, 26, 45, 78, 62, 26, 26, 26]\n",
      "[88, 34, 65, 21, 45, 78, 62, 26, 26, 26]\n"
     ]
    }
   ],
   "source": [
    "sayilar = [88,34,65,21,26,45,78,62,26,26,26]\n",
    "print(sayilar)\n",
    "sayilar.remove(26) #belirli bir elemanı ilk gördüğü yerden siler\n",
    "print(sayilar)"
   ]
  },
  {
   "cell_type": "code",
   "execution_count": 40,
   "id": "2eecd66f",
   "metadata": {},
   "outputs": [
    {
     "name": "stdout",
     "output_type": "stream",
     "text": [
      "[11, 33, 44, 55]\n"
     ]
    }
   ],
   "source": [
    "sayilar = [11,22,33,44,55]\n",
    "sayilar.remove(22)\n",
    "print(sayilar)"
   ]
  },
  {
   "cell_type": "code",
   "execution_count": 46,
   "id": "19b9d072",
   "metadata": {},
   "outputs": [
    {
     "name": "stdout",
     "output_type": "stream",
     "text": [
      "['a', 'b', 'b', 'a']\n"
     ]
    }
   ],
   "source": [
    "def removeElementAt(removeIndex,removeList):\n",
    "    newList =[]\n",
    "    for i in range(0,len(removeList)):\n",
    "        if removeIndex != i:\n",
    "            newList.append(removeList[i])\n",
    "    return newList\n",
    "d = [\"a\",\"b\",\"a\",\"b\",\"a\"]\n",
    "print(removeElementAt(2,d))"
   ]
  },
  {
   "cell_type": "code",
   "execution_count": 42,
   "id": "aa4e6c87",
   "metadata": {},
   "outputs": [
    {
     "name": "stdout",
     "output_type": "stream",
     "text": [
      "['a', 'b', 'd', 'e']\n"
     ]
    }
   ],
   "source": [
    "n = [\"a\",\"b\",\"c\",\"d\",\"e\"]\n",
    "\n",
    "sonuc = removeElementAt(2,n)\n",
    "print(sonuc)"
   ]
  },
  {
   "cell_type": "code",
   "execution_count": 45,
   "id": "777a0607",
   "metadata": {},
   "outputs": [
    {
     "name": "stdout",
     "output_type": "stream",
     "text": [
      "['b', 'a', 'b', 'a']\n"
     ]
    }
   ],
   "source": [
    "def removeElementAt(removeIndex,removeList):\n",
    "    for i in range(0,len(removeList)):\n",
    "        if removeIndex == i:\n",
    "            removeList.remove(removeList[i])\n",
    "    return removeList\n",
    "\n",
    "d = [\"a\",\"b\",\"a\",\"b\",\"a\"]\n",
    "print(removeElementAt(2,d))"
   ]
  },
  {
   "cell_type": "code",
   "execution_count": 48,
   "id": "559ef511",
   "metadata": {},
   "outputs": [
    {
     "name": "stdout",
     "output_type": "stream",
     "text": [
      "0  --- >  22\n",
      "1  --- >  33\n",
      "2  --- >  44\n"
     ]
    }
   ],
   "source": [
    "a = [22,33,44]\n",
    "for i in range(0,len(a)):\n",
    "    print(i,\" --- > \",a[i])"
   ]
  },
  {
   "cell_type": "code",
   "execution_count": 49,
   "id": "b8f5ae95",
   "metadata": {},
   "outputs": [
    {
     "name": "stdout",
     "output_type": "stream",
     "text": [
      "22\n",
      "33\n",
      "44\n"
     ]
    }
   ],
   "source": [
    "for i in a:\n",
    "    print(i)"
   ]
  },
  {
   "cell_type": "code",
   "execution_count": 50,
   "id": "4d9685ba",
   "metadata": {},
   "outputs": [],
   "source": [
    "#Python - built-in data structures\n",
    "#1) list\n",
    "#2) set\n",
    "#3) tuple\n",
    "#4) dict"
   ]
  },
  {
   "cell_type": "code",
   "execution_count": 56,
   "id": "942eff8d",
   "metadata": {},
   "outputs": [
    {
     "name": "stdout",
     "output_type": "stream",
     "text": [
      "[11, 22, 33, 44, 55, 66]\n",
      "[11, 22, 99, 33, 44, 55, 66]\n",
      "[11, 22, 33, 44, 55, 66]\n",
      "[11, 22, 33, 44, 55]\n",
      "[22, 33, 44, 55, 11]\n"
     ]
    }
   ],
   "source": [
    "#her tür değişken tipi tek listede olabilir (python için geçerli)\n",
    "things = [\"abc\",1,2,3,\"rrr\",4,4.3,\"a\",\"ahmet\",\"string\"]\n",
    "sayilar = [11,22,33,44,55]\n",
    "#eleman eklenebilir\n",
    "sayilar.append(66) #En sona ekler\n",
    "print(sayilar)\n",
    "sayilar.insert(2,99) #istediğimiz index e eleman ekler\n",
    "print(sayilar)\n",
    "sayilar.pop(2) #istediğimiz index teki elemanı remove (indexle çalışır)\n",
    "print(sayilar)\n",
    "sayilar.pop() #son elemanı siler\n",
    "print(sayilar)\n",
    "sayilar.append(11)\n",
    "sayilar.remove(11) #verilen elemanı (index i değil) ilk gördüğü yerden silen eğer bir kaç tane 11 varsa sadece ilk 11 silinir\n",
    "print(sayilar)"
   ]
  },
  {
   "cell_type": "code",
   "execution_count": null,
   "id": "9dddd4bf",
   "metadata": {},
   "outputs": [],
   "source": [
    "a = []       #boş liste\n",
    "a = list()    #boş liste"
   ]
  }
 ],
 "metadata": {
  "kernelspec": {
   "display_name": "Python 3 (ipykernel)",
   "language": "python",
   "name": "python3"
  },
  "language_info": {
   "codemirror_mode": {
    "name": "ipython",
    "version": 3
   },
   "file_extension": ".py",
   "mimetype": "text/x-python",
   "name": "python",
   "nbconvert_exporter": "python",
   "pygments_lexer": "ipython3",
   "version": "3.9.12"
  }
 },
 "nbformat": 4,
 "nbformat_minor": 5
}
