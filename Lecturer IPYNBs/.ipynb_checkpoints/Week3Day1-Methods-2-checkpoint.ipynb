{
 "cells": [
  {
   "cell_type": "code",
   "execution_count": 1,
   "id": "b5630365",
   "metadata": {},
   "outputs": [],
   "source": [
    "#Verilen sayının mükemmel olup olmadığına karar veren method\n",
    "def isPerfectNumber(number):\n",
    "    toplam = 0\n",
    "    for sayi in range(1,number):\n",
    "        if (number%sayi == 0):\n",
    "            toplam = toplam + sayi\n",
    "    if (number == toplam):\n",
    "        return True\n",
    "    return False\n"
   ]
  },
  {
   "cell_type": "code",
   "execution_count": 2,
   "id": "968211e3",
   "metadata": {},
   "outputs": [
    {
     "name": "stdout",
     "output_type": "stream",
     "text": [
      "6\n",
      "28\n",
      "496\n",
      "8128\n"
     ]
    }
   ],
   "source": [
    "for x in range(1,10000):\n",
    "    if(isPerfectNumber(x)==True):\n",
    "        print(x)"
   ]
  },
  {
   "cell_type": "code",
   "execution_count": 16,
   "id": "169ec1a7",
   "metadata": {},
   "outputs": [],
   "source": [
    "#Verilen sayının asal olup olmadığına karar veren method\n",
    "def isAsal(number):\n",
    "    for sayi in range(2,number):\n",
    "        if (number%sayi == 0):\n",
    "            return False\n",
    "    if number <= 1:\n",
    "        return False\n",
    "    return True"
   ]
  },
  {
   "cell_type": "code",
   "execution_count": 19,
   "id": "d13907ac",
   "metadata": {},
   "outputs": [
    {
     "name": "stdout",
     "output_type": "stream",
     "text": [
      "103\n"
     ]
    }
   ],
   "source": [
    "#Verilen sınır sayısına kadar olan en büyük asal sayı\n",
    "sinir=104\n",
    "aranan = 2\n",
    "for x in range(2,sinir):\n",
    "    #y = sinir-x\n",
    "    if(isAsal(x)):\n",
    "        aranan = x\n",
    "print(aranan)"
   ]
  },
  {
   "cell_type": "code",
   "execution_count": 22,
   "id": "881b5f19",
   "metadata": {},
   "outputs": [
    {
     "name": "stdout",
     "output_type": "stream",
     "text": [
      "103\n"
     ]
    }
   ],
   "source": [
    "#Verilen sınır sayısına kadar olan en büyük asal sayı (Aynı kodun daha hızlı çalışan versiyonu)\n",
    "sinir=104\n",
    "for x in range(2,sinir):\n",
    "    y = sinir-x +1\n",
    "    if(isAsal(y)):\n",
    "        print(y)\n",
    "        break"
   ]
  },
  {
   "cell_type": "code",
   "execution_count": null,
   "id": "3a3535f6",
   "metadata": {},
   "outputs": [],
   "source": []
  },
  {
   "cell_type": "code",
   "execution_count": null,
   "id": "0bec00bc",
   "metadata": {},
   "outputs": [],
   "source": []
  }
 ],
 "metadata": {
  "kernelspec": {
   "display_name": "Python 3 (ipykernel)",
   "language": "python",
   "name": "python3"
  },
  "language_info": {
   "codemirror_mode": {
    "name": "ipython",
    "version": 3
   },
   "file_extension": ".py",
   "mimetype": "text/x-python",
   "name": "python",
   "nbconvert_exporter": "python",
   "pygments_lexer": "ipython3",
   "version": "3.9.12"
  }
 },
 "nbformat": 4,
 "nbformat_minor": 5
}
