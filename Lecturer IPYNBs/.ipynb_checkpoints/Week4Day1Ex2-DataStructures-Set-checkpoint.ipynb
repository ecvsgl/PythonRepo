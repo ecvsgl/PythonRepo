{
 "cells": [
  {
   "cell_type": "code",
   "execution_count": 1,
   "id": "55bed6fd",
   "metadata": {},
   "outputs": [],
   "source": [
    "#Python - built-in data structures\n",
    "#1) list\n",
    "#2) set  - unique eleman barındıran ve index ile ulaşılamayan list\n",
    "#3) tuple\n",
    "#4) dict"
   ]
  },
  {
   "cell_type": "code",
   "execution_count": 9,
   "id": "6bec549a",
   "metadata": {},
   "outputs": [
    {
     "name": "stdout",
     "output_type": "stream",
     "text": [
      "33\n",
      "11\n",
      "44\n",
      "22\n",
      "55\n",
      "{33, 99, 11, 44, 22, 55}\n",
      "{33, 99, 199, 11, 44, 22, 55}\n",
      "{99, 199, 11, 44, 22, 55}\n",
      "set()\n"
     ]
    }
   ],
   "source": [
    "sayilarSet = {11,22,33,44,55}\n",
    "for sayi in sayilarSet:\n",
    "        print(sayi)\n",
    "        \n",
    "sayilarSet.add(99)\n",
    "print(sayilarSet)\n",
    "sayilarSet.add(99) #Aynı elemanı ikie kere ekleyemeyiz. Eklersek hata vermez ama eklemez!!!\n",
    "sayilarSet.add(199) #set içerisinde olmayan bir eleman eklenebilir\n",
    "print(sayilarSet)\n",
    "sayilarSet.remove(33)\n",
    "print(sayilarSet)\n",
    "sayilarSet.clear()\n",
    "print(sayilarSet)"
   ]
  },
  {
   "cell_type": "code",
   "execution_count": null,
   "id": "9f67de03",
   "metadata": {},
   "outputs": [],
   "source": [
    "isimlerSet = {\"ahmet\",\"ali\",\"veli\"}\n",
    "isimlerSet = {\"a\",\"b\",\"c\"}\n",
    "\n",
    "bosSet = {}\n",
    "bosSet = set()"
   ]
  }
 ],
 "metadata": {
  "kernelspec": {
   "display_name": "Python 3 (ipykernel)",
   "language": "python",
   "name": "python3"
  },
  "language_info": {
   "codemirror_mode": {
    "name": "ipython",
    "version": 3
   },
   "file_extension": ".py",
   "mimetype": "text/x-python",
   "name": "python",
   "nbconvert_exporter": "python",
   "pygments_lexer": "ipython3",
   "version": "3.9.12"
  }
 },
 "nbformat": 4,
 "nbformat_minor": 5
}
