{
 "cells": [
  {
   "cell_type": "code",
   "execution_count": 28,
   "id": "ca80f203",
   "metadata": {},
   "outputs": [
    {
     "name": "stdout",
     "output_type": "stream",
     "text": [
      "Lütfen 1. tahmininizi giriniz.80\n",
      "Daha küçük bir sayı giriniz. Kalan Hakkınız :  4\n",
      "Lütfen 2. tahmininizi giriniz.40\n",
      "Daha küçük bir sayı giriniz. Kalan Hakkınız :  3\n",
      "Lütfen 3. tahmininizi giriniz.20\n",
      "Daha küçük bir sayı giriniz. Kalan Hakkınız :  2\n",
      "Lütfen 4. tahmininizi giriniz.10\n",
      "Daha küçük bir sayı giriniz. Kalan Hakkınız :  1\n",
      "Lütfen 5. tahmininizi giriniz.5\n",
      "Bildiniz \n",
      "Üretilmiş olan sayı :  5\n"
     ]
    }
   ],
   "source": [
    "import random\n",
    "haklar = [1,2,3,4,5]\n",
    "#0 ile 100 arasında rastgele bir sayı üretiyoruz\n",
    "uretilenSayi = random.randint(0,100)\n",
    "for hak in haklar:\n",
    "    sayi = input(\"Lütfen \"+str(hak)+\". tahmininizi giriniz.\")\n",
    "    tahmin = int(sayi)\n",
    "    #girilen sayı doğru tahmin edilmiş mi diye kontrol ediyoruz\n",
    "    if tahmin == uretilenSayi:\n",
    "        print(\"Bildiniz \")\n",
    "        #Eğer sayı doğru tahmin edilirse for döngüsünü kırıyoruz\n",
    "        break\n",
    "    else:\n",
    "        #Bilemediği durumda büyük veya küçük sayı girmesi gerektiği bilgisini veriyoruz\n",
    "        yonlendirme = \"Daha büyük bir sayı giriniz\"\n",
    "        if tahmin > uretilenSayi:\n",
    "            yonlendirme = \"Daha küçük bir sayı giriniz\"\n",
    "        print(yonlendirme + \". Kalan Hakkınız : \",(len(haklar)-hak))\n",
    "print(\"Üretilmiş olan sayı : \",uretilenSayi)"
   ]
  },
  {
   "cell_type": "code",
   "execution_count": 25,
   "id": "034695fe",
   "metadata": {},
   "outputs": [
    {
     "name": "stdout",
     "output_type": "stream",
     "text": [
      "1\n",
      "2\n",
      "3\n",
      "4\n",
      "5\n"
     ]
    }
   ],
   "source": [
    "haklar = [1,2,3,4,5]\n",
    "for i in range(5):\n",
    "    print(haklar[i])"
   ]
  },
  {
   "cell_type": "code",
   "execution_count": 26,
   "id": "1e169e6c",
   "metadata": {},
   "outputs": [
    {
     "name": "stdout",
     "output_type": "stream",
     "text": [
      "1\n",
      "2\n",
      "3\n",
      "4\n",
      "5\n"
     ]
    }
   ],
   "source": [
    "haklar = [1,2,3,4,5]\n",
    "for hak in haklar:\n",
    "    print(hak)"
   ]
  },
  {
   "cell_type": "code",
   "execution_count": 23,
   "id": "75a43718",
   "metadata": {},
   "outputs": [
    {
     "name": "stdout",
     "output_type": "stream",
     "text": [
      "1\n"
     ]
    }
   ],
   "source": [
    "haklar = [1,2,3,4,5]\n",
    "hak = haklar[0]\n",
    "print(hak)\n",
    "hak = haklar[1]\n",
    "print(hak)\n",
    "hak = haklar[2]\n",
    "print(hak)\n",
    "hak = haklar[3]\n",
    "print(hak)\n",
    "hak = haklar[4]\n",
    "print(hak)"
   ]
  },
  {
   "cell_type": "code",
   "execution_count": null,
   "id": "9b02fde5",
   "metadata": {},
   "outputs": [],
   "source": []
  }
 ],
 "metadata": {
  "kernelspec": {
   "display_name": "Python 3 (ipykernel)",
   "language": "python",
   "name": "python3"
  },
  "language_info": {
   "codemirror_mode": {
    "name": "ipython",
    "version": 3
   },
   "file_extension": ".py",
   "mimetype": "text/x-python",
   "name": "python",
   "nbconvert_exporter": "python",
   "pygments_lexer": "ipython3",
   "version": "3.9.12"
  }
 },
 "nbformat": 4,
 "nbformat_minor": 5
}
