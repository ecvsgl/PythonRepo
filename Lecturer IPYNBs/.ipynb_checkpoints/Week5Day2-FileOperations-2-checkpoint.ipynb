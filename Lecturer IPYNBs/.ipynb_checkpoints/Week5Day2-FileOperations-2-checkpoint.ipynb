{
 "cells": [
  {
   "cell_type": "code",
   "execution_count": 49,
   "id": "950c1fb8",
   "metadata": {},
   "outputs": [],
   "source": [
    "def dollarDictionary(filename,index1,index2):\n",
    "    file = open(filename,\"r\")\n",
    "    lines = file.readlines()\n",
    "    veriler = dict()\n",
    "    for i in range(len(lines)):\n",
    "        if i == 0:\n",
    "            continue\n",
    "        line = lines[i]\n",
    "        print(type(line))\n",
    "        l1 = line.replace('\",\"',';')\n",
    "        l2 = l1.replace('\"','')\n",
    "        data = l2.split(\";\")\n",
    "        #print(data[0],\"--> \",data[2])\n",
    "        veriler[data[index1]] = data[index2]\n",
    "    return veriler"
   ]
  },
  {
   "cell_type": "code",
   "execution_count": 50,
   "id": "4240518e",
   "metadata": {},
   "outputs": [
    {
     "name": "stdout",
     "output_type": "stream",
     "text": [
      "<class 'str'>\n",
      "<class 'str'>\n",
      "<class 'str'>\n",
      "<class 'str'>\n",
      "<class 'str'>\n",
      "<class 'str'>\n",
      "<class 'str'>\n",
      "<class 'str'>\n",
      "<class 'str'>\n",
      "<class 'str'>\n",
      "<class 'str'>\n",
      "<class 'str'>\n",
      "<class 'str'>\n",
      "<class 'str'>\n",
      "<class 'str'>\n",
      "<class 'str'>\n",
      "<class 'str'>\n",
      "<class 'str'>\n",
      "<class 'str'>\n",
      "<class 'str'>\n",
      "<class 'str'>\n",
      "<class 'str'>\n",
      "<class 'str'>\n",
      "18,5879\n"
     ]
    }
   ],
   "source": [
    "dataDictionary = dollarDictionary(\"USD_TRY Geçmiş Verileri.csv\",0,2)\n",
    "print(dataDictionary[\"19.10.2022\"])"
   ]
  },
  {
   "cell_type": "code",
   "execution_count": 35,
   "id": "f1dc384b",
   "metadata": {},
   "outputs": [
    {
     "ename": "FileNotFoundError",
     "evalue": "[Errno 2] No such file or directory: 'https://jsonplaceholder.typicode.com/posts/1/comments'",
     "output_type": "error",
     "traceback": [
      "\u001b[0;31m---------------------------------------------------------------------------\u001b[0m",
      "\u001b[0;31mFileNotFoundError\u001b[0m                         Traceback (most recent call last)",
      "\u001b[0;32m<ipython-input-35-1b5e5ed7ab03>\u001b[0m in \u001b[0;36m<module>\u001b[0;34m\u001b[0m\n\u001b[0;32m----> 1\u001b[0;31m \u001b[0mfile\u001b[0m \u001b[0;34m=\u001b[0m \u001b[0mopen\u001b[0m\u001b[0;34m(\u001b[0m\u001b[0;34m\"https://jsonplaceholder.typicode.com/posts/1/comments\"\u001b[0m\u001b[0;34m,\u001b[0m\u001b[0;34m\"r\"\u001b[0m\u001b[0;34m)\u001b[0m\u001b[0;34m\u001b[0m\u001b[0;34m\u001b[0m\u001b[0m\n\u001b[0m\u001b[1;32m      2\u001b[0m \u001b[0mlines\u001b[0m \u001b[0;34m=\u001b[0m \u001b[0mfile\u001b[0m\u001b[0;34m.\u001b[0m\u001b[0mreadlines\u001b[0m\u001b[0;34m(\u001b[0m\u001b[0;34m)\u001b[0m\u001b[0;34m\u001b[0m\u001b[0;34m\u001b[0m\u001b[0m\n\u001b[1;32m      3\u001b[0m \u001b[0mprint\u001b[0m\u001b[0;34m(\u001b[0m\u001b[0mlines\u001b[0m\u001b[0;34m)\u001b[0m\u001b[0;34m\u001b[0m\u001b[0;34m\u001b[0m\u001b[0m\n",
      "\u001b[0;31mFileNotFoundError\u001b[0m: [Errno 2] No such file or directory: 'https://jsonplaceholder.typicode.com/posts/1/comments'"
     ]
    }
   ],
   "source": [
    "\n",
    "file = open(\"https://jsonplaceholder.typicode.com/posts/1/comments\",\"r\")\n",
    "lines = file.readlines()\n",
    "print(lines)"
   ]
  },
  {
   "cell_type": "code",
   "execution_count": 51,
   "id": "9f1a123e",
   "metadata": {},
   "outputs": [
    {
     "name": "stdout",
     "output_type": "stream",
     "text": [
      "<class 'bytes'>\n",
      "<class 'bytes'>\n",
      "<class 'bytes'>\n",
      "<class 'bytes'>\n",
      "<class 'bytes'>\n",
      "<class 'bytes'>\n",
      "b'    \"email\": \"Eliseo@gardner.biz\",\\n'\n",
      "<class 'bytes'>\n",
      "<class 'bytes'>\n",
      "<class 'bytes'>\n",
      "<class 'bytes'>\n",
      "<class 'bytes'>\n",
      "<class 'bytes'>\n",
      "<class 'bytes'>\n",
      "b'    \"email\": \"Jayne_Kuhic@sydney.com\",\\n'\n",
      "<class 'bytes'>\n",
      "<class 'bytes'>\n",
      "<class 'bytes'>\n",
      "<class 'bytes'>\n",
      "<class 'bytes'>\n",
      "<class 'bytes'>\n",
      "<class 'bytes'>\n",
      "b'    \"email\": \"Nikita@garfield.biz\",\\n'\n",
      "<class 'bytes'>\n",
      "<class 'bytes'>\n",
      "<class 'bytes'>\n",
      "<class 'bytes'>\n",
      "<class 'bytes'>\n",
      "<class 'bytes'>\n",
      "<class 'bytes'>\n",
      "b'    \"email\": \"Lew@alysha.tv\",\\n'\n",
      "<class 'bytes'>\n",
      "<class 'bytes'>\n",
      "<class 'bytes'>\n",
      "<class 'bytes'>\n",
      "<class 'bytes'>\n",
      "<class 'bytes'>\n",
      "<class 'bytes'>\n",
      "b'    \"email\": \"Hayden@althea.biz\",\\n'\n",
      "<class 'bytes'>\n",
      "<class 'bytes'>\n",
      "<class 'bytes'>\n"
     ]
    }
   ],
   "source": [
    "from urllib.request import urlopen\n",
    "link = \"https://jsonplaceholder.typicode.com/posts/1/comments\"\n",
    "f = urlopen(link)\n",
    "lines = f.readlines()\n",
    "for i in range(len(lines)):\n",
    "    line = lines[i]\n",
    "    print(type(line))\n",
    "    #if \"email\" in line:\n",
    "    #    print(line)"
   ]
  },
  {
   "cell_type": "code",
   "execution_count": 57,
   "id": "e8f68ed6",
   "metadata": {},
   "outputs": [
    {
     "name": "stdout",
     "output_type": "stream",
     "text": [
      "<class 'bytes'>\n",
      "<class 'str'>\n"
     ]
    }
   ],
   "source": [
    "isimByte = b'ahmet'\n",
    "print(type(isimByte))\n",
    "isimStr = isimByte.decode(\"utf-8\") \n",
    "print(type(isimStr))"
   ]
  },
  {
   "cell_type": "code",
   "execution_count": 93,
   "id": "161a8e3e",
   "metadata": {},
   "outputs": [
    {
     "name": "stdout",
     "output_type": "stream",
     "text": [
      "<class 'str'>\n",
      "<class 'bytes'>\n",
      "\u0000l\n",
      "\u0000s\n",
      "\u0000x\n",
      "\u0000p\n",
      "\u0000\n"
     ]
    }
   ],
   "source": [
    "isimStr = 'ahmet'\n",
    "print(type(isimStr))\n",
    "isimByte = isimStr.encode(\"utf-8\")\n",
    "print(type(isimByte))\n",
    "for b in isimByte:\n",
    "    print(((b+11).to_bytes(2,'big')).decode(\"utf-8\"))"
   ]
  },
  {
   "cell_type": "code",
   "execution_count": 68,
   "id": "fe63f8c3",
   "metadata": {},
   "outputs": [
    {
     "name": "stdout",
     "output_type": "stream",
     "text": [
      "97\n",
      "98\n"
     ]
    }
   ],
   "source": []
  },
  {
   "cell_type": "code",
   "execution_count": null,
   "id": "5d138476",
   "metadata": {},
   "outputs": [],
   "source": []
  }
 ],
 "metadata": {
  "kernelspec": {
   "display_name": "Python 3 (ipykernel)",
   "language": "python",
   "name": "python3"
  },
  "language_info": {
   "codemirror_mode": {
    "name": "ipython",
    "version": 3
   },
   "file_extension": ".py",
   "mimetype": "text/x-python",
   "name": "python",
   "nbconvert_exporter": "python",
   "pygments_lexer": "ipython3",
   "version": "3.9.12"
  }
 },
 "nbformat": 4,
 "nbformat_minor": 5
}
