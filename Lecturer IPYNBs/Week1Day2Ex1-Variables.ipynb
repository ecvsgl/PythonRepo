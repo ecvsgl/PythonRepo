{
 "cells": [
  {
   "cell_type": "code",
   "execution_count": 1,
   "id": "367141e5",
   "metadata": {},
   "outputs": [],
   "source": [
    "#Bir programlama diliyle program yazmayı öğrenebilmek için şu maddeleri sırayla öğrenmeliyiz\n",
    "#1)Değişken tanımlama ve kullanma\n",
    "#2)Kontrol yapıları ve döngüler (if, for ,while ... )\n",
    "#3)Veri yapıları (list, set, tuple, dict)\n",
    "#4)Method yazma ve çağırma"
   ]
  },
  {
   "cell_type": "code",
   "execution_count": 4,
   "id": "40d4509e",
   "metadata": {},
   "outputs": [
    {
     "name": "stdout",
     "output_type": "stream",
     "text": [
      "<class 'int'>  Tam sayı \n",
      "<class 'float'>  Ondalık sayı \n",
      "<class 'str'>  Kelime (String) \n",
      "<class 'bool'>  Boolean (True/False) \n"
     ]
    }
   ],
   "source": [
    "#Bilmemiz gereken 4 değişken tipi\n",
    "\n",
    "x = 100\n",
    "print(type(x) ,\" Tam sayı \")\n",
    "\n",
    "y = 5.5\n",
    "print(type(y) ,\" Ondalık sayı \")\n",
    "\n",
    "ad = \"Ahmet\"\n",
    "print(type(ad) ,\" Kelime (String) \")\n",
    "\n",
    "z = True\n",
    "print(type(z) ,\" Boolean (True/False) \")"
   ]
  },
  {
   "cell_type": "code",
   "execution_count": 5,
   "id": "a61b3637",
   "metadata": {},
   "outputs": [],
   "source": [
    "#( 5 + 4 ) * ( 4 - (6 + 9)) Burada matematik kuralları geçerlidir"
   ]
  },
  {
   "cell_type": "code",
   "execution_count": 6,
   "id": "bef95185",
   "metadata": {},
   "outputs": [
    {
     "name": "stdout",
     "output_type": "stream",
     "text": [
      "300\n"
     ]
    }
   ],
   "source": [
    "a = 100\n",
    "b = 200\n",
    "c = a + b\n",
    "print(c)"
   ]
  },
  {
   "cell_type": "code",
   "execution_count": 13,
   "id": "9a31ea87",
   "metadata": {},
   "outputs": [
    {
     "name": "stdout",
     "output_type": "stream",
     "text": [
      "AhmetDemirelli\n"
     ]
    }
   ],
   "source": [
    "ad = \"Ahmet\"\n",
    "soyad = \"Demirelli\"\n",
    "toplam = ad + soyad\n",
    "print(toplam)"
   ]
  },
  {
   "cell_type": "code",
   "execution_count": 15,
   "id": "251b2416",
   "metadata": {},
   "outputs": [
    {
     "name": "stdout",
     "output_type": "stream",
     "text": [
      "100Kalem\n"
     ]
    }
   ],
   "source": [
    "d = 100\n",
    "e = \"Kalem\"\n",
    "\n",
    "m = str(d) + e\n",
    "print(m)"
   ]
  },
  {
   "cell_type": "code",
   "execution_count": 11,
   "id": "58917731",
   "metadata": {},
   "outputs": [
    {
     "name": "stdout",
     "output_type": "stream",
     "text": [
      "10000\n"
     ]
    }
   ],
   "source": [
    "print(a)"
   ]
  },
  {
   "cell_type": "code",
   "execution_count": 25,
   "id": "114fca42",
   "metadata": {},
   "outputs": [
    {
     "name": "stdout",
     "output_type": "stream",
     "text": [
      "6005\n"
     ]
    }
   ],
   "source": [
    "x = \"1000\"\n",
    "y = \"5000\"\n",
    "sonuc = int(x) + int(y)\n",
    "print(sonuc + 5)"
   ]
  },
  {
   "cell_type": "code",
   "execution_count": 20,
   "id": "47a1f960",
   "metadata": {},
   "outputs": [
    {
     "ename": "ValueError",
     "evalue": "invalid literal for int() with base 10: '10004abc'",
     "output_type": "error",
     "traceback": [
      "\u001b[0;31m---------------------------------------------------------------------------\u001b[0m",
      "\u001b[0;31mValueError\u001b[0m                                Traceback (most recent call last)",
      "\u001b[0;32m<ipython-input-20-e0e501403ad0>\u001b[0m in \u001b[0;36m<module>\u001b[0;34m\u001b[0m\n\u001b[0;32m----> 1\u001b[0;31m \u001b[0mint\u001b[0m\u001b[0;34m(\u001b[0m\u001b[0;34m\"10004abc\"\u001b[0m\u001b[0;34m)\u001b[0m\u001b[0;34m\u001b[0m\u001b[0;34m\u001b[0m\u001b[0m\n\u001b[0m",
      "\u001b[0;31mValueError\u001b[0m: invalid literal for int() with base 10: '10004abc'"
     ]
    }
   ],
   "source": [
    "#x = \"a\" --> 64 (ascii code) --> 0001000000"
   ]
  },
  {
   "cell_type": "code",
   "execution_count": 26,
   "id": "19607a3a",
   "metadata": {},
   "outputs": [
    {
     "name": "stdout",
     "output_type": "stream",
     "text": [
      "14.5\n"
     ]
    }
   ],
   "source": [
    "x  = 5.5\n",
    "y = 9\n",
    "z = x+y\n",
    "print(z)"
   ]
  },
  {
   "cell_type": "code",
   "execution_count": 30,
   "id": "e0019324",
   "metadata": {},
   "outputs": [],
   "source": [
    "#    >  büyüktür\n",
    "#    <  küçüktür\n",
    "#    <=  küçük eşittir\n",
    "#    >=  büyük eşittir\n",
    "#    !=  eşit değildir\n",
    "#    ==  eşittir"
   ]
  },
  {
   "cell_type": "code",
   "execution_count": 31,
   "id": "a6805ee7",
   "metadata": {},
   "outputs": [
    {
     "data": {
      "text/plain": [
       "False"
      ]
     },
     "execution_count": 31,
     "metadata": {},
     "output_type": "execute_result"
    }
   ],
   "source": [
    "5 > 8"
   ]
  },
  {
   "cell_type": "code",
   "execution_count": null,
   "id": "cdfa30b3",
   "metadata": {},
   "outputs": [],
   "source": []
  }
 ],
 "metadata": {
  "kernelspec": {
   "display_name": "Python 3 (ipykernel)",
   "language": "python",
   "name": "python3"
  },
  "language_info": {
   "codemirror_mode": {
    "name": "ipython",
    "version": 3
   },
   "file_extension": ".py",
   "mimetype": "text/x-python",
   "name": "python",
   "nbconvert_exporter": "python",
   "pygments_lexer": "ipython3",
   "version": "3.9.12"
  }
 },
 "nbformat": 4,
 "nbformat_minor": 5
}
